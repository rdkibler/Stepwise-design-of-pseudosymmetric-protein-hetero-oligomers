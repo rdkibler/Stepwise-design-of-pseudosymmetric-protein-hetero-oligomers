{
 "cells": [
  {
   "cell_type": "code",
   "execution_count": 1,
   "metadata": {},
   "outputs": [],
   "source": [
    "#I need to quantify diversity now"
   ]
  },
  {
   "cell_type": "code",
   "execution_count": 11,
   "metadata": {},
   "outputs": [],
   "source": [
    "import glob\n",
    "import os\n",
    "import pandas as pd\n",
    "import json\n",
    "import numpy as np\n",
    "import gzip\n",
    "from collections import defaultdict"
   ]
  },
  {
   "cell_type": "markdown",
   "metadata": {},
   "source": [
    "# Things that should be packages"
   ]
  },
  {
   "cell_type": "code",
   "execution_count": 3,
   "metadata": {},
   "outputs": [],
   "source": [
    "# from collections.abc import Iterable, MutableSequence\n",
    "# import os\n",
    "# import numpy as np\n",
    "\n",
    "# class SimplePDBParser:\n",
    "#     def __init__(self,data_input=None):\n",
    "#         self.records = []\n",
    "\n",
    "#         #must determine the nature of the data_input\n",
    "#         if type(data_input) == None:\n",
    "#             #nothing to do...\n",
    "#             pass\n",
    "#         elif type(data_input) == Iterable:\n",
    "#             self.parse_stream(data_input)\n",
    "#         elif type(data_input) == str:\n",
    "#             #this could be a number of things\n",
    "#             if os.path.isfile(data_input):\n",
    "#                 self.parse_file(data_input)\n",
    "#             else:\n",
    "#                 self.parse_string(data_input)\n",
    "\n",
    "\n",
    "#     #returns the number of ATOM records with unique chainID and resSeq\n",
    "#     def __len__(self) -> int:\n",
    "#         unique_reses = set()\n",
    "#         for record in self.records:\n",
    "#             if record.record_type == \"ATOM\":\n",
    "#                 unique_reses.add(record.chainID+str(record.resSeq))\n",
    "#         return len(unique_reses)\n",
    "\n",
    "#     #collects all xyz coordinates of all ATOM records and returns them in an array in the order they appear in the pdbs\n",
    "#     def coords(self) -> np.array:\n",
    "#         data = []\n",
    "#         for record in self.records:\n",
    "#             if record.record_type == \"ATOM\":\n",
    "#                 data.append((record.x,record.y,record.z))\n",
    "#         return np.array(data)\n",
    "\n",
    "#     def __str__(self):\n",
    "#         return \"\\n\".join([str(record) for record in self.records])\n",
    "\n",
    "#     #returns an npose based on this pdb file\n",
    "#     def npose(self):\n",
    "#         raise NotImplementedError()\n",
    "\n",
    "\n",
    "#     def extract_chain(self,chainID,preserve_other_records=True):\n",
    "#         new_pdb = SimplePDBParser()\n",
    "#         new_records = []\n",
    "#         for record in self.records:\n",
    "#             if preserve_other_records:\n",
    "#                 if record.record_type != \"ATOM\" or record.chainID == chainID:\n",
    "#                     new_records.append(record)\n",
    "\n",
    "#         new_pdb.records = new_records\n",
    "\n",
    "#         return new_pdb\n",
    "\n",
    "#     class BasicRecord:\n",
    "#         def __init__(self,line):\n",
    "#             self.record_type = \"BASIC\"\n",
    "#             self.data = line.strip()\n",
    "\n",
    "#         def __str__(self):\n",
    "#             return self.data\n",
    "\n",
    "#         def __repr__self():\n",
    "#             return str(self)\n",
    "\n",
    "#     class AtomRecord(BasicRecord):\n",
    "#         def __init__(self,line):\n",
    "#             self.record_type = line[0:6].strip()\n",
    "#             self.serial = int(line[6:11])\n",
    "#             self.name = line[12:16].strip()\n",
    "#             self.altLoc = line[16]\n",
    "#             self.resName = line[17:20].strip()\n",
    "#             self.chainID = line[21]\n",
    "#             self.resSeq = int(line[22:26])\n",
    "#             self.iCode = line[26]\n",
    "#             self.x = float(line[30:38])\n",
    "#             self.y = float(line[38:46])\n",
    "#             self.z = float(line[46:54])\n",
    "#             self.occupancy = float(line[54:60])\n",
    "#             self.tempFactor = float(line[60:66])\n",
    "#             self.element = line[76:78].strip()\n",
    "#             self.charge = line[78:80].strip()\n",
    "\n",
    "#         def __str__(self):\n",
    "#             line = \"\"\n",
    "\n",
    "#             line += self.record_type.ljust(6,' ')\n",
    "#             line += str(self.serial).rjust(5,' ')\n",
    "#             line += \" \"\n",
    "#             line += self.name.ljust(4,' ')\n",
    "#             line += self.altLoc\n",
    "#             line += self.resName.rjust(3,' ')\n",
    "#             line += \" \"\n",
    "#             line += self.chainID\n",
    "#             line += str(self.resSeq).rjust(4,' ')\n",
    "#             line += self.iCode\n",
    "#             line += \"   \"\n",
    "#             line += f\"{self.x:8.3f}\"\n",
    "#             line += f\"{self.y:8.3f}\"\n",
    "#             line += f\"{self.z:8.3f}\"\n",
    "#             line += f\"{self.occupancy:6.2f}\"\n",
    "#             line += f\"{self.tempFactor:6.2f}\"\n",
    "#             line += \"          \"\n",
    "#             line += self.element.rjust(2,' ')\n",
    "#             line += self.charge.rjust(2,' ')\n",
    "\n",
    "#             return line\n",
    "\n",
    "\n",
    "#         def __repr__self():\n",
    "#             return str(self)\n",
    "\n",
    "#     def parse_record(self,line):\n",
    "#         record_type = line[0:6].strip()\n",
    "\n",
    "#         if record_type == \"ATOM\":\n",
    "#             return self.AtomRecord(line)\n",
    "#         else:\n",
    "#             return self.BasicRecord(line)\n",
    "\n",
    "#     def parse_stream(self,pdb_stream):\n",
    "#         #clear the main datatype before refilling to prevent accidental appending\n",
    "#         self.records = []\n",
    "\n",
    "#         for line in pdb_stream:\n",
    "#             self.records.append(self.parse_record(line))\n",
    "\n",
    "#     def parse_file(self,pdb_filename):\n",
    "#         with open(pdb_filename,'r') as f:\n",
    "#             self.parse_stream(f)\n",
    "\n",
    "#     def parse_string(self,pdb_str:str):\n",
    "#         self.parse_stream(pdb_str.split(\"\\n\"))"
   ]
  },
  {
   "cell_type": "markdown",
   "metadata": {},
   "source": [
    "# The rest of it"
   ]
  },
  {
   "cell_type": "code",
   "execution_count": 7,
   "metadata": {},
   "outputs": [],
   "source": [
    "\n",
    "def get_cys_positions(pdb_gz):\n",
    "    positions = set()\n",
    "    with gzip.open(pdb_gz,'rt') as f:\n",
    "        for line in f:\n",
    "            if line.startswith(\"ATOM\") and line[17:20] == \"CYS\":\n",
    "                resi = int(line[22:26])\n",
    "                positions.add(resi)\n",
    "    return positions\n",
    "#     decoy = df[df['review_id'] == name]['decoy'].values[0]\n",
    "#     hbnet_path = hbnet_mapping[decoy]\n",
    "#     print(hbnet_path)\n",
    "#     res_i_n_map = {}\n",
    "#     constraints = []\n",
    "#     with open(hbnet_path,'r') as pdb:\n",
    "#         for line in pdb.readlines():\n",
    "#             if line.startswith(\"ATOM\"):\n",
    "#                 resname = line[17:20].strip()\n",
    "#                 resi = int(line[22:26])\n",
    "#                 res_i_n_map[resi] = resname\n",
    "#             if line[1:9] == \"AtomPair\":\n",
    "#                 constraints.append(line[1:])\n",
    "    \n",
    "#     bonds = []\n",
    "#     for constraint in constraints:\n",
    "#         #1st is acceptor\n",
    "#         #2nd is donor\n",
    "\n",
    "#         #if atom of acceptor is O, that's a bb and I might just ignore.\n",
    "#         acceptor_atom = constraint.split()[1]\n",
    "#         acceptor_resi = int(constraint.split()[2])\n",
    "#         donor_atom = constraint.split()[3]\n",
    "#         donor_resi = int(constraint.split()[4])\n",
    "#         if acceptor_atom != \"O\":\n",
    "#             bonds.append(((donor_resi,res_i_n_map[donor_resi]),(acceptor_resi,res_i_n_map[acceptor_resi])))\n",
    "        \n",
    "        \n",
    "        \n",
    "#     #         HBNet_resis = set()\n",
    "\n",
    "#     #         #convert constraints\n",
    "#     #         adjusted_constraints = []\n",
    "#     #         len_chain_A = 66\n",
    "#     #         for constraint in constraints:\n",
    "#     #                 constraint_parts = constraint.split()\n",
    "#     #                 #oops! hardcoded\n",
    "#     #                 if int(constraint_parts[2]) <= len_chain_A:\n",
    "#     #                         constraint_parts[2] = f\"{constraint_parts[2]}A\"\n",
    "#     #                 else:\n",
    "#     #                         constraint_parts[2] = f\"{int(constraint_parts[2]) + len_chain_A}B\"\n",
    "\n",
    "#     #                 if int(constraint_parts[4]) <= len_chain_A:\n",
    "#     #                         constraint_parts[4] = f\"{constraint_parts[4]}A\"\n",
    "#     #                 else:\n",
    "#     #                         constraint_parts[4] = f\"{int(constraint_parts[4]) + len_chain_A}B\"\n",
    "#     #                 adjusted_constraints.append(\" \".join(constraint_parts) + \"\\n\")\n",
    "\n",
    "#     #         for constraint in adjusted_constraints:\n",
    "#     #                 HBNet_resis.add(constraint.split()[2])\n",
    "#     #                 HBNet_resis.add(constraint.split()[4])\n",
    "\n",
    "#     #         return HBNet_resis\n",
    "#     return bonds"
   ]
  },
  {
   "cell_type": "code",
   "execution_count": null,
   "metadata": {},
   "outputs": [],
   "source": []
  },
  {
   "cell_type": "code",
   "execution_count": 3,
   "metadata": {},
   "outputs": [],
   "source": [
    "all_ss_pdbs = glob.glob(\"output/*.pdb.gz\") + glob.glob(\"manual/*.pdb.gz\")"
   ]
  },
  {
   "cell_type": "code",
   "execution_count": 84,
   "metadata": {},
   "outputs": [
    {
     "name": "stdout",
     "output_type": "stream",
     "text": [
      "manual/RC_4_20_nmp1_redesign_11_handstaple.pdb.gz (1, 168)\n",
      "output/RC_4_20_nmp1_redesign_01_staple_0.pdb.gz (17, 184)\n",
      "output/RC_4_20_nmp1_redesign_01_staple_1.pdb.gz (8, 175)\n",
      "output/RC_4_20_nmp1_redesign_04_staple_0.pdb.gz (11, 175)\n",
      "output/RC_4_20_nmp1_redesign_04_staple_1.pdb.gz (11, 175)\n",
      "output/RC_4_20_nmp1_redesign_04_staple_2.pdb.gz (8, 175)\n",
      "output/RC_4_20_nmp1_redesign_08_staple_0.pdb.gz (22, 218)\n",
      "output/RC_4_20_nmp1_redesign_08_staple_1.pdb.gz (22, 218)\n",
      "output/RC_4_20_nmp1_redesign_08_staple_2.pdb.gz (22, 218)\n",
      "output/RC_4_20_nmp1_redesign_08_staple_3.pdb.gz (25, 214)\n",
      "output/RC_4_20_nmp1_redesign_08_staple_4.pdb.gz (22, 218)\n",
      "output/RC_4_20_nmp1_redesign_09_staple_0.pdb.gz (22, 218)\n",
      "output/RC_4_20_nmp1_redesign_09_staple_1.pdb.gz (5, 171)\n",
      "output/RC_4_20_nmp1_redesign_09_staple_2.pdb.gz (25, 214)\n",
      "output/RC_4_20_nmp1_redesign_13_staple_0.pdb.gz (22, 218)\n",
      "output/RC_4_20_nmp1_redesign_13_staple_1.pdb.gz (22, 218)\n",
      "output/RC_4_20_nmp1_redesign_13_staple_2.pdb.gz (12, 178)\n",
      "output/RC_4_20_nmp1_redesign_13_staple_3.pdb.gz (22, 218)\n",
      "output/RC_4_20_nmp1_redesign_13_staple_4.pdb.gz (22, 218)\n",
      "output/RC_4_20_nmp1_redesign_16_staple_0.pdb.gz (22, 218)\n",
      "output/RC_4_20_nmp1_redesign_16_staple_1.pdb.gz (5, 171)\n",
      "output/RC_4_20_nmp1_redesign_16_staple_2.pdb.gz (4, 168)\n",
      "output/RC_4_20_nmp1_redesign_25_staple_0.pdb.gz (28, 195)\n",
      "output/RC_4_20_nmp1_redesign_25_staple_1.pdb.gz (28, 195)\n",
      "output/RC_4_20_nmp1_redesign_32_staple_0.pdb.gz (4, 192)\n",
      "output/RC_4_20_nmp1_redesign_32_staple_1.pdb.gz (5, 171)\n",
      "output/RC_4_20_nmp1_redesign_33_staple_0.pdb.gz (21, 191)\n",
      "output/RC_4_20_nmp1_redesign_33_staple_1.pdb.gz (5, 171)\n",
      "output/RC_4_20_nmp1_redesign_37_staple_0.pdb.gz (12, 178)\n",
      "output/RC_4_20_nmp1_redesign_37_staple_1.pdb.gz (4, 171)\n",
      "output/RC_4_20_nmp1_redesign_38_staple_0.pdb.gz (8, 174)\n",
      "output/RC_4_20_nmp1_redesign_38_staple_1.pdb.gz (8, 174)\n",
      "output/RC_4_20_nmp1_redesign_41_staple_0.pdb.gz (22, 218)\n",
      "output/RC_4_20_nmp1_redesign_41_staple_1.pdb.gz (28, 195)\n",
      "output/RC_4_20_nmp1_redesign_41_staple_2.pdb.gz (25, 214)\n",
      "output/RC_4_20_nmp1_redesign_41_staple_3.pdb.gz (22, 218)\n",
      "output/RC_4_20_nmp1_redesign_41_staple_4.pdb.gz (22, 218)\n",
      "output/RC_4_20_nmp1_redesign_42_staple_0.pdb.gz (12, 178)\n",
      "output/RC_4_20_nmp1_redesign_46_staple_0.pdb.gz (25, 214)\n",
      "output/RC_4_20_nmp1_redesign_54_staple_0.pdb.gz (8, 175)\n",
      "output/RC_4_20_nmp1_redesign_57_staple_0.pdb.gz (11, 175)\n",
      "output/RC_4_20_nmp1_redesign_57_staple_1.pdb.gz (11, 175)\n",
      "output/RC_4_20_nmp1_redesign_57_staple_2.pdb.gz (11, 175)\n",
      "output/RC_4_20_nmp1_redesign_57_staple_3.pdb.gz (11, 175)\n",
      "output/RC_4_20_nmp1_redesign_57_staple_4.pdb.gz (8, 174)\n",
      "output/RC_4_20_nmp1_redesign_57_staple_5.pdb.gz (11, 175)\n",
      "output/RC_4_20_nmp1_redesign_57_staple_6.pdb.gz (8, 174)\n",
      "output/RC_4_20_nmp1_redesign_57_staple_7.pdb.gz (8, 174)\n",
      "output/RC_4_20_nmp1_redesign_57_staple_8.pdb.gz (8, 174)\n",
      "output/RC_4_20_nmp1_redesign_62_staple_0.pdb.gz (25, 214)\n",
      "output/RC_4_20_nmp1_redesign_62_staple_1.pdb.gz (3, 192)\n",
      "output/RC_4_20_nmp1_redesign_62_staple_2.pdb.gz (5, 171)\n",
      "output/RC_4_20_nmp1_redesign_62_staple_3.pdb.gz (12, 178)\n",
      "output/RC_4_20_nmp1_redesign_62_staple_4.pdb.gz (3, 192)\n",
      "output/RC_4_20_nmp1_redesign_62_staple_5.pdb.gz (3, 192)\n",
      "output/RC_4_20_nmp1_redesign_62_staple_6.pdb.gz (5, 171)\n",
      "output/RC_4_20_nmp1_redesign_62_staple_7.pdb.gz (3, 192)\n",
      "output/RC_4_20_nmp1_redesign_62_staple_8.pdb.gz (25, 214)\n",
      "output/RC_4_20_nmp1_redesign_64_staple_0.pdb.gz (12, 178)\n",
      "output/RC_4_20_nmp1_redesign_70_staple_0.pdb.gz (4, 192)\n",
      "output/RC_4_20_nmp1_redesign_70_staple_1.pdb.gz (4, 192)\n",
      "output/RC_4_20_nmp1_redesign_70_staple_2.pdb.gz (4, 192)\n",
      "output/RC_4_20_nmp1_redesign_70_staple_3.pdb.gz (25, 214)\n",
      "output/RC_4_20_nmp1_redesign_71_staple_0.pdb.gz (1, 167)\n",
      "output/RC_4_20_nmp1_redesign_71_staple_1.pdb.gz (5, 171)\n",
      "output/RC_4_20_nmp1_redesign_71_staple_2.pdb.gz (8, 175)\n",
      "output/RC_4_20_nmp1_redesign_74_staple_0.pdb.gz (12, 178)\n",
      "output/RC_4_20_nmp1_redesign_74_staple_1.pdb.gz (3, 192)\n",
      "output/RC_4_20_nmp1_redesign_74_staple_2.pdb.gz (5, 171)\n",
      "output/RC_4_20_nmp1_redesign_74_staple_3.pdb.gz (3, 192)\n",
      "output/RC_4_20_nmp1_redesign_78_staple_0.pdb.gz (22, 218)\n",
      "output/RC_4_20_nmp1_redesign_78_staple_1.pdb.gz (22, 218)\n",
      "output/RC_4_20_nmp1_redesign_79_staple_0.pdb.gz (12, 178)\n"
     ]
    }
   ],
   "source": [
    "groups = defaultdict(lambda:[])\n",
    "for ss_pdb in sorted(all_ss_pdbs):\n",
    "    ss_position = tuple(sorted(get_cys_positions(ss_pdb)))\n",
    "    groups[ss_position].append(ss_pdb)\n",
    "    print(ss_pdb,ss_position)"
   ]
  },
  {
   "cell_type": "code",
   "execution_count": 83,
   "metadata": {},
   "outputs": [
    {
     "data": {
      "text/plain": [
       "defaultdict(<function __main__.<lambda>()>,\n",
       "            {(1, 168): ['manual/RC_4_20_nmp1_redesign_11_handstaple.pdb.gz'],\n",
       "             (17, 184): ['output/RC_4_20_nmp1_redesign_01_staple_0.pdb.gz'],\n",
       "             (8, 175): ['output/RC_4_20_nmp1_redesign_01_staple_1.pdb.gz',\n",
       "              'output/RC_4_20_nmp1_redesign_04_staple_2.pdb.gz',\n",
       "              'output/RC_4_20_nmp1_redesign_54_staple_0.pdb.gz',\n",
       "              'output/RC_4_20_nmp1_redesign_71_staple_2.pdb.gz'],\n",
       "             (11, 175): ['output/RC_4_20_nmp1_redesign_04_staple_0.pdb.gz',\n",
       "              'output/RC_4_20_nmp1_redesign_04_staple_1.pdb.gz',\n",
       "              'output/RC_4_20_nmp1_redesign_57_staple_0.pdb.gz',\n",
       "              'output/RC_4_20_nmp1_redesign_57_staple_1.pdb.gz',\n",
       "              'output/RC_4_20_nmp1_redesign_57_staple_2.pdb.gz',\n",
       "              'output/RC_4_20_nmp1_redesign_57_staple_3.pdb.gz',\n",
       "              'output/RC_4_20_nmp1_redesign_57_staple_5.pdb.gz'],\n",
       "             (22, 218): ['output/RC_4_20_nmp1_redesign_08_staple_0.pdb.gz',\n",
       "              'output/RC_4_20_nmp1_redesign_08_staple_1.pdb.gz',\n",
       "              'output/RC_4_20_nmp1_redesign_08_staple_2.pdb.gz',\n",
       "              'output/RC_4_20_nmp1_redesign_08_staple_4.pdb.gz',\n",
       "              'output/RC_4_20_nmp1_redesign_09_staple_0.pdb.gz',\n",
       "              'output/RC_4_20_nmp1_redesign_13_staple_0.pdb.gz',\n",
       "              'output/RC_4_20_nmp1_redesign_13_staple_1.pdb.gz',\n",
       "              'output/RC_4_20_nmp1_redesign_13_staple_3.pdb.gz',\n",
       "              'output/RC_4_20_nmp1_redesign_13_staple_4.pdb.gz',\n",
       "              'output/RC_4_20_nmp1_redesign_16_staple_0.pdb.gz',\n",
       "              'output/RC_4_20_nmp1_redesign_41_staple_0.pdb.gz',\n",
       "              'output/RC_4_20_nmp1_redesign_41_staple_3.pdb.gz',\n",
       "              'output/RC_4_20_nmp1_redesign_41_staple_4.pdb.gz',\n",
       "              'output/RC_4_20_nmp1_redesign_78_staple_0.pdb.gz',\n",
       "              'output/RC_4_20_nmp1_redesign_78_staple_1.pdb.gz'],\n",
       "             (25, 214): ['output/RC_4_20_nmp1_redesign_08_staple_3.pdb.gz',\n",
       "              'output/RC_4_20_nmp1_redesign_09_staple_2.pdb.gz',\n",
       "              'output/RC_4_20_nmp1_redesign_41_staple_2.pdb.gz',\n",
       "              'output/RC_4_20_nmp1_redesign_46_staple_0.pdb.gz',\n",
       "              'output/RC_4_20_nmp1_redesign_62_staple_0.pdb.gz',\n",
       "              'output/RC_4_20_nmp1_redesign_62_staple_8.pdb.gz',\n",
       "              'output/RC_4_20_nmp1_redesign_70_staple_3.pdb.gz'],\n",
       "             (5, 171): ['output/RC_4_20_nmp1_redesign_09_staple_1.pdb.gz',\n",
       "              'output/RC_4_20_nmp1_redesign_16_staple_1.pdb.gz',\n",
       "              'output/RC_4_20_nmp1_redesign_32_staple_1.pdb.gz',\n",
       "              'output/RC_4_20_nmp1_redesign_33_staple_1.pdb.gz',\n",
       "              'output/RC_4_20_nmp1_redesign_62_staple_2.pdb.gz',\n",
       "              'output/RC_4_20_nmp1_redesign_62_staple_6.pdb.gz',\n",
       "              'output/RC_4_20_nmp1_redesign_71_staple_1.pdb.gz',\n",
       "              'output/RC_4_20_nmp1_redesign_74_staple_2.pdb.gz'],\n",
       "             (12, 178): ['output/RC_4_20_nmp1_redesign_13_staple_2.pdb.gz',\n",
       "              'output/RC_4_20_nmp1_redesign_37_staple_0.pdb.gz',\n",
       "              'output/RC_4_20_nmp1_redesign_42_staple_0.pdb.gz',\n",
       "              'output/RC_4_20_nmp1_redesign_62_staple_3.pdb.gz',\n",
       "              'output/RC_4_20_nmp1_redesign_64_staple_0.pdb.gz',\n",
       "              'output/RC_4_20_nmp1_redesign_74_staple_0.pdb.gz',\n",
       "              'output/RC_4_20_nmp1_redesign_79_staple_0.pdb.gz'],\n",
       "             (4, 168): ['output/RC_4_20_nmp1_redesign_16_staple_2.pdb.gz'],\n",
       "             (28, 195): ['output/RC_4_20_nmp1_redesign_25_staple_0.pdb.gz',\n",
       "              'output/RC_4_20_nmp1_redesign_25_staple_1.pdb.gz',\n",
       "              'output/RC_4_20_nmp1_redesign_41_staple_1.pdb.gz'],\n",
       "             (4, 192): ['output/RC_4_20_nmp1_redesign_32_staple_0.pdb.gz',\n",
       "              'output/RC_4_20_nmp1_redesign_70_staple_0.pdb.gz',\n",
       "              'output/RC_4_20_nmp1_redesign_70_staple_1.pdb.gz',\n",
       "              'output/RC_4_20_nmp1_redesign_70_staple_2.pdb.gz'],\n",
       "             (21, 191): ['output/RC_4_20_nmp1_redesign_33_staple_0.pdb.gz'],\n",
       "             (4, 171): ['output/RC_4_20_nmp1_redesign_37_staple_1.pdb.gz'],\n",
       "             (8, 174): ['output/RC_4_20_nmp1_redesign_38_staple_0.pdb.gz',\n",
       "              'output/RC_4_20_nmp1_redesign_38_staple_1.pdb.gz',\n",
       "              'output/RC_4_20_nmp1_redesign_57_staple_4.pdb.gz',\n",
       "              'output/RC_4_20_nmp1_redesign_57_staple_6.pdb.gz',\n",
       "              'output/RC_4_20_nmp1_redesign_57_staple_7.pdb.gz',\n",
       "              'output/RC_4_20_nmp1_redesign_57_staple_8.pdb.gz'],\n",
       "             (3, 192): ['output/RC_4_20_nmp1_redesign_62_staple_1.pdb.gz',\n",
       "              'output/RC_4_20_nmp1_redesign_62_staple_4.pdb.gz',\n",
       "              'output/RC_4_20_nmp1_redesign_62_staple_5.pdb.gz',\n",
       "              'output/RC_4_20_nmp1_redesign_62_staple_7.pdb.gz',\n",
       "              'output/RC_4_20_nmp1_redesign_74_staple_1.pdb.gz',\n",
       "              'output/RC_4_20_nmp1_redesign_74_staple_3.pdb.gz'],\n",
       "             (1, 167): ['output/RC_4_20_nmp1_redesign_71_staple_0.pdb.gz']})"
      ]
     },
     "execution_count": 83,
     "metadata": {},
     "output_type": "execute_result"
    }
   ],
   "source": [
    "groups"
   ]
  },
  {
   "cell_type": "code",
   "execution_count": null,
   "metadata": {},
   "outputs": [],
   "source": [
    "#goal: pick the set of designs with the least shared ss positions"
   ]
  },
  {
   "cell_type": "code",
   "execution_count": null,
   "metadata": {},
   "outputs": [],
   "source": []
  },
  {
   "cell_type": "code",
   "execution_count": null,
   "metadata": {},
   "outputs": [],
   "source": []
  },
  {
   "cell_type": "code",
   "execution_count": null,
   "metadata": {},
   "outputs": [],
   "source": []
  },
  {
   "cell_type": "code",
   "execution_count": null,
   "metadata": {},
   "outputs": [],
   "source": []
  },
  {
   "cell_type": "markdown",
   "metadata": {},
   "source": [
    "# garbage down here is me trying to figure out which is the \"best\" ss. I gave up"
   ]
  },
  {
   "cell_type": "code",
   "execution_count": 37,
   "metadata": {},
   "outputs": [
    {
     "name": "stdout",
     "output_type": "stream",
     "text": [
      "PyRosetta-4 2020 [Rosetta PyRosetta4.conda.linux.cxx11thread.serialization.CentOS.python37.Release 2020.23+release.0d6f90a8cb9fa0567ca76bb71ee93bfe73340c70 2020-06-04T19:12:24] retrieved from: http://www.pyrosetta.org\n",
      "(C) Copyright Rosetta Commons Member Institutions. Created in JHU by Sergey Lyskov and PyRosetta Team.\n",
      "core.init: {0} Checking for fconfig files in pwd and ./rosetta/flags\n",
      "core.init: {0} Rosetta version: PyRosetta4.conda.linux.cxx11thread.serialization.CentOS.python37.Release r257 2020.23+release.0d6f90a 0d6f90a8cb9fa0567ca76bb71ee93bfe73340c70 http://www.pyrosetta.org 2020-06-04T19:12:24\n",
      "core.init: {0} command: PyRosetta -corrections::beta_nov16 -detect_disulf 0 -database /home/rdkibler/.conda/envs/pyro/lib/python3.7/site-packages/pyrosetta/database\n",
      "basic.random.init_random_generator: {0} 'RNG device' seed mode, using '/dev/urandom', seed=1274709738 seed_offset=0 real_seed=1274709738 thread_index=0\n",
      "basic.random.init_random_generator: {0} RandomGenerator:init: Normal mode, seed=1274709738 RG_type=mt19937\n"
     ]
    }
   ],
   "source": [
    "import pyrosetta\n",
    "#pyrosetta.init('-corrections::beta_nov16 -detect_disulf 1 ')\n",
    "pyrosetta.init('-corrections::beta_nov16 -detect_disulf 0 ')"
   ]
  },
  {
   "cell_type": "code",
   "execution_count": 38,
   "metadata": {},
   "outputs": [
    {
     "name": "stdout",
     "output_type": "stream",
     "text": [
      "core.import_pose.import_pose: {0} File 'output/RC_4_20_nmp1_redesign_74_staple_1.pdb.gz' automatically determined to be of type PDB\n"
     ]
    }
   ],
   "source": [
    "pose = pyrosetta.pose_from_file(all_ss_pdbs[0])"
   ]
  },
  {
   "cell_type": "code",
   "execution_count": 40,
   "metadata": {},
   "outputs": [
    {
     "name": "stdout",
     "output_type": "stream",
     "text": [
      "PDB file name: output/RC_4_20_nmp1_redesign_74_staple_1.pdb.gz\n",
      "Total residues: 1104\n",
      "Sequence: DECLEAAAALGQAGIDAKEINELLLAIQQLGLDPDAIQAAAQLGEAGISSEEILELLRAAHELGLDPDAIAAAADLGQAGISSEEILELLRAAHELGLDPDAIQAAAALGEAGISSEEILELLRAAHELGLDPDAIQAAAQLGEAGISSEEILELLRAAHELGFSPRAIAVAAWFGKLGISSEQITILMLSCAASQLAREADDKDVREIVELALELVSKSKNDEVAKLASRAAYLAARSTDQEVLEEVKEALRRAKESTDEEEIKEELRKAVEEAEDECLEAAAALGQAGIDAKEINELLLAIQQLGLDPDAIQAAAQLGEAGISSEEILELLRAAHELGLDPDAIAAAADLGQAGISSEEILELLRAAHELGLDPDAIQAAAALGEAGISSEEILELLRAAHELGLDPDAIQAAAQLGEAGISSEEILELLRAAHELGFSPRAIAVAAWFGKLGISSEQITILMLSCAASQLAREADDKDVREIVELALELVSKSKNDEVAKLASRAAYLAARSTDQEVLEEVKEALRRAKESTDEEEIKEELRKAVEEAEDECLEAAAALGQAGIDAKEINELLLAIQQLGLDPDAIQAAAQLGEAGISSEEILELLRAAHELGLDPDAIAAAADLGQAGISSEEILELLRAAHELGLDPDAIQAAAALGEAGISSEEILELLRAAHELGLDPDAIQAAAQLGEAGISSEEILELLRAAHELGFSPRAIAVAAWFGKLGISSEQITILMLSCAASQLAREADDKDVREIVELALELVSKSKNDEVAKLASRAAYLAARSTDQEVLEEVKEALRRAKESTDEEEIKEELRKAVEEAEDECLEAAAALGQAGIDAKEINELLLAIQQLGLDPDAIQAAAQLGEAGISSEEILELLRAAHELGLDPDAIAAAADLGQAGISSEEILELLRAAHELGLDPDAIQAAAALGEAGISSEEILELLRAAHELGLDPDAIQAAAQLGEAGISSEEILELLRAAHELGFSPRAIAVAAWFGKLGISSEQITILMLSCAASQLAREADDKDVREIVELALELVSKSKNDEVAKLASRAAYLAARSTDQEVLEEVKEALRRAKESTDEEEIKEELRKAVEEAE\n",
      "Fold tree:\n",
      "FOLD_TREE  EDGE 1 276 -1  EDGE 1 277 1  EDGE 277 552 -1  EDGE 1 553 2  EDGE 553 828 -1  EDGE 1 829 3  EDGE 829 1104 -1 \n"
     ]
    }
   ],
   "source": [
    "print(pose)"
   ]
  },
  {
   "cell_type": "code",
   "execution_count": 42,
   "metadata": {},
   "outputs": [],
   "source": [
    "disulfide_entropy = pyrosetta.rosetta.protocols.simple_filters.DisulfideEntropyFilter()"
   ]
  },
  {
   "cell_type": "code",
   "execution_count": 43,
   "metadata": {},
   "outputs": [
    {
     "data": {
      "text/plain": [
       "0.0"
      ]
     },
     "execution_count": 43,
     "metadata": {},
     "output_type": "execute_result"
    }
   ],
   "source": [
    "disulfide_entropy.compute(pose)"
   ]
  },
  {
   "cell_type": "code",
   "execution_count": 44,
   "metadata": {},
   "outputs": [],
   "source": [
    "pose.conformation().detect_disulfides()"
   ]
  },
  {
   "cell_type": "code",
   "execution_count": 45,
   "metadata": {},
   "outputs": [
    {
     "data": {
      "text/plain": [
       "0.0"
      ]
     },
     "execution_count": 45,
     "metadata": {},
     "output_type": "execute_result"
    }
   ],
   "source": [
    "disulfide_entropy.compute(pose)"
   ]
  },
  {
   "cell_type": "code",
   "execution_count": 27,
   "metadata": {},
   "outputs": [],
   "source": [
    "#pyrosetta.rosetta.protocols.symmetry.DetectSymmetry().apply(pose)"
   ]
  },
  {
   "cell_type": "code",
   "execution_count": 29,
   "metadata": {},
   "outputs": [
    {
     "name": "stdout",
     "output_type": "stream",
     "text": [
      "core.scoring.ScoreFunctionFactory: {0} SCOREFUNCTION: beta_nov16.wts\n",
      "core.scoring.etable: {0} Starting energy table calculation\n",
      "core.scoring.etable: {0} smooth_etable: changing atr/rep split to bottom of energy well\n",
      "core.scoring.etable: {0} smooth_etable: spline smoothing lj etables (maxdis = 6)\n",
      "core.scoring.etable: {0} smooth_etable: spline smoothing solvation etables (max_dis = 6)\n",
      "core.scoring.etable: {0} Finished calculating energy tables.\n",
      "basic.io.database: {0} Database file opened: scoring/score_functions/hbonds/ref2015_params/HBPoly1D.csv\n",
      "basic.io.database: {0} Database file opened: scoring/score_functions/hbonds/ref2015_params/HBFadeIntervals.csv\n",
      "basic.io.database: {0} Database file opened: scoring/score_functions/hbonds/ref2015_params/HBEval.csv\n",
      "basic.io.database: {0} Database file opened: scoring/score_functions/hbonds/ref2015_params/DonStrength.csv\n",
      "basic.io.database: {0} Database file opened: scoring/score_functions/hbonds/ref2015_params/AccStrength.csv\n",
      "basic.io.database: {0} Database file opened: scoring/score_functions/rama/fd_beta_nov2016/all.ramaProb\n",
      "basic.io.database: {0} Database file opened: scoring/score_functions/rama/fd_beta_nov2016/prepro.ramaProb\n",
      "basic.io.database: {0} Database file opened: scoring/score_functions/omega/omega_ppdep.all.txt\n",
      "basic.io.database: {0} Database file opened: scoring/score_functions/omega/omega_ppdep.gly.txt\n",
      "basic.io.database: {0} Database file opened: scoring/score_functions/omega/omega_ppdep.pro.txt\n",
      "basic.io.database: {0} Database file opened: scoring/score_functions/omega/omega_ppdep.valile.txt\n",
      "basic.io.database: {0} Database file opened: scoring/score_functions/P_AA_pp/P_AA\n",
      "basic.io.database: {0} Database file opened: scoring/score_functions/P_AA_pp/P_AA_n\n",
      "core.scoring.P_AA: {0} shapovalov_lib::shap_p_aa_pp_smooth_level of 1( aka low_smooth ) got activated.\n",
      "basic.io.database: {0} Database file opened: scoring/score_functions/P_AA_pp/shapovalov/10deg/kappa131/a20.prop\n",
      "basic.io.database: {0} Database file opened: scoring/score_functions/bondlength_bondangle/hydroxyl_torsion_preference.txt\n"
     ]
    }
   ],
   "source": [
    "scom = pyrosetta.rosetta.protocols.simple_moves.SwitchChainOrderMover()\n",
    "scom.chain_order(\"AB\")\n"
   ]
  },
  {
   "cell_type": "code",
   "execution_count": 30,
   "metadata": {},
   "outputs": [
    {
     "name": "stdout",
     "output_type": "stream",
     "text": [
      "protocols.simple_moves.SwitchChainOrderMover: {0} Number of chains in pose: 4\n",
      "protocols.simple_moves.SwitchChainOrderMover: {0} Now at chain: 1\n",
      "protocols.simple_moves.SwitchChainOrderMover: {0} Now at chain: 2\n",
      "core.conformation.Conformation: {0} Reverting out-of-date disulfide to thiol type at resid 3\n",
      "core.conformation.Conformation: {0} Reverting out-of-date disulfide to thiol type at resid 192\n",
      "core.conformation.Conformation: {0} Reverting out-of-date disulfide to thiol type at resid 279\n",
      "core.conformation.Conformation: {0} Reverting out-of-date disulfide to thiol type at resid 468\n",
      "basic.io.database: {0} Database file opened: scoring/score_functions/elec_cp_reps.dat\n",
      "core.scoring.elec.util: {0} Read 40 countpair representative atoms\n",
      "core.pack.dunbrack.RotamerLibrary: {0} shapovalov_lib_fixes_enable option is true.\n",
      "core.pack.dunbrack.RotamerLibrary: {0} Binary rotamer library selected: /home/rdkibler/.conda/envs/pyro/lib/python3.7/site-packages/pyrosetta/database/rotamer/beta_nov2016/Dunbrack10.lib.bin\n",
      "core.pack.dunbrack.RotamerLibrary: {0} Using Dunbrack library binary file '/home/rdkibler/.conda/envs/pyro/lib/python3.7/site-packages/pyrosetta/database/rotamer/beta_nov2016/Dunbrack10.lib.bin'.\n",
      "core.pack.dunbrack.RotamerLibrary: {0} Dunbrack 2010 library took 0.30696 seconds to load from binary\n",
      "protocols.simple_moves.SwitchChainOrderMover: {0} New pose's foldtree FOLD_TREE  EDGE 1 276 -1  EDGE 1 277 1  EDGE 277 552 -1\n"
     ]
    }
   ],
   "source": [
    "scom.apply(pose)"
   ]
  },
  {
   "cell_type": "code",
   "execution_count": 62,
   "metadata": {},
   "outputs": [],
   "source": [
    "force_disulfides = pyrosetta.rosetta.protocols.calc_taskop_movers.ForceDisulfidesMover()\n",
    "disulfides_list = pyrosetta.rosetta.utility.vector1_std_pair_unsigned_long_unsigned_long_t()\n",
    "disulfides_list.append(tuple(get_cys_positions(all_ss_pdbs[0])))\n",
    "force_disulfides.disulfides(disulfides_list)"
   ]
  },
  {
   "cell_type": "code",
   "execution_count": 64,
   "metadata": {},
   "outputs": [
    {
     "name": "stdout",
     "output_type": "stream",
     "text": [
      "protocols.simple_moves.ForceDisulfidesMover: {0} Fixing disulfides\n",
      "core.pack.task: {0} Packer task: initialize from command line()\n",
      "protocols.simple_moves.ForceDisulfidesMover: {0} repacking disulfide surroundings\n",
      "protocols.minimization_packing.PackRotamersMover: {0} [ WARNING ] undefined ScoreFunction -- creating a default one\n",
      "core.scoring.ScoreFunctionFactory: {0} SCOREFUNCTION: beta_nov16.wts\n",
      "core.pack.pack_rotamers: {0} built 107 rotamers at 7 positions.\n",
      "core.pack.pack_rotamers: {0} Requesting all available threads for interaction graph computation.\n",
      "core.pack.interaction_graph.interaction_graph_factory: {0} Instantiating DensePDInteractionGraph\n",
      "basic.thread_manager.RosettaThreadManager: {?} Creating a thread pool of 1 threads.\n",
      "basic.thread_manager.RosettaThreadPool: {?} Launched 0 new threads.\n",
      "core.pack.rotamer_set.RotamerSets: {0} Completed interaction graph pre-calculation in 1 available threads (1 had been requested).\n"
     ]
    }
   ],
   "source": [
    "force_disulfides.apply(pose)"
   ]
  },
  {
   "cell_type": "code",
   "execution_count": 66,
   "metadata": {},
   "outputs": [
    {
     "name": "stdout",
     "output_type": "stream",
     "text": [
      "PDB file name: output/RC_4_20_nmp1_redesign_74_staple_1.pdb.gz\n",
      "Total residues: 1104\n",
      "Sequence: DECLEAAAALGQAGIDAKEINELLLAIQQLGLDPDAIQAAAQLGEAGISSEEILELLRAAHELGLDPDAIAAAADLGQAGISSEEILELLRAAHELGLDPDAIQAAAALGEAGISSEEILELLRAAHELGLDPDAIQAAAQLGEAGISSEEILELLRAAHELGFSPRAIAVAAWFGKLGISSEQITILMLSCAASQLAREADDKDVREIVELALELVSKSKNDEVAKLASRAAYLAARSTDQEVLEEVKEALRRAKESTDEEEIKEELRKAVEEAEDECLEAAAALGQAGIDAKEINELLLAIQQLGLDPDAIQAAAQLGEAGISSEEILELLRAAHELGLDPDAIAAAADLGQAGISSEEILELLRAAHELGLDPDAIQAAAALGEAGISSEEILELLRAAHELGLDPDAIQAAAQLGEAGISSEEILELLRAAHELGFSPRAIAVAAWFGKLGISSEQITILMLSCAASQLAREADDKDVREIVELALELVSKSKNDEVAKLASRAAYLAARSTDQEVLEEVKEALRRAKESTDEEEIKEELRKAVEEAEDECLEAAAALGQAGIDAKEINELLLAIQQLGLDPDAIQAAAQLGEAGISSEEILELLRAAHELGLDPDAIAAAADLGQAGISSEEILELLRAAHELGLDPDAIQAAAALGEAGISSEEILELLRAAHELGLDPDAIQAAAQLGEAGISSEEILELLRAAHELGFSPRAIAVAAWFGKLGISSEQITILMLSCAASQLAREADDKDVREIVELALELVSKSKNDEVAKLASRAAYLAARSTDQEVLEEVKEALRRAKESTDEEEIKEELRKAVEEAEDECLEAAAALGQAGIDAKEINELLLAIQQLGLDPDAIQAAAQLGEAGISSEEILELLRAAHELGLDPDAIAAAADLGQAGISSEEILELLRAAHELGLDPDAIQAAAALGEAGISSEEILELLRAAHELGLDPDAIQAAAQLGEAGISSEEILELLRAAHELGFSPRAIAVAAWFGKLGISSEQITILMLSCAASQLAREADDKDVREIVELALELVSKSKNDEVAKLASRAAYLAARSTDQEVLEEVKEALRRAKESTDEEEIKEELRKAVEEAE\n",
      "Fold tree:\n",
      "FOLD_TREE  EDGE 1 276 -1  EDGE 1 277 1  EDGE 277 552 -1  EDGE 1 553 2  EDGE 553 828 -1  EDGE 1 829 3  EDGE 829 1104 -1 \n"
     ]
    }
   ],
   "source": [
    "print(pose)"
   ]
  },
  {
   "cell_type": "code",
   "execution_count": 67,
   "metadata": {},
   "outputs": [
    {
     "data": {
      "text/plain": [
       "True"
      ]
     },
     "execution_count": 67,
     "metadata": {},
     "output_type": "execute_result"
    }
   ],
   "source": [
    "pose.dump_pdb(\"test.pdb\")"
   ]
  },
  {
   "cell_type": "code",
   "execution_count": 47,
   "metadata": {},
   "outputs": [
    {
     "data": {
      "text/plain": [
       "vector1_std_pair_unsigned_long_unsigned_long_t[]"
      ]
     },
     "execution_count": 47,
     "metadata": {},
     "output_type": "execute_result"
    }
   ],
   "source": [
    "force_disulfides.disulfides(pose)"
   ]
  },
  {
   "cell_type": "code",
   "execution_count": 21,
   "metadata": {},
   "outputs": [
    {
     "data": {
      "text/plain": [
       "{3, 192}"
      ]
     },
     "execution_count": 21,
     "metadata": {},
     "output_type": "execute_result"
    }
   ],
   "source": [
    "get_cys_positions(all_ss_pdbs[0])"
   ]
  },
  {
   "cell_type": "code",
   "execution_count": 55,
   "metadata": {},
   "outputs": [
    {
     "ename": "TypeError",
     "evalue": "'type' object is not iterable",
     "output_type": "error",
     "traceback": [
      "\u001b[0;31m---------------------------------------------------------------------------\u001b[0m",
      "\u001b[0;31mTypeError\u001b[0m                                 Traceback (most recent call last)",
      "\u001b[0;32m<ipython-input-55-87c633fafef1>\u001b[0m in \u001b[0;36m<module>\u001b[0;34m\u001b[0m\n\u001b[0;32m----> 1\u001b[0;31m \u001b[0mpyrosetta\u001b[0m\u001b[0;34m.\u001b[0m\u001b[0mVector1\u001b[0m\u001b[0;34m(\u001b[0m\u001b[0mtuple\u001b[0m\u001b[0;34m)\u001b[0m\u001b[0;34m\u001b[0m\u001b[0;34m\u001b[0m\u001b[0m\n\u001b[0m",
      "\u001b[0;32m~/.conda/envs/pyro/lib/python3.7/site-packages/pyrosetta/__init__.py\u001b[0m in \u001b[0;36mVector1\u001b[0;34m(list_in)\u001b[0m\n\u001b[1;32m    217\u001b[0m     \u001b[0;34m\"\"\"Creates a Vector1 object, deducing type from the given list.\"\"\"\u001b[0m\u001b[0;34m\u001b[0m\u001b[0;34m\u001b[0m\u001b[0m\n\u001b[1;32m    218\u001b[0m \u001b[0;34m\u001b[0m\u001b[0m\n\u001b[0;32m--> 219\u001b[0;31m     \u001b[0;32mif\u001b[0m \u001b[0mall\u001b[0m\u001b[0;34m(\u001b[0m\u001b[0;34m[\u001b[0m\u001b[0misinstance\u001b[0m\u001b[0;34m(\u001b[0m\u001b[0mx\u001b[0m\u001b[0;34m,\u001b[0m \u001b[0mbool\u001b[0m\u001b[0;34m)\u001b[0m \u001b[0;32mfor\u001b[0m \u001b[0mx\u001b[0m \u001b[0;32min\u001b[0m \u001b[0mlist_in\u001b[0m\u001b[0;34m]\u001b[0m\u001b[0;34m)\u001b[0m\u001b[0;34m:\u001b[0m\u001b[0;34m\u001b[0m\u001b[0;34m\u001b[0m\u001b[0m\n\u001b[0m\u001b[1;32m    220\u001b[0m         \u001b[0mt\u001b[0m \u001b[0;34m=\u001b[0m \u001b[0mrosetta\u001b[0m\u001b[0;34m.\u001b[0m\u001b[0mutility\u001b[0m\u001b[0;34m.\u001b[0m\u001b[0mvector1_bool\u001b[0m\u001b[0;34m\u001b[0m\u001b[0;34m\u001b[0m\u001b[0m\n\u001b[1;32m    221\u001b[0m     \u001b[0;32melif\u001b[0m \u001b[0mall\u001b[0m\u001b[0;34m(\u001b[0m\u001b[0;34m[\u001b[0m\u001b[0misinstance\u001b[0m\u001b[0;34m(\u001b[0m\u001b[0mx\u001b[0m\u001b[0;34m,\u001b[0m \u001b[0mint\u001b[0m\u001b[0;34m)\u001b[0m \u001b[0;32mfor\u001b[0m \u001b[0mx\u001b[0m \u001b[0;32min\u001b[0m \u001b[0mlist_in\u001b[0m\u001b[0;34m]\u001b[0m\u001b[0;34m)\u001b[0m\u001b[0;34m:\u001b[0m\u001b[0;34m\u001b[0m\u001b[0;34m\u001b[0m\u001b[0m\n",
      "\u001b[0;31mTypeError\u001b[0m: 'type' object is not iterable"
     ]
    }
   ],
   "source": [
    "pyrosetta.Vector1(tuple)"
   ]
  },
  {
   "cell_type": "code",
   "execution_count": 41,
   "metadata": {},
   "outputs": [
    {
     "data": {
      "text/plain": [
       "0.0"
      ]
     },
     "execution_count": 41,
     "metadata": {},
     "output_type": "execute_result"
    }
   ],
   "source": []
  },
  {
   "cell_type": "code",
   "execution_count": 25,
   "metadata": {},
   "outputs": [
    {
     "data": {
      "text/plain": [
       "0.0"
      ]
     },
     "execution_count": 25,
     "metadata": {},
     "output_type": "execute_result"
    }
   ],
   "source": [
    "disulfide_entropy.compute(pose)"
   ]
  },
  {
   "cell_type": "code",
   "execution_count": 75,
   "metadata": {},
   "outputs": [
    {
     "name": "stdout",
     "output_type": "stream",
     "text": [
      "protocols.rosetta_scripts.RosettaScriptsParser: {0} Generating XML Schema for rosetta_scripts...\n",
      "protocols.rosetta_scripts.RosettaScriptsParser: {0} ...done\n",
      "protocols.rosetta_scripts.RosettaScriptsParser: {0} Initializing schema validator...\n",
      "protocols.rosetta_scripts.RosettaScriptsParser: {0} ...done\n",
      "protocols.rosetta_scripts.RosettaScriptsParser: {0} Validating input script...\n",
      "protocols.rosetta_scripts.RosettaScriptsParser: {0} ...done\n",
      "protocols.rosetta_scripts.RosettaScriptsParser: {0} Parsed script:\n",
      "<ROSETTASCRIPTS>\n",
      "\t<MOVERS>\n",
      "\t\t<ForceDisulfides disulfides=\"3B:192A\" name=\"force_ss\" repack=\"true\"/>\n",
      "\t</MOVERS>\n",
      "\t<PROTOCOLS/>\n",
      "</ROSETTASCRIPTS>\n",
      "core.scoring.ScoreFunctionFactory: {0} SCOREFUNCTION: beta_nov16.wts\n",
      "protocols.simple_moves.ForceDisulfidesMover: {0} Setting fix disulfides on residues:\n",
      "protocols.simple_moves.ForceDisulfidesMover: {0}         Residue 3  chain B : Residue 192  chain A\n",
      "protocols.rosetta_scripts.RosettaScriptsParser: {0} Defined mover named \"force_ss\" of type ForceDisulfides\n",
      "protocols.rosetta_scripts.ParsedProtocol: {0} ParsedProtocol mover with the following movers and filters\n"
     ]
    }
   ],
   "source": [
    "ss_pair = tuple(sorted(get_cys_positions(all_ss_pdbs[0])))\n",
    "xml = pyrosetta.rosetta.protocols.rosetta_scripts.XmlObjects().create_from_string(f\"\"\"\n",
    "<MOVERS>\n",
    "    <ForceDisulfides name=\"force_ss\" disulfides=\"{ss_pair[0]}B:{ss_pair[1]}A\" repack=\"true\"/>\n",
    "</MOVERS>\n",
    "\"\"\")\n",
    "force_ss = xml.get_mover(\"force_ss\")"
   ]
  },
  {
   "cell_type": "code",
   "execution_count": 78,
   "metadata": {},
   "outputs": [
    {
     "name": "stdout",
     "output_type": "stream",
     "text": [
      "core.import_pose.import_pose: {0} File 'output/RC_4_20_nmp1_redesign_74_staple_1.pdb.gz' automatically determined to be of type PDB\n",
      "protocols.simple_moves.symmetry.DetectSymmetry: {0} 4 number of subunits found\n",
      "protocols.simple_moves.symmetry.DetectSymmetry: {0} 276 residues per subunit\n",
      "core.conformation.symmetry.SymmData: {0} [ WARNING ] Setting weight of master jump ( jump-id=8 ) to 1.0 (was undefined)\n",
      "core.conformation.symmetry.SymmData: {0} [ WARNING ] Setting jump_group JGS: [master 8]  9:0  10:0  11:0\n",
      "core.conformation.symmetry.SymmData: {0} [ WARNING ] Setting weight of master jump ( jump-id=1 ) to 1.0 (was undefined)\n",
      "core.conformation.symmetry.SymmData: {0} [ WARNING ] Setting jump_group JGSS: [master 1]  2:0  3:0  4:0\n",
      "core.conformation.symmetry.SymmData: {0} symmetry name: C4\n",
      "core.conformation.symmetry.SymmData: {0} number of subunits: 4\n",
      "core.conformation.symmetry.SymmData: {0} number of interfaces: 3\n",
      "core.conformation.symmetry.SymmData: {0} score subunit number: C1\n",
      "core.conformation.symmetry.SymmData: {0} anchor the subunits at residue: COM\n",
      "core.conformation.symmetry.SymmData: {0}  Virtual coordinate system C1\n",
      "core.conformation.symmetry.SymmData: {0} x: 0 0 1\n",
      "core.conformation.symmetry.SymmData: {0} y: 0 1 0\n",
      "core.conformation.symmetry.SymmData: {0} origin: 0 0 0\n",
      "core.conformation.symmetry.SymmData: {0}  Virtual coordinate system C2\n",
      "core.conformation.symmetry.SymmData: {0} x: 0 0 1\n",
      "core.conformation.symmetry.SymmData: {0} y: 1 0 0\n",
      "core.conformation.symmetry.SymmData: {0} origin: 0 0 0\n",
      "core.conformation.symmetry.SymmData: {0}  Virtual coordinate system C3\n",
      "core.conformation.symmetry.SymmData: {0} x: 0 0 1\n",
      "core.conformation.symmetry.SymmData: {0} y: 0 -1 0\n",
      "core.conformation.symmetry.SymmData: {0} origin: 0 0 0\n",
      "core.conformation.symmetry.SymmData: {0}  Virtual coordinate system C4\n",
      "core.conformation.symmetry.SymmData: {0} x: 0 0 1\n",
      "core.conformation.symmetry.SymmData: {0} y: -1 -0 0\n",
      "core.conformation.symmetry.SymmData: {0} origin: 0 0 0\n",
      "core.conformation.symmetry.SymmData: {0}  Virtual coordinate system S1\n",
      "core.conformation.symmetry.SymmData: {0} x: 0 0 1\n",
      "core.conformation.symmetry.SymmData: {0} y: 0 1 0\n",
      "core.conformation.symmetry.SymmData: {0} origin: 0 0 0\n",
      "core.conformation.symmetry.SymmData: {0}  Virtual coordinate system S2\n",
      "core.conformation.symmetry.SymmData: {0} x: 0 0 1\n",
      "core.conformation.symmetry.SymmData: {0} y: 1 0 0\n",
      "core.conformation.symmetry.SymmData: {0} origin: 0 0 0\n",
      "core.conformation.symmetry.SymmData: {0}  Virtual coordinate system S3\n",
      "core.conformation.symmetry.SymmData: {0} x: 0 0 1\n",
      "core.conformation.symmetry.SymmData: {0} y: 0 -1 0\n",
      "core.conformation.symmetry.SymmData: {0} origin: 0 0 0\n",
      "core.conformation.symmetry.SymmData: {0}  Virtual coordinate system S4\n",
      "core.conformation.symmetry.SymmData: {0} x: 0 0 1\n",
      "core.conformation.symmetry.SymmData: {0} y: -1 -0 0\n",
      "core.conformation.symmetry.SymmData: {0} origin: 0 0 0\n",
      "core.conformation.symmetry.SymmData: {0} Dof for jump: 8\n",
      "core.conformation.symmetry.SymmData: {0} x 1:0,0:0,0 n2c\n",
      "core.conformation.symmetry.SymmData: {0} y 1:0,0:0,0 n2c\n",
      "core.conformation.symmetry.SymmData: {0} z 0:0,0:0,0 n2c\n",
      "core.conformation.symmetry.SymmData: {0} x_angle 1:0,0:0,0 n2c\n",
      "core.conformation.symmetry.SymmData: {0} y_angle 1:0,0:0,0 n2c\n",
      "core.conformation.symmetry.SymmData: {0} z_angle 1:0,0:0,0 n2c\n",
      "core.conformation.symmetry.SymmData: {0} Jump JC2 C1 C2\n",
      "core.conformation.symmetry.SymmData: {0} Jump JC3 C1 C3\n",
      "core.conformation.symmetry.SymmData: {0} Jump JC4 C1 C4\n",
      "core.conformation.symmetry.SymmData: {0} Jump JS1 C1 S1\n",
      "core.conformation.symmetry.SymmData: {0} Jump JS1S S1 SUBUNIT\n",
      "core.conformation.symmetry.SymmData: {0} Jump JS2 C2 S2\n",
      "core.conformation.symmetry.SymmData: {0} Jump JS2S S2 SUBUNIT\n",
      "core.conformation.symmetry.SymmData: {0} Jump JS3 C3 S3\n",
      "core.conformation.symmetry.SymmData: {0} Jump JS3S S3 SUBUNIT\n",
      "core.conformation.symmetry.SymmData: {0} Jump JS4 C4 S4\n",
      "core.conformation.symmetry.SymmData: {0} Jump JS4S S4 SUBUNIT\n",
      "core.conformation.symmetry.SymmData: {0} Include subunit: 1 2 3 4\n",
      "core.conformation.symmetry.SymmData: {0} Output subunit: 1 2 3 4\n",
      "core.conformation.symmetry.SymmData: {0} SlideType: RANDOM\n",
      "core.conformation.symmetry.SymmData: {0} SlideCriteriaType: CEN_DOCK_SCORE\n",
      "core.conformation.symmetry.SymmData: {0} SlideCriteriaVal: AUTOMATIC\n",
      "core.conformation.symmetry.SymmData: {0} SlideOrder: none\n",
      "core.conformation.symmetry.util: {0} =================== SYM FOLD TREE, jump notation: =symfixed= *indep* #symdof# jump[=follows] ========================\n",
      "C1(1105)\n",
      "|----=j5=---->C2(1107)----j9=8---->S2(1108)----j2=1---->412:Sub2A(277-552)\n",
      "|----=j6=---->C3(1109)----j10=8--->S3(1110)----j3=1---->688:Sub3A(553-828)\n",
      "|----=j7=---->C4(1111)----j11=8--->S4(1112)----j4=1---->964:Sub4A(829-1104)\n",
      "\\----#j8#---->S1(1106)----*j1*---->136:Sub1A(1-276)\n"
     ]
    }
   ],
   "source": [
    "pose = pyrosetta.pose_from_file(all_ss_pdbs[0])\n",
    "pyrosetta.rosetta.protocols.symmetry.DetectSymmetry().apply(pose)"
   ]
  },
  {
   "cell_type": "code",
   "execution_count": 80,
   "metadata": {},
   "outputs": [
    {
     "name": "stdout",
     "output_type": "stream",
     "text": [
      "protocols.simple_moves.ForceDisulfidesMover: {0} Fixing disulfides\n",
      "core.pack.task: {0} Packer task: initialize from command line()\n",
      "protocols.simple_moves.ForceDisulfidesMover: {0} repacking disulfide surroundings\n"
     ]
    },
    {
     "ename": "RuntimeError",
     "evalue": "\n\nFile: /home/benchmark/rosetta/source/src/core/scoring/disulfides/FullatomDisulfideEnergyContainer.cc:619\n[ ERROR ] UtilityExitException\nERROR: \n\n",
     "output_type": "error",
     "traceback": [
      "\u001b[0;31m---------------------------------------------------------------------------\u001b[0m",
      "\u001b[0;31mRuntimeError\u001b[0m                              Traceback (most recent call last)",
      "\u001b[0;32m<ipython-input-80-a082e4bb1c8e>\u001b[0m in \u001b[0;36m<module>\u001b[0;34m\u001b[0m\n\u001b[0;32m----> 1\u001b[0;31m \u001b[0mforce_ss\u001b[0m\u001b[0;34m.\u001b[0m\u001b[0mapply\u001b[0m\u001b[0;34m(\u001b[0m\u001b[0mpose\u001b[0m\u001b[0;34m)\u001b[0m\u001b[0;34m\u001b[0m\u001b[0;34m\u001b[0m\u001b[0m\n\u001b[0m",
      "\u001b[0;31mRuntimeError\u001b[0m: \n\nFile: /home/benchmark/rosetta/source/src/core/scoring/disulfides/FullatomDisulfideEnergyContainer.cc:619\n[ ERROR ] UtilityExitException\nERROR: \n\n"
     ]
    }
   ],
   "source": [
    "force_ss.apply(pose)"
   ]
  },
  {
   "cell_type": "code",
   "execution_count": null,
   "metadata": {},
   "outputs": [],
   "source": []
  },
  {
   "cell_type": "code",
   "execution_count": null,
   "metadata": {},
   "outputs": [],
   "source": []
  },
  {
   "cell_type": "code",
   "execution_count": null,
   "metadata": {},
   "outputs": [],
   "source": []
  },
  {
   "cell_type": "code",
   "execution_count": null,
   "metadata": {},
   "outputs": [],
   "source": []
  },
  {
   "cell_type": "code",
   "execution_count": null,
   "metadata": {},
   "outputs": [],
   "source": []
  },
  {
   "cell_type": "code",
   "execution_count": null,
   "metadata": {},
   "outputs": [],
   "source": []
  },
  {
   "cell_type": "code",
   "execution_count": null,
   "metadata": {},
   "outputs": [],
   "source": []
  }
 ],
 "metadata": {
  "kernelspec": {
   "display_name": "pyro",
   "language": "python",
   "name": "pyro"
  },
  "language_info": {
   "codemirror_mode": {
    "name": "ipython",
    "version": 3
   },
   "file_extension": ".py",
   "mimetype": "text/x-python",
   "name": "python",
   "nbconvert_exporter": "python",
   "pygments_lexer": "ipython3",
   "version": "3.7.3"
  }
 },
 "nbformat": 4,
 "nbformat_minor": 4
}
