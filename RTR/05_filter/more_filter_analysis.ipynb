{
 "cells": [
  {
   "cell_type": "code",
   "execution_count": 2,
   "metadata": {},
   "outputs": [],
   "source": [
    "import glob\n",
    "import os\n",
    "import pandas as pd\n",
    "import json\n",
    "import re\n",
    "import tqdm\n",
    "from matplotlib import pyplot as plt\n",
    "import numpy as np\n",
    "import shutil"
   ]
  },
  {
   "cell_type": "code",
   "execution_count": 3,
   "metadata": {},
   "outputs": [],
   "source": [
    "#We gotta analyze 3 things:\n",
    "#1) hbnet movement\n",
    "#2) worst9mer\n",
    "#3) lddt"
   ]
  },
  {
   "cell_type": "code",
   "execution_count": 4,
   "metadata": {},
   "outputs": [],
   "source": [
    "movements = glob.glob(\"../05_assemble/210129_assemble_nmp_designs/*/*.json\")"
   ]
  },
  {
   "cell_type": "code",
   "execution_count": 93,
   "metadata": {},
   "outputs": [
    {
     "data": {
      "text/plain": [
       "880"
      ]
     },
     "execution_count": 93,
     "metadata": {},
     "output_type": "execute_result"
    }
   ],
   "source": [
    "len(movements)"
   ]
  },
  {
   "cell_type": "code",
   "execution_count": 94,
   "metadata": {},
   "outputs": [],
   "source": [
    "datas = []\n",
    "for movement in movements:\n",
    "    with open(movement,'r') as f:\n",
    "        data = {}\n",
    "        #print(movement)\n",
    "        decoy = movement.split(\"/\")[-1].split(\"_cst_data.json\")[0]\n",
    "        #print(decoy)\n",
    "        data['decoy'] = decoy\n",
    "\n",
    "        all_cst_data = json.load(f)\n",
    "        befores = {\",\".join(k.split(\",\")[:2]) : all_cst_data[k] for k in all_cst_data.keys() if \"before\" in k}\n",
    "        afters = {\",\".join(k.split(\",\")[:2]) : all_cst_data[k] for k in all_cst_data.keys() if \"after\" in k}\n",
    "\n",
    "        data['before_total_score'] = sum([befores[k]['score'] for k in befores.keys()])\n",
    "        data['after_total_score'] = sum([afters[k]['score'] for k in afters.keys()])\n",
    "        data['delta_total_score'] = data['after_total_score'] - data['before_total_score']\n",
    "\n",
    "        #THIS MAY NOT BE THE SAME SCORE\n",
    "        data['before_max_score'] = max([befores[k]['score'] for k in befores.keys()])\n",
    "        data['after_max_score'] = max([afters[k]['score'] for k in afters.keys()])\n",
    "        data['delta_max_score'] = data['after_max_score'] - data['before_max_score']\n",
    "\n",
    "        data['max_delta_score'] = max([afters[k]['score'] - befores[k]['score'] for k in befores.keys()])\n",
    "        data['max_delta_dist'] = max([afters[k]['dist'] - befores[k]['dist'] for k in befores.keys()])\n",
    "\n",
    "        data['before_total_dist'] = sum([befores[k]['dist'] for k in befores.keys()])\n",
    "        data['after_total_dist'] = sum([afters[k]['dist'] for k in afters.keys()])\n",
    "        data['delta_total_dist'] = data['after_total_dist'] - data['before_total_dist']\n",
    "\n",
    "        datas.append(data)\n"
   ]
  },
  {
   "cell_type": "code",
   "execution_count": 95,
   "metadata": {},
   "outputs": [
    {
     "data": {
      "text/html": [
       "<div>\n",
       "<style scoped>\n",
       "    .dataframe tbody tr th:only-of-type {\n",
       "        vertical-align: middle;\n",
       "    }\n",
       "\n",
       "    .dataframe tbody tr th {\n",
       "        vertical-align: top;\n",
       "    }\n",
       "\n",
       "    .dataframe thead th {\n",
       "        text-align: right;\n",
       "    }\n",
       "</style>\n",
       "<table border=\"1\" class=\"dataframe\">\n",
       "  <thead>\n",
       "    <tr style=\"text-align: right;\">\n",
       "      <th></th>\n",
       "      <th>decoy</th>\n",
       "      <th>before_total_score</th>\n",
       "      <th>after_total_score</th>\n",
       "      <th>delta_total_score</th>\n",
       "      <th>before_max_score</th>\n",
       "      <th>after_max_score</th>\n",
       "      <th>delta_max_score</th>\n",
       "      <th>max_delta_score</th>\n",
       "      <th>max_delta_dist</th>\n",
       "      <th>before_total_dist</th>\n",
       "      <th>after_total_dist</th>\n",
       "      <th>delta_total_dist</th>\n",
       "    </tr>\n",
       "  </thead>\n",
       "  <tbody>\n",
       "    <tr>\n",
       "      <th>0</th>\n",
       "      <td>RC4_20_mini_nm_00152_1.6_31_0001_0018_hb_0002_...</td>\n",
       "      <td>0.000000</td>\n",
       "      <td>14.388092</td>\n",
       "      <td>14.388092</td>\n",
       "      <td>0.000000</td>\n",
       "      <td>7.987588</td>\n",
       "      <td>7.987588</td>\n",
       "      <td>7.987588</td>\n",
       "      <td>1.901375</td>\n",
       "      <td>11.157995</td>\n",
       "      <td>15.009035</td>\n",
       "      <td>3.851040</td>\n",
       "    </tr>\n",
       "    <tr>\n",
       "      <th>1</th>\n",
       "      <td>RC4_20_mini_nm_00247_1.6_31_0001_0051_hb_0001_...</td>\n",
       "      <td>0.433105</td>\n",
       "      <td>42.424901</td>\n",
       "      <td>41.991796</td>\n",
       "      <td>0.337271</td>\n",
       "      <td>20.184093</td>\n",
       "      <td>19.846821</td>\n",
       "      <td>20.184093</td>\n",
       "      <td>4.430462</td>\n",
       "      <td>11.793943</td>\n",
       "      <td>20.951630</td>\n",
       "      <td>9.157687</td>\n",
       "    </tr>\n",
       "    <tr>\n",
       "      <th>2</th>\n",
       "      <td>RC4_20_mini_nm_00073_1.6_31_0001_0018_hb_0004_...</td>\n",
       "      <td>0.158935</td>\n",
       "      <td>1.480086</td>\n",
       "      <td>1.321152</td>\n",
       "      <td>0.110978</td>\n",
       "      <td>1.068953</td>\n",
       "      <td>0.957975</td>\n",
       "      <td>1.056678</td>\n",
       "      <td>0.241632</td>\n",
       "      <td>14.938128</td>\n",
       "      <td>15.304167</td>\n",
       "      <td>0.366039</td>\n",
       "    </tr>\n",
       "    <tr>\n",
       "      <th>3</th>\n",
       "      <td>RC4_20_mini_nm_00164_1.6_31_0001_0050_hb_designed</td>\n",
       "      <td>0.439348</td>\n",
       "      <td>2.112788</td>\n",
       "      <td>1.673440</td>\n",
       "      <td>0.439347</td>\n",
       "      <td>1.248786</td>\n",
       "      <td>0.809439</td>\n",
       "      <td>0.809439</td>\n",
       "      <td>0.432614</td>\n",
       "      <td>11.498856</td>\n",
       "      <td>12.432214</td>\n",
       "      <td>0.933358</td>\n",
       "    </tr>\n",
       "    <tr>\n",
       "      <th>4</th>\n",
       "      <td>RC4_20_mini_nm_00141_1.6_31_0001_0048_hb_designed</td>\n",
       "      <td>0.146810</td>\n",
       "      <td>21.462417</td>\n",
       "      <td>21.315608</td>\n",
       "      <td>0.138320</td>\n",
       "      <td>11.386640</td>\n",
       "      <td>11.248320</td>\n",
       "      <td>11.248320</td>\n",
       "      <td>2.252945</td>\n",
       "      <td>8.610391</td>\n",
       "      <td>13.207913</td>\n",
       "      <td>4.597523</td>\n",
       "    </tr>\n",
       "    <tr>\n",
       "      <th>...</th>\n",
       "      <td>...</td>\n",
       "      <td>...</td>\n",
       "      <td>...</td>\n",
       "      <td>...</td>\n",
       "      <td>...</td>\n",
       "      <td>...</td>\n",
       "      <td>...</td>\n",
       "      <td>...</td>\n",
       "      <td>...</td>\n",
       "      <td>...</td>\n",
       "      <td>...</td>\n",
       "      <td>...</td>\n",
       "    </tr>\n",
       "    <tr>\n",
       "      <th>875</th>\n",
       "      <td>RC4_20_mini_nm_00245_1.6_31_0001_0044_hb_0001_...</td>\n",
       "      <td>0.253980</td>\n",
       "      <td>3.766594</td>\n",
       "      <td>3.512613</td>\n",
       "      <td>0.253980</td>\n",
       "      <td>1.988189</td>\n",
       "      <td>1.734209</td>\n",
       "      <td>1.988189</td>\n",
       "      <td>1.436724</td>\n",
       "      <td>13.236438</td>\n",
       "      <td>15.465956</td>\n",
       "      <td>2.229518</td>\n",
       "    </tr>\n",
       "    <tr>\n",
       "      <th>876</th>\n",
       "      <td>RC4_20_mini_nm_00179_1.6_31_0001_0024_hb_0002_...</td>\n",
       "      <td>0.903887</td>\n",
       "      <td>26.305257</td>\n",
       "      <td>25.401370</td>\n",
       "      <td>0.381906</td>\n",
       "      <td>13.075914</td>\n",
       "      <td>12.694008</td>\n",
       "      <td>12.694008</td>\n",
       "      <td>2.538802</td>\n",
       "      <td>14.970829</td>\n",
       "      <td>19.986177</td>\n",
       "      <td>5.015348</td>\n",
       "    </tr>\n",
       "    <tr>\n",
       "      <th>877</th>\n",
       "      <td>RC4_20_mini_nm_00127_1.6_31_0001_0035_hb_0009_...</td>\n",
       "      <td>1.583000</td>\n",
       "      <td>27.419211</td>\n",
       "      <td>25.836211</td>\n",
       "      <td>0.754413</td>\n",
       "      <td>11.068920</td>\n",
       "      <td>10.314507</td>\n",
       "      <td>10.538230</td>\n",
       "      <td>2.107646</td>\n",
       "      <td>20.807627</td>\n",
       "      <td>26.641715</td>\n",
       "      <td>5.834089</td>\n",
       "    </tr>\n",
       "    <tr>\n",
       "      <th>878</th>\n",
       "      <td>RC4_20_mini_nm_00019_1.6_31_0001_0037_hb_designed</td>\n",
       "      <td>0.000000</td>\n",
       "      <td>16.377985</td>\n",
       "      <td>16.377985</td>\n",
       "      <td>0.000000</td>\n",
       "      <td>9.476503</td>\n",
       "      <td>9.476503</td>\n",
       "      <td>9.476503</td>\n",
       "      <td>2.291728</td>\n",
       "      <td>11.662757</td>\n",
       "      <td>15.459634</td>\n",
       "      <td>3.796877</td>\n",
       "    </tr>\n",
       "    <tr>\n",
       "      <th>879</th>\n",
       "      <td>RC4_20_mini_nm_00103_1.6_31_0001_0039_hb_0001_...</td>\n",
       "      <td>0.699360</td>\n",
       "      <td>0.658028</td>\n",
       "      <td>-0.041333</td>\n",
       "      <td>0.512031</td>\n",
       "      <td>0.607658</td>\n",
       "      <td>0.095627</td>\n",
       "      <td>0.607658</td>\n",
       "      <td>0.453199</td>\n",
       "      <td>13.646494</td>\n",
       "      <td>14.341013</td>\n",
       "      <td>0.694519</td>\n",
       "    </tr>\n",
       "  </tbody>\n",
       "</table>\n",
       "<p>880 rows × 12 columns</p>\n",
       "</div>"
      ],
      "text/plain": [
       "                                                 decoy  before_total_score  \\\n",
       "0    RC4_20_mini_nm_00152_1.6_31_0001_0018_hb_0002_...            0.000000   \n",
       "1    RC4_20_mini_nm_00247_1.6_31_0001_0051_hb_0001_...            0.433105   \n",
       "2    RC4_20_mini_nm_00073_1.6_31_0001_0018_hb_0004_...            0.158935   \n",
       "3    RC4_20_mini_nm_00164_1.6_31_0001_0050_hb_designed            0.439348   \n",
       "4    RC4_20_mini_nm_00141_1.6_31_0001_0048_hb_designed            0.146810   \n",
       "..                                                 ...                 ...   \n",
       "875  RC4_20_mini_nm_00245_1.6_31_0001_0044_hb_0001_...            0.253980   \n",
       "876  RC4_20_mini_nm_00179_1.6_31_0001_0024_hb_0002_...            0.903887   \n",
       "877  RC4_20_mini_nm_00127_1.6_31_0001_0035_hb_0009_...            1.583000   \n",
       "878  RC4_20_mini_nm_00019_1.6_31_0001_0037_hb_designed            0.000000   \n",
       "879  RC4_20_mini_nm_00103_1.6_31_0001_0039_hb_0001_...            0.699360   \n",
       "\n",
       "     after_total_score  delta_total_score  before_max_score  after_max_score  \\\n",
       "0            14.388092          14.388092          0.000000         7.987588   \n",
       "1            42.424901          41.991796          0.337271        20.184093   \n",
       "2             1.480086           1.321152          0.110978         1.068953   \n",
       "3             2.112788           1.673440          0.439347         1.248786   \n",
       "4            21.462417          21.315608          0.138320        11.386640   \n",
       "..                 ...                ...               ...              ...   \n",
       "875           3.766594           3.512613          0.253980         1.988189   \n",
       "876          26.305257          25.401370          0.381906        13.075914   \n",
       "877          27.419211          25.836211          0.754413        11.068920   \n",
       "878          16.377985          16.377985          0.000000         9.476503   \n",
       "879           0.658028          -0.041333          0.512031         0.607658   \n",
       "\n",
       "     delta_max_score  max_delta_score  max_delta_dist  before_total_dist  \\\n",
       "0           7.987588         7.987588        1.901375          11.157995   \n",
       "1          19.846821        20.184093        4.430462          11.793943   \n",
       "2           0.957975         1.056678        0.241632          14.938128   \n",
       "3           0.809439         0.809439        0.432614          11.498856   \n",
       "4          11.248320        11.248320        2.252945           8.610391   \n",
       "..               ...              ...             ...                ...   \n",
       "875         1.734209         1.988189        1.436724          13.236438   \n",
       "876        12.694008        12.694008        2.538802          14.970829   \n",
       "877        10.314507        10.538230        2.107646          20.807627   \n",
       "878         9.476503         9.476503        2.291728          11.662757   \n",
       "879         0.095627         0.607658        0.453199          13.646494   \n",
       "\n",
       "     after_total_dist  delta_total_dist  \n",
       "0           15.009035          3.851040  \n",
       "1           20.951630          9.157687  \n",
       "2           15.304167          0.366039  \n",
       "3           12.432214          0.933358  \n",
       "4           13.207913          4.597523  \n",
       "..                ...               ...  \n",
       "875         15.465956          2.229518  \n",
       "876         19.986177          5.015348  \n",
       "877         26.641715          5.834089  \n",
       "878         15.459634          3.796877  \n",
       "879         14.341013          0.694519  \n",
       "\n",
       "[880 rows x 12 columns]"
      ]
     },
     "execution_count": 95,
     "metadata": {},
     "output_type": "execute_result"
    }
   ],
   "source": [
    "df = pd.DataFrame(datas)\n",
    "df"
   ]
  },
  {
   "cell_type": "code",
   "execution_count": null,
   "metadata": {},
   "outputs": [],
   "source": []
  },
  {
   "cell_type": "code",
   "execution_count": 96,
   "metadata": {},
   "outputs": [
    {
     "data": {
      "text/plain": [
       "array([[<matplotlib.axes._subplots.AxesSubplot object at 0x7fffbf9682b0>]],\n",
       "      dtype=object)"
      ]
     },
     "execution_count": 96,
     "metadata": {},
     "output_type": "execute_result"
    },
    {
     "data": {
      "image/png": "[encoded data removed]",
      "text/plain": [
       "<Figure size 432x288 with 1 Axes>"
      ]
     },
     "metadata": {
      "needs_background": "light"
     },
     "output_type": "display_data"
    }
   ],
   "source": [
    "df.hist(\"delta_total_score\")"
   ]
  },
  {
   "cell_type": "code",
   "execution_count": 97,
   "metadata": {},
   "outputs": [
    {
     "data": {
      "text/plain": [
       "array([[<matplotlib.axes._subplots.AxesSubplot object at 0x7fffbf905978>]],\n",
       "      dtype=object)"
      ]
     },
     "execution_count": 97,
     "metadata": {},
     "output_type": "execute_result"
    },
    {
     "data": {
      "image/png": "[encoded data removed]",
      "text/plain": [
       "<Figure size 432x288 with 1 Axes>"
      ]
     },
     "metadata": {
      "needs_background": "light"
     },
     "output_type": "display_data"
    }
   ],
   "source": [
    "df.hist(\"delta_total_dist\")"
   ]
  },
  {
   "cell_type": "code",
   "execution_count": 98,
   "metadata": {},
   "outputs": [
    {
     "data": {
      "text/plain": [
       "<matplotlib.axes._subplots.AxesSubplot at 0x7fffbf86c400>"
      ]
     },
     "execution_count": 98,
     "metadata": {},
     "output_type": "execute_result"
    },
    {
     "data": {
      "image/png": "[encoded data removed]",
      "text/plain": [
       "<Figure size 432x288 with 1 Axes>"
      ]
     },
     "metadata": {
      "needs_background": "light"
     },
     "output_type": "display_data"
    }
   ],
   "source": [
    "df.plot.scatter(x=\"delta_total_score\",y=\"delta_total_dist\")"
   ]
  },
  {
   "cell_type": "code",
   "execution_count": 99,
   "metadata": {},
   "outputs": [
    {
     "data": {
      "text/plain": [
       "array([[<matplotlib.axes._subplots.AxesSubplot object at 0x7fffbf8324e0>]],\n",
       "      dtype=object)"
      ]
     },
     "execution_count": 99,
     "metadata": {},
     "output_type": "execute_result"
    },
    {
     "data": {
      "image/png": "[encoded data removed]",
      "text/plain": [
       "<Figure size 432x288 with 1 Axes>"
      ]
     },
     "metadata": {
      "needs_background": "light"
     },
     "output_type": "display_data"
    }
   ],
   "source": [
    "df.hist(\"before_total_score\",bins=50)"
   ]
  },
  {
   "cell_type": "code",
   "execution_count": 100,
   "metadata": {},
   "outputs": [
    {
     "data": {
      "text/html": [
       "<div>\n",
       "<style scoped>\n",
       "    .dataframe tbody tr th:only-of-type {\n",
       "        vertical-align: middle;\n",
       "    }\n",
       "\n",
       "    .dataframe tbody tr th {\n",
       "        vertical-align: top;\n",
       "    }\n",
       "\n",
       "    .dataframe thead th {\n",
       "        text-align: right;\n",
       "    }\n",
       "</style>\n",
       "<table border=\"1\" class=\"dataframe\">\n",
       "  <thead>\n",
       "    <tr style=\"text-align: right;\">\n",
       "      <th></th>\n",
       "      <th>decoy</th>\n",
       "      <th>before_total_score</th>\n",
       "      <th>after_total_score</th>\n",
       "      <th>delta_total_score</th>\n",
       "      <th>before_max_score</th>\n",
       "      <th>after_max_score</th>\n",
       "      <th>delta_max_score</th>\n",
       "      <th>max_delta_score</th>\n",
       "      <th>max_delta_dist</th>\n",
       "      <th>before_total_dist</th>\n",
       "      <th>after_total_dist</th>\n",
       "      <th>delta_total_dist</th>\n",
       "    </tr>\n",
       "  </thead>\n",
       "  <tbody>\n",
       "    <tr>\n",
       "      <th>0</th>\n",
       "      <td>RC4_20_mini_nm_00152_1.6_31_0001_0018_hb_0002_...</td>\n",
       "      <td>0.000000</td>\n",
       "      <td>14.388092</td>\n",
       "      <td>14.388092</td>\n",
       "      <td>0.000000</td>\n",
       "      <td>7.987588</td>\n",
       "      <td>7.987588</td>\n",
       "      <td>7.987588</td>\n",
       "      <td>1.901375</td>\n",
       "      <td>11.157995</td>\n",
       "      <td>15.009035</td>\n",
       "      <td>3.851040</td>\n",
       "    </tr>\n",
       "    <tr>\n",
       "      <th>1</th>\n",
       "      <td>RC4_20_mini_nm_00247_1.6_31_0001_0051_hb_0001_...</td>\n",
       "      <td>0.433105</td>\n",
       "      <td>42.424901</td>\n",
       "      <td>41.991796</td>\n",
       "      <td>0.337271</td>\n",
       "      <td>20.184093</td>\n",
       "      <td>19.846821</td>\n",
       "      <td>20.184093</td>\n",
       "      <td>4.430462</td>\n",
       "      <td>11.793943</td>\n",
       "      <td>20.951630</td>\n",
       "      <td>9.157687</td>\n",
       "    </tr>\n",
       "    <tr>\n",
       "      <th>2</th>\n",
       "      <td>RC4_20_mini_nm_00073_1.6_31_0001_0018_hb_0004_...</td>\n",
       "      <td>0.158935</td>\n",
       "      <td>1.480086</td>\n",
       "      <td>1.321152</td>\n",
       "      <td>0.110978</td>\n",
       "      <td>1.068953</td>\n",
       "      <td>0.957975</td>\n",
       "      <td>1.056678</td>\n",
       "      <td>0.241632</td>\n",
       "      <td>14.938128</td>\n",
       "      <td>15.304167</td>\n",
       "      <td>0.366039</td>\n",
       "    </tr>\n",
       "    <tr>\n",
       "      <th>3</th>\n",
       "      <td>RC4_20_mini_nm_00164_1.6_31_0001_0050_hb_designed</td>\n",
       "      <td>0.439348</td>\n",
       "      <td>2.112788</td>\n",
       "      <td>1.673440</td>\n",
       "      <td>0.439347</td>\n",
       "      <td>1.248786</td>\n",
       "      <td>0.809439</td>\n",
       "      <td>0.809439</td>\n",
       "      <td>0.432614</td>\n",
       "      <td>11.498856</td>\n",
       "      <td>12.432214</td>\n",
       "      <td>0.933358</td>\n",
       "    </tr>\n",
       "    <tr>\n",
       "      <th>4</th>\n",
       "      <td>RC4_20_mini_nm_00141_1.6_31_0001_0048_hb_designed</td>\n",
       "      <td>0.146810</td>\n",
       "      <td>21.462417</td>\n",
       "      <td>21.315608</td>\n",
       "      <td>0.138320</td>\n",
       "      <td>11.386640</td>\n",
       "      <td>11.248320</td>\n",
       "      <td>11.248320</td>\n",
       "      <td>2.252945</td>\n",
       "      <td>8.610391</td>\n",
       "      <td>13.207913</td>\n",
       "      <td>4.597523</td>\n",
       "    </tr>\n",
       "    <tr>\n",
       "      <th>...</th>\n",
       "      <td>...</td>\n",
       "      <td>...</td>\n",
       "      <td>...</td>\n",
       "      <td>...</td>\n",
       "      <td>...</td>\n",
       "      <td>...</td>\n",
       "      <td>...</td>\n",
       "      <td>...</td>\n",
       "      <td>...</td>\n",
       "      <td>...</td>\n",
       "      <td>...</td>\n",
       "      <td>...</td>\n",
       "    </tr>\n",
       "    <tr>\n",
       "      <th>875</th>\n",
       "      <td>RC4_20_mini_nm_00245_1.6_31_0001_0044_hb_0001_...</td>\n",
       "      <td>0.253980</td>\n",
       "      <td>3.766594</td>\n",
       "      <td>3.512613</td>\n",
       "      <td>0.253980</td>\n",
       "      <td>1.988189</td>\n",
       "      <td>1.734209</td>\n",
       "      <td>1.988189</td>\n",
       "      <td>1.436724</td>\n",
       "      <td>13.236438</td>\n",
       "      <td>15.465956</td>\n",
       "      <td>2.229518</td>\n",
       "    </tr>\n",
       "    <tr>\n",
       "      <th>876</th>\n",
       "      <td>RC4_20_mini_nm_00179_1.6_31_0001_0024_hb_0002_...</td>\n",
       "      <td>0.903887</td>\n",
       "      <td>26.305257</td>\n",
       "      <td>25.401370</td>\n",
       "      <td>0.381906</td>\n",
       "      <td>13.075914</td>\n",
       "      <td>12.694008</td>\n",
       "      <td>12.694008</td>\n",
       "      <td>2.538802</td>\n",
       "      <td>14.970829</td>\n",
       "      <td>19.986177</td>\n",
       "      <td>5.015348</td>\n",
       "    </tr>\n",
       "    <tr>\n",
       "      <th>877</th>\n",
       "      <td>RC4_20_mini_nm_00127_1.6_31_0001_0035_hb_0009_...</td>\n",
       "      <td>1.583000</td>\n",
       "      <td>27.419211</td>\n",
       "      <td>25.836211</td>\n",
       "      <td>0.754413</td>\n",
       "      <td>11.068920</td>\n",
       "      <td>10.314507</td>\n",
       "      <td>10.538230</td>\n",
       "      <td>2.107646</td>\n",
       "      <td>20.807627</td>\n",
       "      <td>26.641715</td>\n",
       "      <td>5.834089</td>\n",
       "    </tr>\n",
       "    <tr>\n",
       "      <th>878</th>\n",
       "      <td>RC4_20_mini_nm_00019_1.6_31_0001_0037_hb_designed</td>\n",
       "      <td>0.000000</td>\n",
       "      <td>16.377985</td>\n",
       "      <td>16.377985</td>\n",
       "      <td>0.000000</td>\n",
       "      <td>9.476503</td>\n",
       "      <td>9.476503</td>\n",
       "      <td>9.476503</td>\n",
       "      <td>2.291728</td>\n",
       "      <td>11.662757</td>\n",
       "      <td>15.459634</td>\n",
       "      <td>3.796877</td>\n",
       "    </tr>\n",
       "    <tr>\n",
       "      <th>879</th>\n",
       "      <td>RC4_20_mini_nm_00103_1.6_31_0001_0039_hb_0001_...</td>\n",
       "      <td>0.699360</td>\n",
       "      <td>0.658028</td>\n",
       "      <td>-0.041333</td>\n",
       "      <td>0.512031</td>\n",
       "      <td>0.607658</td>\n",
       "      <td>0.095627</td>\n",
       "      <td>0.607658</td>\n",
       "      <td>0.453199</td>\n",
       "      <td>13.646494</td>\n",
       "      <td>14.341013</td>\n",
       "      <td>0.694519</td>\n",
       "    </tr>\n",
       "  </tbody>\n",
       "</table>\n",
       "<p>880 rows × 12 columns</p>\n",
       "</div>"
      ],
      "text/plain": [
       "                                                 decoy  before_total_score  \\\n",
       "0    RC4_20_mini_nm_00152_1.6_31_0001_0018_hb_0002_...            0.000000   \n",
       "1    RC4_20_mini_nm_00247_1.6_31_0001_0051_hb_0001_...            0.433105   \n",
       "2    RC4_20_mini_nm_00073_1.6_31_0001_0018_hb_0004_...            0.158935   \n",
       "3    RC4_20_mini_nm_00164_1.6_31_0001_0050_hb_designed            0.439348   \n",
       "4    RC4_20_mini_nm_00141_1.6_31_0001_0048_hb_designed            0.146810   \n",
       "..                                                 ...                 ...   \n",
       "875  RC4_20_mini_nm_00245_1.6_31_0001_0044_hb_0001_...            0.253980   \n",
       "876  RC4_20_mini_nm_00179_1.6_31_0001_0024_hb_0002_...            0.903887   \n",
       "877  RC4_20_mini_nm_00127_1.6_31_0001_0035_hb_0009_...            1.583000   \n",
       "878  RC4_20_mini_nm_00019_1.6_31_0001_0037_hb_designed            0.000000   \n",
       "879  RC4_20_mini_nm_00103_1.6_31_0001_0039_hb_0001_...            0.699360   \n",
       "\n",
       "     after_total_score  delta_total_score  before_max_score  after_max_score  \\\n",
       "0            14.388092          14.388092          0.000000         7.987588   \n",
       "1            42.424901          41.991796          0.337271        20.184093   \n",
       "2             1.480086           1.321152          0.110978         1.068953   \n",
       "3             2.112788           1.673440          0.439347         1.248786   \n",
       "4            21.462417          21.315608          0.138320        11.386640   \n",
       "..                 ...                ...               ...              ...   \n",
       "875           3.766594           3.512613          0.253980         1.988189   \n",
       "876          26.305257          25.401370          0.381906        13.075914   \n",
       "877          27.419211          25.836211          0.754413        11.068920   \n",
       "878          16.377985          16.377985          0.000000         9.476503   \n",
       "879           0.658028          -0.041333          0.512031         0.607658   \n",
       "\n",
       "     delta_max_score  max_delta_score  max_delta_dist  before_total_dist  \\\n",
       "0           7.987588         7.987588        1.901375          11.157995   \n",
       "1          19.846821        20.184093        4.430462          11.793943   \n",
       "2           0.957975         1.056678        0.241632          14.938128   \n",
       "3           0.809439         0.809439        0.432614          11.498856   \n",
       "4          11.248320        11.248320        2.252945           8.610391   \n",
       "..               ...              ...             ...                ...   \n",
       "875         1.734209         1.988189        1.436724          13.236438   \n",
       "876        12.694008        12.694008        2.538802          14.970829   \n",
       "877        10.314507        10.538230        2.107646          20.807627   \n",
       "878         9.476503         9.476503        2.291728          11.662757   \n",
       "879         0.095627         0.607658        0.453199          13.646494   \n",
       "\n",
       "     after_total_dist  delta_total_dist  \n",
       "0           15.009035          3.851040  \n",
       "1           20.951630          9.157687  \n",
       "2           15.304167          0.366039  \n",
       "3           12.432214          0.933358  \n",
       "4           13.207913          4.597523  \n",
       "..                ...               ...  \n",
       "875         15.465956          2.229518  \n",
       "876         19.986177          5.015348  \n",
       "877         26.641715          5.834089  \n",
       "878         15.459634          3.796877  \n",
       "879         14.341013          0.694519  \n",
       "\n",
       "[880 rows x 12 columns]"
      ]
     },
     "execution_count": 100,
     "metadata": {},
     "output_type": "execute_result"
    }
   ],
   "source": [
    "df"
   ]
  },
  {
   "cell_type": "code",
   "execution_count": 101,
   "metadata": {},
   "outputs": [],
   "source": [
    "#ok"
   ]
  },
  {
   "cell_type": "code",
   "execution_count": 102,
   "metadata": {},
   "outputs": [
    {
     "data": {
      "text/plain": [
       "'RC4_20_mini_nm_00050_1.6_31_0001_0054_hb_designed_relax_sym'"
      ]
     },
     "execution_count": 102,
     "metadata": {},
     "output_type": "execute_result"
    }
   ],
   "source": [
    "pd.read_csv(\"02_worst9mer/worst9mer.csv\")['decoy'][0]"
   ]
  },
  {
   "cell_type": "code",
   "execution_count": 103,
   "metadata": {},
   "outputs": [
    {
     "data": {
      "text/html": [
       "<div>\n",
       "<style scoped>\n",
       "    .dataframe tbody tr th:only-of-type {\n",
       "        vertical-align: middle;\n",
       "    }\n",
       "\n",
       "    .dataframe tbody tr th {\n",
       "        vertical-align: top;\n",
       "    }\n",
       "\n",
       "    .dataframe thead th {\n",
       "        text-align: right;\n",
       "    }\n",
       "</style>\n",
       "<table border=\"1\" class=\"dataframe\">\n",
       "  <thead>\n",
       "    <tr style=\"text-align: right;\">\n",
       "      <th></th>\n",
       "      <th>decoy</th>\n",
       "      <th>worst9mer</th>\n",
       "    </tr>\n",
       "  </thead>\n",
       "  <tbody>\n",
       "    <tr>\n",
       "      <th>0</th>\n",
       "      <td>RC4_20_mini_nm_00050_1.6_31_0001_0054_hb_designed</td>\n",
       "      <td>0.378281</td>\n",
       "    </tr>\n",
       "    <tr>\n",
       "      <th>1</th>\n",
       "      <td>RC4_20_mini_nm_00121_1.6_31_0001_0040_hb_0005_...</td>\n",
       "      <td>0.418672</td>\n",
       "    </tr>\n",
       "    <tr>\n",
       "      <th>2</th>\n",
       "      <td>RC4_20_mini_nm_00024_1.6_31_0001_0054_hb_0001_...</td>\n",
       "      <td>0.380927</td>\n",
       "    </tr>\n",
       "    <tr>\n",
       "      <th>3</th>\n",
       "      <td>RC4_20_mini_nm_00249_1.6_31_0001_0010_hb_0010_...</td>\n",
       "      <td>0.457053</td>\n",
       "    </tr>\n",
       "    <tr>\n",
       "      <th>4</th>\n",
       "      <td>RC4_20_mini_nm_00149_1.6_31_0001_0043_hb_0003_...</td>\n",
       "      <td>0.471514</td>\n",
       "    </tr>\n",
       "    <tr>\n",
       "      <th>...</th>\n",
       "      <td>...</td>\n",
       "      <td>...</td>\n",
       "    </tr>\n",
       "    <tr>\n",
       "      <th>875</th>\n",
       "      <td>RC4_20_mini_nm_00249_1.6_31_0001_0007_hb_designed</td>\n",
       "      <td>0.367620</td>\n",
       "    </tr>\n",
       "    <tr>\n",
       "      <th>876</th>\n",
       "      <td>RC4_20_mini_nm_00155_1.6_31_0001_0001_hb_designed</td>\n",
       "      <td>0.353307</td>\n",
       "    </tr>\n",
       "    <tr>\n",
       "      <th>877</th>\n",
       "      <td>RC4_20_mini_nm_00102_1.6_31_0001_0029_hb_0001_...</td>\n",
       "      <td>0.352161</td>\n",
       "    </tr>\n",
       "    <tr>\n",
       "      <th>878</th>\n",
       "      <td>RC4_20_mini_nm_00216_1.6_31_0001_0037_hb_0004_...</td>\n",
       "      <td>0.395269</td>\n",
       "    </tr>\n",
       "    <tr>\n",
       "      <th>879</th>\n",
       "      <td>RC4_20_mini_nm_00184_1.6_31_0001_0038_hb_0002_...</td>\n",
       "      <td>0.426096</td>\n",
       "    </tr>\n",
       "  </tbody>\n",
       "</table>\n",
       "<p>880 rows × 2 columns</p>\n",
       "</div>"
      ],
      "text/plain": [
       "                                                 decoy  worst9mer\n",
       "0    RC4_20_mini_nm_00050_1.6_31_0001_0054_hb_designed   0.378281\n",
       "1    RC4_20_mini_nm_00121_1.6_31_0001_0040_hb_0005_...   0.418672\n",
       "2    RC4_20_mini_nm_00024_1.6_31_0001_0054_hb_0001_...   0.380927\n",
       "3    RC4_20_mini_nm_00249_1.6_31_0001_0010_hb_0010_...   0.457053\n",
       "4    RC4_20_mini_nm_00149_1.6_31_0001_0043_hb_0003_...   0.471514\n",
       "..                                                 ...        ...\n",
       "875  RC4_20_mini_nm_00249_1.6_31_0001_0007_hb_designed   0.367620\n",
       "876  RC4_20_mini_nm_00155_1.6_31_0001_0001_hb_designed   0.353307\n",
       "877  RC4_20_mini_nm_00102_1.6_31_0001_0029_hb_0001_...   0.352161\n",
       "878  RC4_20_mini_nm_00216_1.6_31_0001_0037_hb_0004_...   0.395269\n",
       "879  RC4_20_mini_nm_00184_1.6_31_0001_0038_hb_0002_...   0.426096\n",
       "\n",
       "[880 rows x 2 columns]"
      ]
     },
     "execution_count": 103,
     "metadata": {},
     "output_type": "execute_result"
    }
   ],
   "source": [
    "worst9mer_df = pd.read_csv(\"02_worst9mer/worst9mer.csv\")\n",
    "worst9mer_df['decoy'] = worst9mer_df['decoy'].str.split(\"_relax_sym\").str[0]\n",
    "worst9mer_df"
   ]
  },
  {
   "cell_type": "code",
   "execution_count": 104,
   "metadata": {},
   "outputs": [],
   "source": [
    "df = df.merge(worst9mer_df)"
   ]
  },
  {
   "cell_type": "code",
   "execution_count": 105,
   "metadata": {},
   "outputs": [
    {
     "data": {
      "text/plain": [
       "array([[<matplotlib.axes._subplots.AxesSubplot object at 0x7fffbf7db0f0>]],\n",
       "      dtype=object)"
      ]
     },
     "execution_count": 105,
     "metadata": {},
     "output_type": "execute_result"
    },
    {
     "data": {
      "image/png": "[encoded data removed]",
      "text/plain": [
       "<Figure size 432x288 with 1 Axes>"
      ]
     },
     "metadata": {
      "needs_background": "light"
     },
     "output_type": "display_data"
    }
   ],
   "source": [
    "df.hist('worst9mer')"
   ]
  },
  {
   "cell_type": "code",
   "execution_count": 106,
   "metadata": {},
   "outputs": [
    {
     "data": {
      "text/plain": [
       "before_total_score    0.156210\n",
       "after_total_score     0.999389\n",
       "delta_total_score     1.000000\n",
       "before_max_score      0.174835\n",
       "after_max_score       0.923292\n",
       "delta_max_score       0.923478\n",
       "max_delta_score       0.924795\n",
       "max_delta_dist        0.921146\n",
       "before_total_dist     0.215935\n",
       "after_total_dist      0.778107\n",
       "delta_total_dist      0.995808\n",
       "worst9mer             0.028210\n",
       "Name: delta_total_score, dtype: float64"
      ]
     },
     "execution_count": 106,
     "metadata": {},
     "output_type": "execute_result"
    }
   ],
   "source": [
    "df.corr()['delta_total_score']"
   ]
  },
  {
   "cell_type": "code",
   "execution_count": null,
   "metadata": {},
   "outputs": [],
   "source": []
  },
  {
   "cell_type": "code",
   "execution_count": 107,
   "metadata": {},
   "outputs": [],
   "source": [
    "#great"
   ]
  },
  {
   "cell_type": "code",
   "execution_count": 108,
   "metadata": {},
   "outputs": [
    {
     "name": "stderr",
     "output_type": "stream",
     "text": [
      "/home/rdkibler/.conda/envs/pyro/lib/python3.7/site-packages/ipykernel_launcher.py:2: TqdmDeprecationWarning: This function will be removed in tqdm==5.0.0\n",
      "Please use `tqdm.notebook.tqdm` instead of `tqdm.tqdm_notebook`\n",
      "  \n"
     ]
    },
    {
     "data": {
      "application/vnd.jupyter.widget-view+json": {
       "model_id": "a4c430f65dcb4b809f568c262dded43f",
       "version_major": 2,
       "version_minor": 0
      },
      "text/plain": [
       "HBox(children=(FloatProgress(value=0.0, max=880.0), HTML(value='')))"
      ]
     },
     "metadata": {},
     "output_type": "display_data"
    },
    {
     "name": "stdout",
     "output_type": "stream",
     "text": [
      "\n"
     ]
    },
    {
     "data": {
      "text/html": [
       "<div>\n",
       "<style scoped>\n",
       "    .dataframe tbody tr th:only-of-type {\n",
       "        vertical-align: middle;\n",
       "    }\n",
       "\n",
       "    .dataframe tbody tr th {\n",
       "        vertical-align: top;\n",
       "    }\n",
       "\n",
       "    .dataframe thead th {\n",
       "        text-align: right;\n",
       "    }\n",
       "</style>\n",
       "<table border=\"1\" class=\"dataframe\">\n",
       "  <thead>\n",
       "    <tr style=\"text-align: right;\">\n",
       "      <th></th>\n",
       "      <th>length</th>\n",
       "      <th>global_mean_lddt</th>\n",
       "      <th>global_mean_pessimistic_lddt</th>\n",
       "      <th>global_mean_optimistic_lddt</th>\n",
       "      <th>num_lddt_sub90</th>\n",
       "      <th>num_pessimistic_lddt_sub90</th>\n",
       "      <th>num_optimistic_lddt_sub90</th>\n",
       "      <th>description</th>\n",
       "    </tr>\n",
       "  </thead>\n",
       "  <tbody>\n",
       "    <tr>\n",
       "      <th>0</th>\n",
       "      <td>276</td>\n",
       "      <td>0.996582</td>\n",
       "      <td>0.994141</td>\n",
       "      <td>0.997559</td>\n",
       "      <td>0</td>\n",
       "      <td>0</td>\n",
       "      <td>0</td>\n",
       "      <td>RC4_20_mini_nm_00044_1.6_31_0001_0061_hb_desig...</td>\n",
       "    </tr>\n",
       "    <tr>\n",
       "      <th>1</th>\n",
       "      <td>276</td>\n",
       "      <td>0.987305</td>\n",
       "      <td>0.982910</td>\n",
       "      <td>0.989258</td>\n",
       "      <td>1</td>\n",
       "      <td>1</td>\n",
       "      <td>1</td>\n",
       "      <td>RC4_20_mini_nm_00067_1.6_31_0001_0008_hb_0001_...</td>\n",
       "    </tr>\n",
       "    <tr>\n",
       "      <th>2</th>\n",
       "      <td>276</td>\n",
       "      <td>0.997070</td>\n",
       "      <td>0.996094</td>\n",
       "      <td>0.997559</td>\n",
       "      <td>0</td>\n",
       "      <td>0</td>\n",
       "      <td>0</td>\n",
       "      <td>RC4_20_mini_nm_00136_1.6_31_0001_0048_hb_desig...</td>\n",
       "    </tr>\n",
       "    <tr>\n",
       "      <th>3</th>\n",
       "      <td>276</td>\n",
       "      <td>0.997070</td>\n",
       "      <td>0.994629</td>\n",
       "      <td>0.998047</td>\n",
       "      <td>0</td>\n",
       "      <td>0</td>\n",
       "      <td>0</td>\n",
       "      <td>RC4_20_mini_nm_00017_1.6_31_0001_0018_hb_0003_...</td>\n",
       "    </tr>\n",
       "    <tr>\n",
       "      <th>4</th>\n",
       "      <td>276</td>\n",
       "      <td>0.991699</td>\n",
       "      <td>0.988281</td>\n",
       "      <td>0.993164</td>\n",
       "      <td>0</td>\n",
       "      <td>0</td>\n",
       "      <td>0</td>\n",
       "      <td>RC4_20_mini_nm_00037_1.6_31_0001_0016_hb_0002_...</td>\n",
       "    </tr>\n",
       "    <tr>\n",
       "      <th>...</th>\n",
       "      <td>...</td>\n",
       "      <td>...</td>\n",
       "      <td>...</td>\n",
       "      <td>...</td>\n",
       "      <td>...</td>\n",
       "      <td>...</td>\n",
       "      <td>...</td>\n",
       "      <td>...</td>\n",
       "    </tr>\n",
       "    <tr>\n",
       "      <th>875</th>\n",
       "      <td>276</td>\n",
       "      <td>0.993652</td>\n",
       "      <td>0.990723</td>\n",
       "      <td>0.995117</td>\n",
       "      <td>0</td>\n",
       "      <td>1</td>\n",
       "      <td>0</td>\n",
       "      <td>RC4_20_mini_nm_00055_1.6_31_0001_0028_hb_desig...</td>\n",
       "    </tr>\n",
       "    <tr>\n",
       "      <th>876</th>\n",
       "      <td>276</td>\n",
       "      <td>0.996094</td>\n",
       "      <td>0.993652</td>\n",
       "      <td>0.997070</td>\n",
       "      <td>0</td>\n",
       "      <td>0</td>\n",
       "      <td>0</td>\n",
       "      <td>RC4_20_mini_nm_00079_1.6_31_0001_0046_hb_0001_...</td>\n",
       "    </tr>\n",
       "    <tr>\n",
       "      <th>877</th>\n",
       "      <td>276</td>\n",
       "      <td>0.993652</td>\n",
       "      <td>0.990723</td>\n",
       "      <td>0.995117</td>\n",
       "      <td>0</td>\n",
       "      <td>0</td>\n",
       "      <td>0</td>\n",
       "      <td>RC4_20_mini_nm_00030_1.6_31_0001_0031_hb_desig...</td>\n",
       "    </tr>\n",
       "    <tr>\n",
       "      <th>878</th>\n",
       "      <td>276</td>\n",
       "      <td>0.981934</td>\n",
       "      <td>0.978027</td>\n",
       "      <td>0.985352</td>\n",
       "      <td>2</td>\n",
       "      <td>3</td>\n",
       "      <td>0</td>\n",
       "      <td>RC4_20_mini_nm_00056_1.6_31_0001_0042_hb_0002_...</td>\n",
       "    </tr>\n",
       "    <tr>\n",
       "      <th>879</th>\n",
       "      <td>276</td>\n",
       "      <td>0.994141</td>\n",
       "      <td>0.991699</td>\n",
       "      <td>0.995117</td>\n",
       "      <td>0</td>\n",
       "      <td>0</td>\n",
       "      <td>0</td>\n",
       "      <td>RC4_20_mini_nm_00097_1.6_31_0001_0054_hb_0004_...</td>\n",
       "    </tr>\n",
       "  </tbody>\n",
       "</table>\n",
       "<p>880 rows × 8 columns</p>\n",
       "</div>"
      ],
      "text/plain": [
       "     length  global_mean_lddt  global_mean_pessimistic_lddt  \\\n",
       "0       276          0.996582                      0.994141   \n",
       "1       276          0.987305                      0.982910   \n",
       "2       276          0.997070                      0.996094   \n",
       "3       276          0.997070                      0.994629   \n",
       "4       276          0.991699                      0.988281   \n",
       "..      ...               ...                           ...   \n",
       "875     276          0.993652                      0.990723   \n",
       "876     276          0.996094                      0.993652   \n",
       "877     276          0.993652                      0.990723   \n",
       "878     276          0.981934                      0.978027   \n",
       "879     276          0.994141                      0.991699   \n",
       "\n",
       "     global_mean_optimistic_lddt  num_lddt_sub90  num_pessimistic_lddt_sub90  \\\n",
       "0                       0.997559               0                           0   \n",
       "1                       0.989258               1                           1   \n",
       "2                       0.997559               0                           0   \n",
       "3                       0.998047               0                           0   \n",
       "4                       0.993164               0                           0   \n",
       "..                           ...             ...                         ...   \n",
       "875                     0.995117               0                           1   \n",
       "876                     0.997070               0                           0   \n",
       "877                     0.995117               0                           0   \n",
       "878                     0.985352               2                           3   \n",
       "879                     0.995117               0                           0   \n",
       "\n",
       "     num_optimistic_lddt_sub90  \\\n",
       "0                            0   \n",
       "1                            1   \n",
       "2                            0   \n",
       "3                            0   \n",
       "4                            0   \n",
       "..                         ...   \n",
       "875                          0   \n",
       "876                          0   \n",
       "877                          0   \n",
       "878                          0   \n",
       "879                          0   \n",
       "\n",
       "                                           description  \n",
       "0    RC4_20_mini_nm_00044_1.6_31_0001_0061_hb_desig...  \n",
       "1    RC4_20_mini_nm_00067_1.6_31_0001_0008_hb_0001_...  \n",
       "2    RC4_20_mini_nm_00136_1.6_31_0001_0048_hb_desig...  \n",
       "3    RC4_20_mini_nm_00017_1.6_31_0001_0018_hb_0003_...  \n",
       "4    RC4_20_mini_nm_00037_1.6_31_0001_0016_hb_0002_...  \n",
       "..                                                 ...  \n",
       "875  RC4_20_mini_nm_00055_1.6_31_0001_0028_hb_desig...  \n",
       "876  RC4_20_mini_nm_00079_1.6_31_0001_0046_hb_0001_...  \n",
       "877  RC4_20_mini_nm_00030_1.6_31_0001_0031_hb_desig...  \n",
       "878  RC4_20_mini_nm_00056_1.6_31_0001_0042_hb_0002_...  \n",
       "879  RC4_20_mini_nm_00097_1.6_31_0001_0054_hb_0004_...  \n",
       "\n",
       "[880 rows x 8 columns]"
      ]
     },
     "execution_count": 108,
     "metadata": {},
     "output_type": "execute_result"
    }
   ],
   "source": [
    "lddt_data = []\n",
    "for npz in tqdm.tqdm_notebook(glob.glob(\"01_dan/predictions/*.npz\")):\n",
    "    description = os.path.splitext(os.path.basename(npz))[0]\n",
    "    data = {}\n",
    "    x = np.load(npz)\n",
    "\n",
    "    lddt = x[\"lddt\"]           # per residue lddt\n",
    "\n",
    "    num_subunits = 4\n",
    "\n",
    "    monomer_len = len(lddt) // num_subunits\n",
    "\n",
    "    #hard coded for trimer...\n",
    "    stacked_lddt = np.vstack([lddt[:monomer_len],lddt[monomer_len:2*monomer_len],lddt[2*monomer_len:3*monomer_len],lddt[3*monomer_len:4*monomer_len]]).T\n",
    "    \n",
    "    mean_subunit_lddts = np.mean(stacked_lddt,axis=1)\n",
    "    min_subunit_lddts = np.min(stacked_lddt,axis=1)\n",
    "    max_subunit_lddts = np.max(stacked_lddt,axis=1)\n",
    "    \n",
    "    data['length'] = monomer_len\n",
    "    data[\"global_mean_lddt\"] = np.mean(mean_subunit_lddts)\n",
    "    data[\"global_mean_pessimistic_lddt\"] = np.mean(min_subunit_lddts)\n",
    "    data[\"global_mean_optimistic_lddt\"] = np.mean(max_subunit_lddts)\n",
    "    data[\"num_lddt_sub90\"] = np.sum(mean_subunit_lddts < 0.9)\n",
    "    data[\"num_pessimistic_lddt_sub90\"] = np.sum(min_subunit_lddts < 0.9)\n",
    "    data[\"num_optimistic_lddt_sub90\"] = np.sum(max_subunit_lddts < 0.9)\n",
    "    data[\"description\"] = description\n",
    "    \n",
    "    lddt_data.append(data)\n",
    "\n",
    "lddt_df = pd.DataFrame(lddt_data)\n",
    "lddt_df"
   ]
  },
  {
   "cell_type": "code",
   "execution_count": 109,
   "metadata": {},
   "outputs": [
    {
     "data": {
      "text/plain": [
       "'RC4_20_mini_nm_00044_1.6_31_0001_0061_hb_designed_relax_sym'"
      ]
     },
     "execution_count": 109,
     "metadata": {},
     "output_type": "execute_result"
    }
   ],
   "source": [
    "lddt_df['description'][0]"
   ]
  },
  {
   "cell_type": "code",
   "execution_count": 110,
   "metadata": {},
   "outputs": [],
   "source": [
    "lddt_df['decoy'] = lddt_df['description'].str.split(\"_relax_sym\").str[0]"
   ]
  },
  {
   "cell_type": "code",
   "execution_count": 111,
   "metadata": {},
   "outputs": [],
   "source": [
    "lddt_df = lddt_df.drop(columns=['description'])"
   ]
  },
  {
   "cell_type": "code",
   "execution_count": 112,
   "metadata": {},
   "outputs": [],
   "source": [
    "df = df.merge(lddt_df)"
   ]
  },
  {
   "cell_type": "code",
   "execution_count": 113,
   "metadata": {},
   "outputs": [
    {
     "data": {
      "text/plain": [
       "before_total_score              0.156210\n",
       "after_total_score               0.999389\n",
       "delta_total_score               1.000000\n",
       "before_max_score                0.174835\n",
       "after_max_score                 0.923292\n",
       "delta_max_score                 0.923478\n",
       "max_delta_score                 0.924795\n",
       "max_delta_dist                  0.921146\n",
       "before_total_dist               0.215935\n",
       "after_total_dist                0.778107\n",
       "delta_total_dist                0.995808\n",
       "worst9mer                       0.028210\n",
       "length                               NaN\n",
       "global_mean_lddt               -0.078864\n",
       "global_mean_pessimistic_lddt   -0.084652\n",
       "global_mean_optimistic_lddt    -0.077409\n",
       "num_lddt_sub90                  0.026875\n",
       "num_pessimistic_lddt_sub90      0.059182\n",
       "num_optimistic_lddt_sub90       0.013644\n",
       "Name: delta_total_score, dtype: float64"
      ]
     },
     "execution_count": 113,
     "metadata": {},
     "output_type": "execute_result"
    }
   ],
   "source": [
    "df.corr()['delta_total_score']"
   ]
  },
  {
   "cell_type": "code",
   "execution_count": 114,
   "metadata": {},
   "outputs": [
    {
     "data": {
      "text/plain": [
       "array([[<matplotlib.axes._subplots.AxesSubplot object at 0x7fffbf7db2b0>]],\n",
       "      dtype=object)"
      ]
     },
     "execution_count": 114,
     "metadata": {},
     "output_type": "execute_result"
    },
    {
     "data": {
      "image/png": "[encoded data removed]",
      "text/plain": [
       "<Figure size 432x288 with 1 Axes>"
      ]
     },
     "metadata": {
      "needs_background": "light"
     },
     "output_type": "display_data"
    }
   ],
   "source": [
    "df.hist('num_pessimistic_lddt_sub90')"
   ]
  },
  {
   "cell_type": "code",
   "execution_count": 115,
   "metadata": {},
   "outputs": [
    {
     "data": {
      "text/plain": [
       "array([[<matplotlib.axes._subplots.AxesSubplot object at 0x7fffbf792e48>]],\n",
       "      dtype=object)"
      ]
     },
     "execution_count": 115,
     "metadata": {},
     "output_type": "execute_result"
    },
    {
     "data": {
      "image/png": "[encoded data removed]",
      "text/plain": [
       "<Figure size 432x288 with 1 Axes>"
      ]
     },
     "metadata": {
      "needs_background": "light"
     },
     "output_type": "display_data"
    }
   ],
   "source": [
    "col = 'num_pessimistic_lddt_sub90'\n",
    "df[df[col] < 10].hist(col)"
   ]
  },
  {
   "cell_type": "code",
   "execution_count": null,
   "metadata": {},
   "outputs": [],
   "source": []
  },
  {
   "cell_type": "code",
   "execution_count": null,
   "metadata": {},
   "outputs": [],
   "source": []
  },
  {
   "cell_type": "code",
   "execution_count": 116,
   "metadata": {},
   "outputs": [],
   "source": [
    "#I suppose now we filter"
   ]
  },
  {
   "cell_type": "code",
   "execution_count": 117,
   "metadata": {},
   "outputs": [
    {
     "data": {
      "text/plain": [
       "880"
      ]
     },
     "execution_count": 117,
     "metadata": {},
     "output_type": "execute_result"
    }
   ],
   "source": [
    "len(df)"
   ]
  },
  {
   "cell_type": "code",
   "execution_count": 118,
   "metadata": {},
   "outputs": [
    {
     "data": {
      "text/plain": [
       "502"
      ]
     },
     "execution_count": 118,
     "metadata": {},
     "output_type": "execute_result"
    }
   ],
   "source": [
    "df = df[df['num_pessimistic_lddt_sub90'] == 0]\n",
    "len(df)"
   ]
  },
  {
   "cell_type": "code",
   "execution_count": 119,
   "metadata": {},
   "outputs": [
    {
     "data": {
      "text/plain": [
       "502"
      ]
     },
     "execution_count": 119,
     "metadata": {},
     "output_type": "execute_result"
    }
   ],
   "source": [
    "df = df[df['num_pessimistic_lddt_sub90'] <= 0.6]\n",
    "len(df)"
   ]
  },
  {
   "cell_type": "code",
   "execution_count": 126,
   "metadata": {},
   "outputs": [
    {
     "data": {
      "text/plain": [
       "array([[<matplotlib.axes._subplots.AxesSubplot object at 0x7fffbf3ff6d8>]],\n",
       "      dtype=object)"
      ]
     },
     "execution_count": 126,
     "metadata": {},
     "output_type": "execute_result"
    },
    {
     "data": {
      "image/png": "[encoded data removed]",
      "text/plain": [
       "<Figure size 432x288 with 1 Axes>"
      ]
     },
     "metadata": {
      "needs_background": "light"
     },
     "output_type": "display_data"
    }
   ],
   "source": [
    "df[df['delta_total_score'] < 10].hist(\"delta_total_score\",bins=50)"
   ]
  },
  {
   "cell_type": "code",
   "execution_count": 127,
   "metadata": {},
   "outputs": [
    {
     "data": {
      "text/plain": [
       "array([[<matplotlib.axes._subplots.AxesSubplot object at 0x7fffbf300b00>]],\n",
       "      dtype=object)"
      ]
     },
     "execution_count": 127,
     "metadata": {},
     "output_type": "execute_result"
    },
    {
     "data": {
      "image/png": "[encoded data removed]",
      "text/plain": [
       "<Figure size 432x288 with 1 Axes>"
      ]
     },
     "metadata": {
      "needs_background": "light"
     },
     "output_type": "display_data"
    }
   ],
   "source": [
    "df[df['delta_total_score'] < 2].hist(\"delta_total_score\",bins=50)"
   ]
  },
  {
   "cell_type": "code",
   "execution_count": 128,
   "metadata": {},
   "outputs": [
    {
     "data": {
      "text/plain": [
       "79"
      ]
     },
     "execution_count": 128,
     "metadata": {},
     "output_type": "execute_result"
    }
   ],
   "source": [
    "df = df[df['delta_total_score'] <= 0.5]\n",
    "len(df)"
   ]
  },
  {
   "cell_type": "code",
   "execution_count": 130,
   "metadata": {},
   "outputs": [
    {
     "data": {
      "text/plain": [
       "47     RC4_20_mini_nm_00077_1.6_31_0001_0034_hb_designed\n",
       "51     RC4_20_mini_nm_00146_1.6_31_0001_0042_hb_designed\n",
       "54     RC4_20_mini_nm_00083_1.6_31_0001_0051_hb_designed\n",
       "56     RC4_20_mini_nm_00137_1.6_31_0001_0057_hb_0010_...\n",
       "65     RC4_20_mini_nm_00152_1.6_31_0001_0045_hb_0003_...\n",
       "                             ...                        \n",
       "863    RC4_20_mini_nm_00020_1.6_31_0001_0030_hb_0002_...\n",
       "867    RC4_20_mini_nm_00035_1.6_31_0001_0054_hb_0002_...\n",
       "870    RC4_20_mini_nm_00028_1.6_31_0001_0013_hb_designed\n",
       "872    RC4_20_mini_nm_00206_1.6_31_0001_0036_hb_0002_...\n",
       "879    RC4_20_mini_nm_00103_1.6_31_0001_0039_hb_0001_...\n",
       "Name: decoy, Length: 79, dtype: object"
      ]
     },
     "execution_count": 130,
     "metadata": {},
     "output_type": "execute_result"
    }
   ],
   "source": [
    "df.decoy"
   ]
  },
  {
   "cell_type": "code",
   "execution_count": 132,
   "metadata": {},
   "outputs": [],
   "source": [
    "paths = glob.glob(\"../05_assemble/210129_assemble_nmp_designs/*/*_relax_sym.pdb\")"
   ]
  },
  {
   "cell_type": "code",
   "execution_count": 134,
   "metadata": {},
   "outputs": [],
   "source": [
    "path_df = pd.DataFrame()\n",
    "path_df['path'] = paths"
   ]
  },
  {
   "cell_type": "code",
   "execution_count": 138,
   "metadata": {},
   "outputs": [],
   "source": [
    "path_df['decoy'] = path_df['path'].str.split(\"/\").str[-1].str.split(\"_relax_sym.pdb\").str[0]"
   ]
  },
  {
   "cell_type": "code",
   "execution_count": 140,
   "metadata": {},
   "outputs": [],
   "source": [
    "df = df.merge(path_df)"
   ]
  },
  {
   "cell_type": "code",
   "execution_count": 153,
   "metadata": {},
   "outputs": [
    {
     "data": {
      "text/plain": [
       "0     RC_4_20_nmp1_redesign_01\n",
       "1     RC_4_20_nmp1_redesign_02\n",
       "2     RC_4_20_nmp1_redesign_03\n",
       "3     RC_4_20_nmp1_redesign_04\n",
       "4     RC_4_20_nmp1_redesign_05\n",
       "                ...           \n",
       "74    RC_4_20_nmp1_redesign_75\n",
       "75    RC_4_20_nmp1_redesign_76\n",
       "76    RC_4_20_nmp1_redesign_77\n",
       "77    RC_4_20_nmp1_redesign_78\n",
       "78    RC_4_20_nmp1_redesign_79\n",
       "Name: review_id, Length: 79, dtype: object"
      ]
     },
     "execution_count": 153,
     "metadata": {},
     "output_type": "execute_result"
    }
   ],
   "source": [
    "df['review_id'] = [f\"RC_4_20_nmp1_redesign_{idx+1:02d}\" for idx in df.index]\n",
    "df['review_id']"
   ]
  },
  {
   "cell_type": "code",
   "execution_count": 154,
   "metadata": {},
   "outputs": [
    {
     "name": "stdout",
     "output_type": "stream",
     "text": [
      "cp ../05_assemble/210129_assemble_nmp_designs/0/RC4_20_mini_nm_00077_1.6_31_0001_0034_hb_designed_relax_sym.pdb 03_passing_designs/RC_4_20_nmp1_redesign_01.pdb\n",
      "cp ../05_assemble/210129_assemble_nmp_designs/0/RC4_20_mini_nm_00146_1.6_31_0001_0042_hb_designed_relax_sym.pdb 03_passing_designs/RC_4_20_nmp1_redesign_02.pdb\n",
      "cp ../05_assemble/210129_assemble_nmp_designs/0/RC4_20_mini_nm_00083_1.6_31_0001_0051_hb_designed_relax_sym.pdb 03_passing_designs/RC_4_20_nmp1_redesign_03.pdb\n",
      "cp ../05_assemble/210129_assemble_nmp_designs/0/RC4_20_mini_nm_00137_1.6_31_0001_0057_hb_0010_designed_relax_sym.pdb 03_passing_designs/RC_4_20_nmp1_redesign_04.pdb\n",
      "cp ../05_assemble/210129_assemble_nmp_designs/0/RC4_20_mini_nm_00152_1.6_31_0001_0045_hb_0003_designed_relax_sym.pdb 03_passing_designs/RC_4_20_nmp1_redesign_05.pdb\n",
      "cp ../05_assemble/210129_assemble_nmp_designs/0/RC4_20_mini_nm_00074_1.6_31_0001_0012_hb_0002_designed_relax_sym.pdb 03_passing_designs/RC_4_20_nmp1_redesign_06.pdb\n",
      "cp ../05_assemble/210129_assemble_nmp_designs/0/RC4_20_mini_nm_00184_1.6_31_0001_0044_hb_designed_relax_sym.pdb 03_passing_designs/RC_4_20_nmp1_redesign_07.pdb\n",
      "cp ../05_assemble/210129_assemble_nmp_designs/0/RC4_20_mini_nm_00099_1.6_31_0001_0058_hb_0001_designed_relax_sym.pdb 03_passing_designs/RC_4_20_nmp1_redesign_08.pdb\n",
      "cp ../05_assemble/210129_assemble_nmp_designs/0/RC4_20_mini_nm_00042_1.6_31_0001_0023_hb_0002_designed_relax_sym.pdb 03_passing_designs/RC_4_20_nmp1_redesign_09.pdb\n",
      "cp ../05_assemble/210129_assemble_nmp_designs/0/RC4_20_mini_nm_00149_1.6_31_0001_0043_hb_0001_designed_relax_sym.pdb 03_passing_designs/RC_4_20_nmp1_redesign_10.pdb\n",
      "cp ../05_assemble/210129_assemble_nmp_designs/0/RC4_20_mini_nm_00028_1.6_31_0001_0051_hb_0009_designed_relax_sym.pdb 03_passing_designs/RC_4_20_nmp1_redesign_11.pdb\n",
      "cp ../05_assemble/210129_assemble_nmp_designs/0/RC4_20_mini_nm_00055_1.6_31_0001_0020_hb_designed_relax_sym.pdb 03_passing_designs/RC_4_20_nmp1_redesign_12.pdb\n",
      "cp ../05_assemble/210129_assemble_nmp_designs/0/RC4_20_mini_nm_00097_1.6_31_0001_0030_hb_designed_relax_sym.pdb 03_passing_designs/RC_4_20_nmp1_redesign_13.pdb\n",
      "cp ../05_assemble/210129_assemble_nmp_designs/0/RC4_20_mini_nm_00079_1.6_31_0001_0046_hb_0001_designed_relax_sym.pdb 03_passing_designs/RC_4_20_nmp1_redesign_14.pdb\n",
      "cp ../05_assemble/210129_assemble_nmp_designs/0/RC4_20_mini_nm_00247_1.6_31_0001_0024_hb_designed_relax_sym.pdb 03_passing_designs/RC_4_20_nmp1_redesign_15.pdb\n",
      "cp ../05_assemble/210129_assemble_nmp_designs/0/RC4_20_mini_nm_00115_1.6_31_0001_0017_hb_designed_relax_sym.pdb 03_passing_designs/RC_4_20_nmp1_redesign_16.pdb\n",
      "cp ../05_assemble/210129_assemble_nmp_designs/0/RC4_20_mini_nm_00164_1.6_31_0001_0029_hb_0003_designed_relax_sym.pdb 03_passing_designs/RC_4_20_nmp1_redesign_17.pdb\n",
      "cp ../05_assemble/210129_assemble_nmp_designs/0/RC4_20_mini_nm_00068_1.6_31_0001_0024_hb_0003_designed_relax_sym.pdb 03_passing_designs/RC_4_20_nmp1_redesign_18.pdb\n",
      "cp ../05_assemble/210129_assemble_nmp_designs/0/RC4_20_mini_nm_00132_1.6_31_0001_0053_hb_0002_designed_relax_sym.pdb 03_passing_designs/RC_4_20_nmp1_redesign_19.pdb\n",
      "cp ../05_assemble/210129_assemble_nmp_designs/0/RC4_20_mini_nm_00008_1.6_31_0001_0032_hb_0001_designed_relax_sym.pdb 03_passing_designs/RC_4_20_nmp1_redesign_20.pdb\n",
      "cp ../05_assemble/210129_assemble_nmp_designs/0/RC4_20_mini_nm_00038_1.6_31_0001_0047_hb_0002_designed_relax_sym.pdb 03_passing_designs/RC_4_20_nmp1_redesign_21.pdb\n",
      "cp ../05_assemble/210129_assemble_nmp_designs/0/RC4_20_mini_nm_00122_1.6_31_0001_0024_hb_0003_designed_relax_sym.pdb 03_passing_designs/RC_4_20_nmp1_redesign_22.pdb\n",
      "cp ../05_assemble/210129_assemble_nmp_designs/0/RC4_20_mini_nm_00085_1.6_31_0001_0013_hb_0002_designed_relax_sym.pdb 03_passing_designs/RC_4_20_nmp1_redesign_23.pdb\n",
      "cp ../05_assemble/210129_assemble_nmp_designs/0/RC4_20_mini_nm_00196_1.6_31_0001_0041_hb_designed_relax_sym.pdb 03_passing_designs/RC_4_20_nmp1_redesign_24.pdb\n",
      "cp ../05_assemble/210129_assemble_nmp_designs/0/RC4_20_mini_nm_00091_1.6_31_0001_0054_hb_designed_relax_sym.pdb 03_passing_designs/RC_4_20_nmp1_redesign_25.pdb\n",
      "cp ../05_assemble/210129_assemble_nmp_designs/0/RC4_20_mini_nm_00020_1.6_31_0001_0007_hb_0003_designed_relax_sym.pdb 03_passing_designs/RC_4_20_nmp1_redesign_26.pdb\n",
      "cp ../05_assemble/210129_assemble_nmp_designs/0/RC4_20_mini_nm_00099_1.6_31_0001_0058_hb_0002_designed_relax_sym.pdb 03_passing_designs/RC_4_20_nmp1_redesign_27.pdb\n",
      "cp ../05_assemble/210129_assemble_nmp_designs/0/RC4_20_mini_nm_00228_1.6_31_0001_0060_hb_0002_designed_relax_sym.pdb 03_passing_designs/RC_4_20_nmp1_redesign_28.pdb\n",
      "cp ../05_assemble/210129_assemble_nmp_designs/0/RC4_20_mini_nm_00194_1.6_31_0001_0048_hb_0002_designed_relax_sym.pdb 03_passing_designs/RC_4_20_nmp1_redesign_29.pdb\n",
      "cp ../05_assemble/210129_assemble_nmp_designs/0/RC4_20_mini_nm_00013_1.6_31_0001_0038_hb_0003_designed_relax_sym.pdb 03_passing_designs/RC_4_20_nmp1_redesign_30.pdb\n",
      "cp ../05_assemble/210129_assemble_nmp_designs/0/RC4_20_mini_nm_00228_1.6_31_0001_0036_hb_designed_relax_sym.pdb 03_passing_designs/RC_4_20_nmp1_redesign_31.pdb\n",
      "cp ../05_assemble/210129_assemble_nmp_designs/0/RC4_20_mini_nm_00190_1.6_31_0001_0023_hb_0001_designed_relax_sym.pdb 03_passing_designs/RC_4_20_nmp1_redesign_32.pdb\n",
      "cp ../05_assemble/210129_assemble_nmp_designs/0/RC4_20_mini_nm_00216_1.6_31_0001_0030_hb_designed_relax_sym.pdb 03_passing_designs/RC_4_20_nmp1_redesign_33.pdb\n",
      "cp ../05_assemble/210129_assemble_nmp_designs/0/RC4_20_mini_nm_00197_1.6_31_0001_0037_hb_0003_designed_relax_sym.pdb 03_passing_designs/RC_4_20_nmp1_redesign_34.pdb\n",
      "cp ../05_assemble/210129_assemble_nmp_designs/0/RC4_20_mini_nm_00028_1.6_31_0001_0036_hb_0005_designed_relax_sym.pdb 03_passing_designs/RC_4_20_nmp1_redesign_35.pdb\n",
      "cp ../05_assemble/210129_assemble_nmp_designs/0/RC4_20_mini_nm_00048_1.6_31_0001_0017_hb_0003_designed_relax_sym.pdb 03_passing_designs/RC_4_20_nmp1_redesign_36.pdb\n",
      "cp ../05_assemble/210129_assemble_nmp_designs/0/RC4_20_mini_nm_00026_1.6_31_0001_0027_hb_0002_designed_relax_sym.pdb 03_passing_designs/RC_4_20_nmp1_redesign_37.pdb\n",
      "cp ../05_assemble/210129_assemble_nmp_designs/0/RC4_20_mini_nm_00228_1.6_31_0001_0020_hb_designed_relax_sym.pdb 03_passing_designs/RC_4_20_nmp1_redesign_38.pdb\n",
      "cp ../05_assemble/210129_assemble_nmp_designs/0/RC4_20_mini_nm_00228_1.6_31_0001_0052_hb_designed_relax_sym.pdb 03_passing_designs/RC_4_20_nmp1_redesign_39.pdb\n",
      "cp ../05_assemble/210129_assemble_nmp_designs/0/RC4_20_mini_nm_00165_1.6_31_0001_0017_hb_designed_relax_sym.pdb 03_passing_designs/RC_4_20_nmp1_redesign_40.pdb\n",
      "cp ../05_assemble/210129_assemble_nmp_designs/0/RC4_20_mini_nm_00167_1.6_31_0001_0041_hb_designed_relax_sym.pdb 03_passing_designs/RC_4_20_nmp1_redesign_41.pdb\n",
      "cp ../05_assemble/210129_assemble_nmp_designs/0/RC4_20_mini_nm_00211_1.6_31_0001_0009_hb_0002_designed_relax_sym.pdb 03_passing_designs/RC_4_20_nmp1_redesign_42.pdb\n",
      "cp ../05_assemble/210129_assemble_nmp_designs/0/RC4_20_mini_nm_00210_1.6_31_0001_0009_hb_0001_designed_relax_sym.pdb 03_passing_designs/RC_4_20_nmp1_redesign_43.pdb\n",
      "cp ../05_assemble/210129_assemble_nmp_designs/0/RC4_20_mini_nm_00117_1.6_31_0001_0039_hb_0003_designed_relax_sym.pdb 03_passing_designs/RC_4_20_nmp1_redesign_44.pdb\n",
      "cp ../05_assemble/210129_assemble_nmp_designs/0/RC4_20_mini_nm_00086_1.6_31_0001_0038_hb_designed_relax_sym.pdb 03_passing_designs/RC_4_20_nmp1_redesign_45.pdb\n",
      "cp ../05_assemble/210129_assemble_nmp_designs/0/RC4_20_mini_nm_00145_1.6_31_0001_0015_hb_0002_designed_relax_sym.pdb 03_passing_designs/RC_4_20_nmp1_redesign_46.pdb\n",
      "cp ../05_assemble/210129_assemble_nmp_designs/0/RC4_20_mini_nm_00148_1.6_31_0001_0019_hb_0003_designed_relax_sym.pdb 03_passing_designs/RC_4_20_nmp1_redesign_47.pdb\n",
      "cp ../05_assemble/210129_assemble_nmp_designs/0/RC4_20_mini_nm_00189_1.6_31_0001_0006_hb_designed_relax_sym.pdb 03_passing_designs/RC_4_20_nmp1_redesign_48.pdb\n",
      "cp ../05_assemble/210129_assemble_nmp_designs/0/RC4_20_mini_nm_00185_1.6_31_0001_0029_hb_0002_designed_relax_sym.pdb 03_passing_designs/RC_4_20_nmp1_redesign_49.pdb\n",
      "cp ../05_assemble/210129_assemble_nmp_designs/0/RC4_20_mini_nm_00130_1.6_31_0001_0033_hb_0001_designed_relax_sym.pdb 03_passing_designs/RC_4_20_nmp1_redesign_50.pdb\n",
      "cp ../05_assemble/210129_assemble_nmp_designs/0/RC4_20_mini_nm_00249_1.6_31_0001_0007_hb_designed_relax_sym.pdb 03_passing_designs/RC_4_20_nmp1_redesign_51.pdb\n",
      "cp ../05_assemble/210129_assemble_nmp_designs/0/RC4_20_mini_nm_00132_1.6_31_0001_0041_hb_0001_designed_relax_sym.pdb 03_passing_designs/RC_4_20_nmp1_redesign_52.pdb\n",
      "cp ../05_assemble/210129_assemble_nmp_designs/0/RC4_20_mini_nm_00230_1.6_31_0001_0044_hb_designed_relax_sym.pdb 03_passing_designs/RC_4_20_nmp1_redesign_53.pdb\n",
      "cp ../05_assemble/210129_assemble_nmp_designs/0/RC4_20_mini_nm_00156_1.6_31_0001_0005_hb_0001_designed_relax_sym.pdb 03_passing_designs/RC_4_20_nmp1_redesign_54.pdb\n",
      "cp ../05_assemble/210129_assemble_nmp_designs/0/RC4_20_mini_nm_00073_1.6_31_0001_0019_hb_0001_designed_relax_sym.pdb 03_passing_designs/RC_4_20_nmp1_redesign_55.pdb\n",
      "cp ../05_assemble/210129_assemble_nmp_designs/0/RC4_20_mini_nm_00013_1.6_31_0001_0058_hb_designed_relax_sym.pdb 03_passing_designs/RC_4_20_nmp1_redesign_56.pdb\n",
      "cp ../05_assemble/210129_assemble_nmp_designs/0/RC4_20_mini_nm_00242_1.6_31_0001_0058_hb_0001_designed_relax_sym.pdb 03_passing_designs/RC_4_20_nmp1_redesign_57.pdb\n",
      "cp ../05_assemble/210129_assemble_nmp_designs/0/RC4_20_mini_nm_00083_1.6_31_0001_0042_hb_0005_designed_relax_sym.pdb 03_passing_designs/RC_4_20_nmp1_redesign_58.pdb\n",
      "cp ../05_assemble/210129_assemble_nmp_designs/0/RC4_20_mini_nm_00122_1.6_31_0001_0052_hb_0003_designed_relax_sym.pdb 03_passing_designs/RC_4_20_nmp1_redesign_59.pdb\n",
      "cp ../05_assemble/210129_assemble_nmp_designs/0/RC4_20_mini_nm_00037_1.6_31_0001_0016_hb_0002_designed_relax_sym.pdb 03_passing_designs/RC_4_20_nmp1_redesign_60.pdb\n",
      "cp ../05_assemble/210129_assemble_nmp_designs/0/RC4_20_mini_nm_00017_1.6_31_0001_0018_hb_0003_designed_relax_sym.pdb 03_passing_designs/RC_4_20_nmp1_redesign_61.pdb\n",
      "cp ../05_assemble/210129_assemble_nmp_designs/0/RC4_20_mini_nm_00057_1.6_31_0001_0014_hb_0002_designed_relax_sym.pdb 03_passing_designs/RC_4_20_nmp1_redesign_62.pdb\n",
      "cp ../05_assemble/210129_assemble_nmp_designs/0/RC4_20_mini_nm_00055_1.6_31_0001_0023_hb_0002_designed_relax_sym.pdb 03_passing_designs/RC_4_20_nmp1_redesign_63.pdb\n",
      "cp ../05_assemble/210129_assemble_nmp_designs/0/RC4_20_mini_nm_00072_1.6_31_0001_0052_hb_designed_relax_sym.pdb 03_passing_designs/RC_4_20_nmp1_redesign_64.pdb\n",
      "cp ../05_assemble/210129_assemble_nmp_designs/0/RC4_20_mini_nm_00034_1.6_31_0001_0030_hb_0008_designed_relax_sym.pdb 03_passing_designs/RC_4_20_nmp1_redesign_65.pdb\n",
      "cp ../05_assemble/210129_assemble_nmp_designs/0/RC4_20_mini_nm_00197_1.6_31_0001_0032_hb_designed_relax_sym.pdb 03_passing_designs/RC_4_20_nmp1_redesign_66.pdb\n",
      "cp ../05_assemble/210129_assemble_nmp_designs/0/RC4_20_mini_nm_00189_1.6_31_0001_0042_hb_designed_relax_sym.pdb 03_passing_designs/RC_4_20_nmp1_redesign_67.pdb\n",
      "cp ../05_assemble/210129_assemble_nmp_designs/0/RC4_20_mini_nm_00103_1.6_31_0001_0011_hb_0001_designed_relax_sym.pdb 03_passing_designs/RC_4_20_nmp1_redesign_68.pdb\n",
      "cp ../05_assemble/210129_assemble_nmp_designs/0/RC4_20_mini_nm_00010_1.6_31_0001_0048_hb_0002_designed_relax_sym.pdb 03_passing_designs/RC_4_20_nmp1_redesign_69.pdb\n",
      "cp ../05_assemble/210129_assemble_nmp_designs/0/RC4_20_mini_nm_00205_1.6_31_0001_0060_hb_designed_relax_sym.pdb 03_passing_designs/RC_4_20_nmp1_redesign_70.pdb\n",
      "cp ../05_assemble/210129_assemble_nmp_designs/0/RC4_20_mini_nm_00081_1.6_31_0001_0023_hb_0003_designed_relax_sym.pdb 03_passing_designs/RC_4_20_nmp1_redesign_71.pdb\n",
      "cp ../05_assemble/210129_assemble_nmp_designs/0/RC4_20_mini_nm_00160_1.6_31_0001_0025_hb_designed_relax_sym.pdb 03_passing_designs/RC_4_20_nmp1_redesign_72.pdb\n",
      "cp ../05_assemble/210129_assemble_nmp_designs/0/RC4_20_mini_nm_00059_1.6_31_0001_0042_hb_0001_designed_relax_sym.pdb 03_passing_designs/RC_4_20_nmp1_redesign_73.pdb\n",
      "cp ../05_assemble/210129_assemble_nmp_designs/0/RC4_20_mini_nm_00042_1.6_31_0001_0040_hb_0002_designed_relax_sym.pdb 03_passing_designs/RC_4_20_nmp1_redesign_74.pdb\n",
      "cp ../05_assemble/210129_assemble_nmp_designs/0/RC4_20_mini_nm_00020_1.6_31_0001_0030_hb_0002_designed_relax_sym.pdb 03_passing_designs/RC_4_20_nmp1_redesign_75.pdb\n",
      "cp ../05_assemble/210129_assemble_nmp_designs/0/RC4_20_mini_nm_00035_1.6_31_0001_0054_hb_0002_designed_relax_sym.pdb 03_passing_designs/RC_4_20_nmp1_redesign_76.pdb\n",
      "cp ../05_assemble/210129_assemble_nmp_designs/0/RC4_20_mini_nm_00028_1.6_31_0001_0013_hb_designed_relax_sym.pdb 03_passing_designs/RC_4_20_nmp1_redesign_77.pdb\n",
      "cp ../05_assemble/210129_assemble_nmp_designs/0/RC4_20_mini_nm_00206_1.6_31_0001_0036_hb_0002_designed_relax_sym.pdb 03_passing_designs/RC_4_20_nmp1_redesign_78.pdb\n",
      "cp ../05_assemble/210129_assemble_nmp_designs/0/RC4_20_mini_nm_00103_1.6_31_0001_0039_hb_0001_designed_relax_sym.pdb 03_passing_designs/RC_4_20_nmp1_redesign_79.pdb\n"
     ]
    }
   ],
   "source": [
    "for idx,row in df.iterrows():\n",
    "    print(f\"cp {row.path} 03_passing_designs/{row.review_id}.pdb\")"
   ]
  },
  {
   "cell_type": "code",
   "execution_count": 155,
   "metadata": {},
   "outputs": [],
   "source": [
    "df.to_csv(\"filtered.csv.gz\")"
   ]
  },
  {
   "cell_type": "code",
   "execution_count": null,
   "metadata": {},
   "outputs": [],
   "source": []
  }
 ],
 "metadata": {
  "kernelspec": {
   "display_name": "pyro",
   "language": "python",
   "name": "pyro"
  },
  "language_info": {
   "codemirror_mode": {
    "name": "ipython",
    "version": 3
   },
   "file_extension": ".py",
   "mimetype": "text/x-python",
   "name": "python",
   "nbconvert_exporter": "python",
   "pygments_lexer": "ipython3",
   "version": "3.7.3"
  }
 },
 "nbformat": 4,
 "nbformat_minor": 4
}
