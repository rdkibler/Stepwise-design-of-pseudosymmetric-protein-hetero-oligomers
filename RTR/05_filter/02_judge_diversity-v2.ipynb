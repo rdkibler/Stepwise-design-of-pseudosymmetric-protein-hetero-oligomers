{
 "cells": [
  {
   "cell_type": "code",
   "execution_count": 1,
   "metadata": {},
   "outputs": [],
   "source": [
    "#I need to quantify diversity now"
   ]
  },
  {
   "cell_type": "code",
   "execution_count": 1,
   "metadata": {},
   "outputs": [],
   "source": [
    "import glob\n",
    "import os\n",
    "import pandas as pd\n",
    "import json\n",
    "import numpy as np\n",
    "import gzip"
   ]
  },
  {
   "cell_type": "code",
   "execution_count": 3,
   "metadata": {},
   "outputs": [],
   "source": []
  },
  {
   "cell_type": "code",
   "execution_count": null,
   "metadata": {},
   "outputs": [],
   "source": [
    "\n",
    "def get_cys_lines(path):\n",
    "    with gzip.open(path,'rt') as f:\n",
    "        for line in f:\n",
    "            in line.startswith(\"ATOM\") and line[17:20] == \"CYS\":\n",
    "                resi = int(line[22:26])\n",
    "                print(resi)\n",
    "#     decoy = df[df['review_id'] == name]['decoy'].values[0]\n",
    "#     hbnet_path = hbnet_mapping[decoy]\n",
    "#     print(hbnet_path)\n",
    "#     res_i_n_map = {}\n",
    "#     constraints = []\n",
    "#     with open(hbnet_path,'r') as pdb:\n",
    "#         for line in pdb.readlines():\n",
    "#             if line.startswith(\"ATOM\"):\n",
    "#                 resname = line[17:20].strip()\n",
    "#                 resi = int(line[22:26])\n",
    "#                 res_i_n_map[resi] = resname\n",
    "#             if line[1:9] == \"AtomPair\":\n",
    "#                 constraints.append(line[1:])\n",
    "    \n",
    "#     bonds = []\n",
    "#     for constraint in constraints:\n",
    "#         #1st is acceptor\n",
    "#         #2nd is donor\n",
    "\n",
    "#         #if atom of acceptor is O, that's a bb and I might just ignore.\n",
    "#         acceptor_atom = constraint.split()[1]\n",
    "#         acceptor_resi = int(constraint.split()[2])\n",
    "#         donor_atom = constraint.split()[3]\n",
    "#         donor_resi = int(constraint.split()[4])\n",
    "#         if acceptor_atom != \"O\":\n",
    "#             bonds.append(((donor_resi,res_i_n_map[donor_resi]),(acceptor_resi,res_i_n_map[acceptor_resi])))\n",
    "        \n",
    "        \n",
    "        \n",
    "#     #         HBNet_resis = set()\n",
    "\n",
    "#     #         #convert constraints\n",
    "#     #         adjusted_constraints = []\n",
    "#     #         len_chain_A = 66\n",
    "#     #         for constraint in constraints:\n",
    "#     #                 constraint_parts = constraint.split()\n",
    "#     #                 #oops! hardcoded\n",
    "#     #                 if int(constraint_parts[2]) <= len_chain_A:\n",
    "#     #                         constraint_parts[2] = f\"{constraint_parts[2]}A\"\n",
    "#     #                 else:\n",
    "#     #                         constraint_parts[2] = f\"{int(constraint_parts[2]) + len_chain_A}B\"\n",
    "\n",
    "#     #                 if int(constraint_parts[4]) <= len_chain_A:\n",
    "#     #                         constraint_parts[4] = f\"{constraint_parts[4]}A\"\n",
    "#     #                 else:\n",
    "#     #                         constraint_parts[4] = f\"{int(constraint_parts[4]) + len_chain_A}B\"\n",
    "#     #                 adjusted_constraints.append(\" \".join(constraint_parts) + \"\\n\")\n",
    "\n",
    "#     #         for constraint in adjusted_constraints:\n",
    "#     #                 HBNet_resis.add(constraint.split()[2])\n",
    "#     #                 HBNet_resis.add(constraint.split()[4])\n",
    "\n",
    "#     #         return HBNet_resis\n",
    "#     return bonds"
   ]
  },
  {
   "cell_type": "code",
   "execution_count": null,
   "metadata": {},
   "outputs": [],
   "source": []
  },
  {
   "cell_type": "code",
   "execution_count": 4,
   "metadata": {},
   "outputs": [
    {
     "data": {
      "text/plain": [
       "[]"
      ]
     },
     "execution_count": 4,
     "metadata": {},
     "output_type": "execute_result"
    }
   ],
   "source": [
    "all_ss_pdbs = glob.glob(\"output/*.pdb.gz\")\n",
    "all_ss_pdbs"
   ]
  },
  {
   "cell_type": "code",
   "execution_count": 6,
   "metadata": {},
   "outputs": [],
   "source": [
    "\n",
    "review_ids = sorted([os.path.basename(x).split(\".pdb.gz\")[0] for x in all_passing_pdbs])\n"
   ]
  },
  {
   "cell_type": "code",
   "execution_count": 7,
   "metadata": {},
   "outputs": [
    {
     "name": "stdout",
     "output_type": "stream",
     "text": [
      "/net/scratch/rdkibler/201224_rotor_hbnet/2/RC4_20_mini_nm_00077_1.6_31_0001_0034/RC4_20_mini_nm_00077_1.6_31_0001_0034_hb.pdb\n",
      "/net/scratch/rdkibler/201224_rotor_hbnet/2/RC4_20_mini_nm_00146_1.6_31_0001_0042/RC4_20_mini_nm_00146_1.6_31_0001_0042_hb.pdb\n",
      "/net/scratch/rdkibler/201224_rotor_hbnet/2/RC4_20_mini_nm_00083_1.6_31_0001_0051/RC4_20_mini_nm_00083_1.6_31_0001_0051_hb.pdb\n",
      "/net/scratch/rdkibler/201224_rotor_hbnet/3/RC4_20_mini_nm_00137_1.6_31_0001_0057/RC4_20_mini_nm_00137_1.6_31_0001_0057_hb_0010.pdb\n",
      "/net/scratch/rdkibler/201224_rotor_hbnet/0/RC4_20_mini_nm_00152_1.6_31_0001_0045/RC4_20_mini_nm_00152_1.6_31_0001_0045_hb_0003.pdb\n",
      "/net/scratch/rdkibler/201224_rotor_hbnet/2/RC4_20_mini_nm_00074_1.6_31_0001_0012/RC4_20_mini_nm_00074_1.6_31_0001_0012_hb_0002.pdb\n",
      "/net/scratch/rdkibler/201224_rotor_hbnet/0/RC4_20_mini_nm_00184_1.6_31_0001_0044/RC4_20_mini_nm_00184_1.6_31_0001_0044_hb.pdb\n",
      "/net/scratch/rdkibler/201224_rotor_hbnet/0/RC4_20_mini_nm_00099_1.6_31_0001_0058/RC4_20_mini_nm_00099_1.6_31_0001_0058_hb_0001.pdb\n",
      "/net/scratch/rdkibler/201224_rotor_hbnet/1/RC4_20_mini_nm_00042_1.6_31_0001_0023/RC4_20_mini_nm_00042_1.6_31_0001_0023_hb_0002.pdb\n",
      "/net/scratch/rdkibler/201224_rotor_hbnet/2/RC4_20_mini_nm_00149_1.6_31_0001_0043/RC4_20_mini_nm_00149_1.6_31_0001_0043_hb_0001.pdb\n",
      "/net/scratch/rdkibler/201224_rotor_hbnet/2/RC4_20_mini_nm_00028_1.6_31_0001_0051/RC4_20_mini_nm_00028_1.6_31_0001_0051_hb_0009.pdb\n",
      "/net/scratch/rdkibler/201224_rotor_hbnet/2/RC4_20_mini_nm_00055_1.6_31_0001_0020/RC4_20_mini_nm_00055_1.6_31_0001_0020_hb.pdb\n",
      "/net/scratch/rdkibler/201224_rotor_hbnet/0/RC4_20_mini_nm_00097_1.6_31_0001_0030/RC4_20_mini_nm_00097_1.6_31_0001_0030_hb.pdb\n",
      "/net/scratch/rdkibler/201224_rotor_hbnet/3/RC4_20_mini_nm_00079_1.6_31_0001_0046/RC4_20_mini_nm_00079_1.6_31_0001_0046_hb_0001.pdb\n",
      "/net/scratch/rdkibler/201224_rotor_hbnet/1/RC4_20_mini_nm_00247_1.6_31_0001_0024/RC4_20_mini_nm_00247_1.6_31_0001_0024_hb.pdb\n",
      "/net/scratch/rdkibler/201224_rotor_hbnet/2/RC4_20_mini_nm_00115_1.6_31_0001_0017/RC4_20_mini_nm_00115_1.6_31_0001_0017_hb.pdb\n",
      "/net/scratch/rdkibler/201224_rotor_hbnet/3/RC4_20_mini_nm_00164_1.6_31_0001_0029/RC4_20_mini_nm_00164_1.6_31_0001_0029_hb_0003.pdb\n",
      "/net/scratch/rdkibler/201224_rotor_hbnet/3/RC4_20_mini_nm_00068_1.6_31_0001_0024/RC4_20_mini_nm_00068_1.6_31_0001_0024_hb_0003.pdb\n",
      "/net/scratch/rdkibler/201224_rotor_hbnet/0/RC4_20_mini_nm_00132_1.6_31_0001_0053/RC4_20_mini_nm_00132_1.6_31_0001_0053_hb_0002.pdb\n",
      "/net/scratch/rdkibler/201224_rotor_hbnet/2/RC4_20_mini_nm_00008_1.6_31_0001_0032/RC4_20_mini_nm_00008_1.6_31_0001_0032_hb_0001.pdb\n",
      "/net/scratch/rdkibler/201224_rotor_hbnet/2/RC4_20_mini_nm_00038_1.6_31_0001_0047/RC4_20_mini_nm_00038_1.6_31_0001_0047_hb_0002.pdb\n",
      "/net/scratch/rdkibler/201224_rotor_hbnet/1/RC4_20_mini_nm_00122_1.6_31_0001_0024/RC4_20_mini_nm_00122_1.6_31_0001_0024_hb_0003.pdb\n",
      "/net/scratch/rdkibler/201224_rotor_hbnet/1/RC4_20_mini_nm_00085_1.6_31_0001_0013/RC4_20_mini_nm_00085_1.6_31_0001_0013_hb_0002.pdb\n",
      "/net/scratch/rdkibler/201224_rotor_hbnet/1/RC4_20_mini_nm_00196_1.6_31_0001_0041/RC4_20_mini_nm_00196_1.6_31_0001_0041_hb.pdb\n",
      "/net/scratch/rdkibler/201224_rotor_hbnet/3/RC4_20_mini_nm_00091_1.6_31_0001_0054/RC4_20_mini_nm_00091_1.6_31_0001_0054_hb.pdb\n",
      "/net/scratch/rdkibler/201224_rotor_hbnet/1/RC4_20_mini_nm_00020_1.6_31_0001_0007/RC4_20_mini_nm_00020_1.6_31_0001_0007_hb_0003.pdb\n",
      "/net/scratch/rdkibler/201224_rotor_hbnet/0/RC4_20_mini_nm_00099_1.6_31_0001_0058/RC4_20_mini_nm_00099_1.6_31_0001_0058_hb_0002.pdb\n",
      "/net/scratch/rdkibler/201224_rotor_hbnet/0/RC4_20_mini_nm_00228_1.6_31_0001_0060/RC4_20_mini_nm_00228_1.6_31_0001_0060_hb_0002.pdb\n",
      "/net/scratch/rdkibler/201224_rotor_hbnet/0/RC4_20_mini_nm_00194_1.6_31_0001_0048/RC4_20_mini_nm_00194_1.6_31_0001_0048_hb_0002.pdb\n",
      "/net/scratch/rdkibler/201224_rotor_hbnet/0/RC4_20_mini_nm_00013_1.6_31_0001_0038/RC4_20_mini_nm_00013_1.6_31_0001_0038_hb_0003.pdb\n",
      "/net/scratch/rdkibler/201224_rotor_hbnet/0/RC4_20_mini_nm_00228_1.6_31_0001_0036/RC4_20_mini_nm_00228_1.6_31_0001_0036_hb.pdb\n",
      "/net/scratch/rdkibler/201224_rotor_hbnet/2/RC4_20_mini_nm_00190_1.6_31_0001_0023/RC4_20_mini_nm_00190_1.6_31_0001_0023_hb_0001.pdb\n",
      "/net/scratch/rdkibler/201224_rotor_hbnet/0/RC4_20_mini_nm_00216_1.6_31_0001_0030/RC4_20_mini_nm_00216_1.6_31_0001_0030_hb.pdb\n",
      "/net/scratch/rdkibler/201224_rotor_hbnet/1/RC4_20_mini_nm_00197_1.6_31_0001_0037/RC4_20_mini_nm_00197_1.6_31_0001_0037_hb_0003.pdb\n",
      "/net/scratch/rdkibler/201224_rotor_hbnet/2/RC4_20_mini_nm_00028_1.6_31_0001_0036/RC4_20_mini_nm_00028_1.6_31_0001_0036_hb_0005.pdb\n",
      "/net/scratch/rdkibler/201224_rotor_hbnet/2/RC4_20_mini_nm_00048_1.6_31_0001_0017/RC4_20_mini_nm_00048_1.6_31_0001_0017_hb_0003.pdb\n",
      "/net/scratch/rdkibler/201224_rotor_hbnet/2/RC4_20_mini_nm_00026_1.6_31_0001_0027/RC4_20_mini_nm_00026_1.6_31_0001_0027_hb_0002.pdb\n",
      "/net/scratch/rdkibler/201224_rotor_hbnet/0/RC4_20_mini_nm_00228_1.6_31_0001_0020/RC4_20_mini_nm_00228_1.6_31_0001_0020_hb.pdb\n",
      "/net/scratch/rdkibler/201224_rotor_hbnet/0/RC4_20_mini_nm_00228_1.6_31_0001_0052/RC4_20_mini_nm_00228_1.6_31_0001_0052_hb.pdb\n",
      "/net/scratch/rdkibler/201224_rotor_hbnet/2/RC4_20_mini_nm_00165_1.6_31_0001_0017/RC4_20_mini_nm_00165_1.6_31_0001_0017_hb.pdb\n",
      "/net/scratch/rdkibler/201224_rotor_hbnet/2/RC4_20_mini_nm_00167_1.6_31_0001_0041/RC4_20_mini_nm_00167_1.6_31_0001_0041_hb.pdb\n",
      "/net/scratch/rdkibler/201224_rotor_hbnet/3/RC4_20_mini_nm_00211_1.6_31_0001_0009/RC4_20_mini_nm_00211_1.6_31_0001_0009_hb_0002.pdb\n",
      "/net/scratch/rdkibler/201224_rotor_hbnet/3/RC4_20_mini_nm_00210_1.6_31_0001_0009/RC4_20_mini_nm_00210_1.6_31_0001_0009_hb_0001.pdb\n",
      "/net/scratch/rdkibler/201224_rotor_hbnet/3/RC4_20_mini_nm_00117_1.6_31_0001_0039/RC4_20_mini_nm_00117_1.6_31_0001_0039_hb_0003.pdb\n",
      "/net/scratch/rdkibler/201224_rotor_hbnet/0/RC4_20_mini_nm_00086_1.6_31_0001_0038/RC4_20_mini_nm_00086_1.6_31_0001_0038_hb.pdb\n",
      "/net/scratch/rdkibler/201224_rotor_hbnet/3/RC4_20_mini_nm_00145_1.6_31_0001_0015/RC4_20_mini_nm_00145_1.6_31_0001_0015_hb_0002.pdb\n",
      "/net/scratch/rdkibler/201224_rotor_hbnet/2/RC4_20_mini_nm_00148_1.6_31_0001_0019/RC4_20_mini_nm_00148_1.6_31_0001_0019_hb_0003.pdb\n",
      "/net/scratch/rdkibler/201224_rotor_hbnet/1/RC4_20_mini_nm_00189_1.6_31_0001_0006/RC4_20_mini_nm_00189_1.6_31_0001_0006_hb.pdb\n",
      "/net/scratch/rdkibler/201224_rotor_hbnet/0/RC4_20_mini_nm_00185_1.6_31_0001_0029/RC4_20_mini_nm_00185_1.6_31_0001_0029_hb_0002.pdb\n",
      "/net/scratch/rdkibler/201224_rotor_hbnet/0/RC4_20_mini_nm_00130_1.6_31_0001_0033/RC4_20_mini_nm_00130_1.6_31_0001_0033_hb_0001.pdb\n",
      "/net/scratch/rdkibler/201224_rotor_hbnet/1/RC4_20_mini_nm_00249_1.6_31_0001_0007/RC4_20_mini_nm_00249_1.6_31_0001_0007_hb.pdb\n",
      "/net/scratch/rdkibler/201224_rotor_hbnet/0/RC4_20_mini_nm_00132_1.6_31_0001_0041/RC4_20_mini_nm_00132_1.6_31_0001_0041_hb_0001.pdb\n",
      "/net/scratch/rdkibler/201224_rotor_hbnet/3/RC4_20_mini_nm_00230_1.6_31_0001_0044/RC4_20_mini_nm_00230_1.6_31_0001_0044_hb.pdb\n",
      "/net/scratch/rdkibler/201224_rotor_hbnet/2/RC4_20_mini_nm_00156_1.6_31_0001_0005/RC4_20_mini_nm_00156_1.6_31_0001_0005_hb_0001.pdb\n",
      "/net/scratch/rdkibler/201224_rotor_hbnet/1/RC4_20_mini_nm_00073_1.6_31_0001_0019/RC4_20_mini_nm_00073_1.6_31_0001_0019_hb_0001.pdb\n",
      "/net/scratch/rdkibler/201224_rotor_hbnet/0/RC4_20_mini_nm_00013_1.6_31_0001_0058/RC4_20_mini_nm_00013_1.6_31_0001_0058_hb.pdb\n",
      "/net/scratch/rdkibler/201224_rotor_hbnet/3/RC4_20_mini_nm_00242_1.6_31_0001_0058/RC4_20_mini_nm_00242_1.6_31_0001_0058_hb_0001.pdb\n",
      "/net/scratch/rdkibler/201224_rotor_hbnet/2/RC4_20_mini_nm_00083_1.6_31_0001_0042/RC4_20_mini_nm_00083_1.6_31_0001_0042_hb_0005.pdb\n",
      "/net/scratch/rdkibler/201224_rotor_hbnet/1/RC4_20_mini_nm_00122_1.6_31_0001_0052/RC4_20_mini_nm_00122_1.6_31_0001_0052_hb_0003.pdb\n",
      "/net/scratch/rdkibler/201224_rotor_hbnet/2/RC4_20_mini_nm_00037_1.6_31_0001_0016/RC4_20_mini_nm_00037_1.6_31_0001_0016_hb_0002.pdb\n",
      "/net/scratch/rdkibler/201224_rotor_hbnet/2/RC4_20_mini_nm_00017_1.6_31_0001_0018/RC4_20_mini_nm_00017_1.6_31_0001_0018_hb_0003.pdb\n",
      "/net/scratch/rdkibler/201224_rotor_hbnet/3/RC4_20_mini_nm_00057_1.6_31_0001_0014/RC4_20_mini_nm_00057_1.6_31_0001_0014_hb_0002.pdb\n",
      "/net/scratch/rdkibler/201224_rotor_hbnet/2/RC4_20_mini_nm_00055_1.6_31_0001_0023/RC4_20_mini_nm_00055_1.6_31_0001_0023_hb_0002.pdb\n",
      "/net/scratch/rdkibler/201224_rotor_hbnet/1/RC4_20_mini_nm_00072_1.6_31_0001_0052/RC4_20_mini_nm_00072_1.6_31_0001_0052_hb.pdb\n",
      "/net/scratch/rdkibler/201224_rotor_hbnet/3/RC4_20_mini_nm_00034_1.6_31_0001_0030/RC4_20_mini_nm_00034_1.6_31_0001_0030_hb_0008.pdb\n",
      "/net/scratch/rdkibler/201224_rotor_hbnet/1/RC4_20_mini_nm_00197_1.6_31_0001_0032/RC4_20_mini_nm_00197_1.6_31_0001_0032_hb.pdb\n",
      "/net/scratch/rdkibler/201224_rotor_hbnet/1/RC4_20_mini_nm_00189_1.6_31_0001_0042/RC4_20_mini_nm_00189_1.6_31_0001_0042_hb.pdb\n",
      "/net/scratch/rdkibler/201224_rotor_hbnet/1/RC4_20_mini_nm_00103_1.6_31_0001_0011/RC4_20_mini_nm_00103_1.6_31_0001_0011_hb_0001.pdb\n",
      "/net/scratch/rdkibler/201224_rotor_hbnet/1/RC4_20_mini_nm_00010_1.6_31_0001_0048/RC4_20_mini_nm_00010_1.6_31_0001_0048_hb_0002.pdb\n",
      "/net/scratch/rdkibler/201224_rotor_hbnet/1/RC4_20_mini_nm_00205_1.6_31_0001_0060/RC4_20_mini_nm_00205_1.6_31_0001_0060_hb.pdb\n",
      "/net/scratch/rdkibler/201224_rotor_hbnet/3/RC4_20_mini_nm_00081_1.6_31_0001_0023/RC4_20_mini_nm_00081_1.6_31_0001_0023_hb_0003.pdb\n",
      "/net/scratch/rdkibler/201224_rotor_hbnet/1/RC4_20_mini_nm_00160_1.6_31_0001_0025/RC4_20_mini_nm_00160_1.6_31_0001_0025_hb.pdb\n",
      "/net/scratch/rdkibler/201224_rotor_hbnet/3/RC4_20_mini_nm_00059_1.6_31_0001_0042/RC4_20_mini_nm_00059_1.6_31_0001_0042_hb_0001.pdb\n",
      "/net/scratch/rdkibler/201224_rotor_hbnet/1/RC4_20_mini_nm_00042_1.6_31_0001_0040/RC4_20_mini_nm_00042_1.6_31_0001_0040_hb_0002.pdb\n",
      "/net/scratch/rdkibler/201224_rotor_hbnet/0/RC4_20_mini_nm_00020_1.6_31_0001_0030/RC4_20_mini_nm_00020_1.6_31_0001_0030_hb_0002.pdb\n",
      "/net/scratch/rdkibler/201224_rotor_hbnet/3/RC4_20_mini_nm_00035_1.6_31_0001_0054/RC4_20_mini_nm_00035_1.6_31_0001_0054_hb_0002.pdb\n",
      "/net/scratch/rdkibler/201224_rotor_hbnet/2/RC4_20_mini_nm_00028_1.6_31_0001_0013/RC4_20_mini_nm_00028_1.6_31_0001_0013_hb.pdb\n",
      "/net/scratch/rdkibler/201224_rotor_hbnet/0/RC4_20_mini_nm_00206_1.6_31_0001_0036/RC4_20_mini_nm_00206_1.6_31_0001_0036_hb_0002.pdb\n",
      "/net/scratch/rdkibler/201224_rotor_hbnet/1/RC4_20_mini_nm_00103_1.6_31_0001_0039/RC4_20_mini_nm_00103_1.6_31_0001_0039_hb_0001.pdb\n"
     ]
    }
   ],
   "source": [
    "\n",
    "nets = {}\n",
    "for ris in review_ids:\n",
    "    nets[ris] = get_hbnet_lines(ris)\n",
    "    \n"
   ]
  },
  {
   "cell_type": "code",
   "execution_count": 8,
   "metadata": {},
   "outputs": [],
   "source": [
    "hbnet_resises = {}\n",
    "for des_id, bonds in nets.items():\n",
    "    resis = set()\n",
    "    for bond in bonds:\n",
    "        resis.add(bond[0])\n",
    "        resis.add(bond[1])\n",
    "    hbnet_resises[des_id] = resis"
   ]
  },
  {
   "cell_type": "code",
   "execution_count": 9,
   "metadata": {},
   "outputs": [
    {
     "data": {
      "text/plain": [
       "{'RC_4_20_nmp1_redesign_01': {(24, 'SER'),\n",
       "  (25, 'GLN'),\n",
       "  (29, 'GLU'),\n",
       "  (129, 'GLN'),\n",
       "  (148, 'SER')},\n",
       " 'RC_4_20_nmp1_redesign_02': {(21, 'HIS'), (121, 'SER'), (125, 'THR')},\n",
       " 'RC_4_20_nmp1_redesign_03': {(21, 'SER'), (125, 'SER'), (151, 'SER')},\n",
       " 'RC_4_20_nmp1_redesign_04': {(21, 'ASN'),\n",
       "  (22, 'GLU'),\n",
       "  (125, 'SER'),\n",
       "  (151, 'SER'),\n",
       "  (152, 'THR'),\n",
       "  (164, 'SER')},\n",
       " 'RC_4_20_nmp1_redesign_05': {(21, 'HIS'), (121, 'SER'), (125, 'THR')},\n",
       " 'RC_4_20_nmp1_redesign_06': {(21, 'GLN'), (125, 'THR'), (160, 'ASN')},\n",
       " 'RC_4_20_nmp1_redesign_07': {(21, 'GLN'), (125, 'THR'), (160, 'ASN')},\n",
       " 'RC_4_20_nmp1_redesign_08': {(21, 'HIS'),\n",
       "  (121, 'SER'),\n",
       "  (125, 'THR'),\n",
       "  (160, 'SER')},\n",
       " 'RC_4_20_nmp1_redesign_09': {(21, 'GLN'), (125, 'SER'), (160, 'ASN')},\n",
       " 'RC_4_20_nmp1_redesign_10': {(21, 'GLN'), (125, 'THR'), (160, 'ASN')},\n",
       " 'RC_4_20_nmp1_redesign_11': {(17, 'SER'),\n",
       "  (20, 'GLN'),\n",
       "  (114, 'GLN'),\n",
       "  (118, 'SER')},\n",
       " 'RC_4_20_nmp1_redesign_12': {(21, 'GLN'), (125, 'SER'), (160, 'ASN')},\n",
       " 'RC_4_20_nmp1_redesign_13': {(21, 'ASN'),\n",
       "  (122, 'THR'),\n",
       "  (125, 'SER'),\n",
       "  (148, 'GLN')},\n",
       " 'RC_4_20_nmp1_redesign_14': {(21, 'SER'), (125, 'THR'), (151, 'SER')},\n",
       " 'RC_4_20_nmp1_redesign_15': {(21, 'SER'), (125, 'SER'), (160, 'HIS')},\n",
       " 'RC_4_20_nmp1_redesign_16': {(24, 'SER'), (28, 'THR'), (148, 'GLN')},\n",
       " 'RC_4_20_nmp1_redesign_17': {(21, 'HIS'), (121, 'SER'), (125, 'THR')},\n",
       " 'RC_4_20_nmp1_redesign_18': {(21, 'GLN'), (125, 'SER'), (160, 'ASN')},\n",
       " 'RC_4_20_nmp1_redesign_19': {(21, 'GLN'), (125, 'THR'), (160, 'ASN')},\n",
       " 'RC_4_20_nmp1_redesign_20': {(21, 'GLN'),\n",
       "  (121, 'SER'),\n",
       "  (125, 'SER'),\n",
       "  (160, 'ASN')},\n",
       " 'RC_4_20_nmp1_redesign_21': {(21, 'GLN'), (125, 'THR'), (160, 'ASN')},\n",
       " 'RC_4_20_nmp1_redesign_22': {(21, 'GLN'), (125, 'THR'), (160, 'ASN')},\n",
       " 'RC_4_20_nmp1_redesign_23': {(20, 'GLN'), (114, 'GLN'), (118, 'SER')},\n",
       " 'RC_4_20_nmp1_redesign_24': {(21, 'GLN'), (125, 'THR'), (160, 'ASN')},\n",
       " 'RC_4_20_nmp1_redesign_25': {(7, 'THR'), (109, 'ASN')},\n",
       " 'RC_4_20_nmp1_redesign_26': {(21, 'ASN'), (122, 'THR'), (125, 'SER')},\n",
       " 'RC_4_20_nmp1_redesign_27': {(21, 'HIS'), (121, 'SER'), (125, 'THR')},\n",
       " 'RC_4_20_nmp1_redesign_28': {(21, 'GLN'), (125, 'SER'), (160, 'ASN')},\n",
       " 'RC_4_20_nmp1_redesign_29': {(21, 'GLN'), (125, 'THR'), (160, 'ASN')},\n",
       " 'RC_4_20_nmp1_redesign_30': {(21, 'ASN'), (121, 'GLN'), (125, 'SER')},\n",
       " 'RC_4_20_nmp1_redesign_31': {(21, 'GLN'), (125, 'THR'), (160, 'ASN')},\n",
       " 'RC_4_20_nmp1_redesign_32': {(28, 'GLN'),\n",
       "  (132, 'SER'),\n",
       "  (144, 'SER'),\n",
       "  (148, 'THR')},\n",
       " 'RC_4_20_nmp1_redesign_33': {(20, 'SER'),\n",
       "  (24, 'THR'),\n",
       "  (122, 'GLN'),\n",
       "  (126, 'SER')},\n",
       " 'RC_4_20_nmp1_redesign_34': {(21, 'GLN'), (125, 'THR'), (160, 'ASN')},\n",
       " 'RC_4_20_nmp1_redesign_35': {(21, 'ASN'),\n",
       "  (125, 'SER'),\n",
       "  (152, 'SER'),\n",
       "  (164, 'SER')},\n",
       " 'RC_4_20_nmp1_redesign_36': {(21, 'GLN'),\n",
       "  (124, 'SER'),\n",
       "  (125, 'SER'),\n",
       "  (160, 'ASN'),\n",
       "  (164, 'SER'),\n",
       "  (165, 'GLU')},\n",
       " 'RC_4_20_nmp1_redesign_37': {(28, 'SER'),\n",
       "  (128, 'SER'),\n",
       "  (129, 'SER'),\n",
       "  (130, 'ARG'),\n",
       "  (144, 'HIS')},\n",
       " 'RC_4_20_nmp1_redesign_38': {(18, 'ASN'),\n",
       "  (21, 'GLN'),\n",
       "  (118, 'GLN'),\n",
       "  (125, 'THR'),\n",
       "  (160, 'ASN')},\n",
       " 'RC_4_20_nmp1_redesign_39': {(21, 'GLN'), (125, 'THR'), (160, 'ASN')},\n",
       " 'RC_4_20_nmp1_redesign_40': {(21, 'GLN'), (125, 'SER'), (160, 'ASN')},\n",
       " 'RC_4_20_nmp1_redesign_41': {(7, 'SER'),\n",
       "  (20, 'THR'),\n",
       "  (121, 'SER'),\n",
       "  (122, 'GLN')},\n",
       " 'RC_4_20_nmp1_redesign_42': {(24, 'ASN'),\n",
       "  (28, 'SER'),\n",
       "  (129, 'SER'),\n",
       "  (148, 'GLN')},\n",
       " 'RC_4_20_nmp1_redesign_43': {(21, 'GLN'), (125, 'SER'), (160, 'ASN')},\n",
       " 'RC_4_20_nmp1_redesign_44': {(21, 'GLN'), (125, 'THR'), (160, 'ASN')},\n",
       " 'RC_4_20_nmp1_redesign_45': {(21, 'ASN'),\n",
       "  (121, 'SER'),\n",
       "  (125, 'THR'),\n",
       "  (151, 'THR'),\n",
       "  (164, 'SER')},\n",
       " 'RC_4_20_nmp1_redesign_46': {(7, 'HIS'),\n",
       "  (24, 'HIS'),\n",
       "  (122, 'SER'),\n",
       "  (129, 'THR')},\n",
       " 'RC_4_20_nmp1_redesign_47': {(28, 'GLN'), (144, 'THR'), (148, 'SER')},\n",
       " 'RC_4_20_nmp1_redesign_48': {(21, 'GLN'), (125, 'THR'), (160, 'ASN')},\n",
       " 'RC_4_20_nmp1_redesign_49': {(28, 'SER'),\n",
       "  (128, 'SER'),\n",
       "  (129, 'SER'),\n",
       "  (144, 'HIS')},\n",
       " 'RC_4_20_nmp1_redesign_50': {(21, 'GLN'), (125, 'SER'), (160, 'ASN')},\n",
       " 'RC_4_20_nmp1_redesign_51': {(21, 'GLN'), (125, 'SER'), (160, 'ASN')},\n",
       " 'RC_4_20_nmp1_redesign_52': {(21, 'GLN'), (125, 'THR'), (160, 'ASN')},\n",
       " 'RC_4_20_nmp1_redesign_53': {(21, 'GLN'),\n",
       "  (121, 'SER'),\n",
       "  (125, 'THR'),\n",
       "  (160, 'ASN')},\n",
       " 'RC_4_20_nmp1_redesign_54': {(21, 'ASN'),\n",
       "  (121, 'SER'),\n",
       "  (125, 'SER'),\n",
       "  (148, 'GLN')},\n",
       " 'RC_4_20_nmp1_redesign_55': {(21, 'HIS'),\n",
       "  (121, 'SER'),\n",
       "  (125, 'THR'),\n",
       "  (164, 'SER')},\n",
       " 'RC_4_20_nmp1_redesign_56': {(21, 'GLN'),\n",
       "  (125, 'SER'),\n",
       "  (160, 'ASN'),\n",
       "  (163, 'SER'),\n",
       "  (164, 'GLN')},\n",
       " 'RC_4_20_nmp1_redesign_57': {(21, 'ASN'), (122, 'THR'), (125, 'SER')},\n",
       " 'RC_4_20_nmp1_redesign_58': {(25, 'SER'),\n",
       "  (29, 'ARG'),\n",
       "  (148, 'THR'),\n",
       "  (149, 'GLU')},\n",
       " 'RC_4_20_nmp1_redesign_59': {(21, 'GLN'), (125, 'SER'), (160, 'ASN')},\n",
       " 'RC_4_20_nmp1_redesign_60': {(21, 'GLN'), (125, 'SER'), (160, 'ASN')},\n",
       " 'RC_4_20_nmp1_redesign_61': {(21, 'ASN'), (121, 'GLN'), (125, 'SER')},\n",
       " 'RC_4_20_nmp1_redesign_62': {(28, 'SER'), (128, 'SER'), (144, 'HIS')},\n",
       " 'RC_4_20_nmp1_redesign_63': {(21, 'GLN'), (125, 'SER'), (160, 'ASN')},\n",
       " 'RC_4_20_nmp1_redesign_64': {(21, 'SER'), (125, 'SER'), (151, 'SER')},\n",
       " 'RC_4_20_nmp1_redesign_65': {(17, 'ASN'),\n",
       "  (21, 'ASN'),\n",
       "  (121, 'SER'),\n",
       "  (125, 'THR')},\n",
       " 'RC_4_20_nmp1_redesign_66': {(21, 'GLN'), (125, 'THR'), (160, 'ASN')},\n",
       " 'RC_4_20_nmp1_redesign_67': {(21, 'GLN'), (125, 'SER'), (160, 'ASN')},\n",
       " 'RC_4_20_nmp1_redesign_68': {(28, 'HIS'),\n",
       "  (129, 'SER'),\n",
       "  (132, 'SER'),\n",
       "  (144, 'SER')},\n",
       " 'RC_4_20_nmp1_redesign_69': {(21, 'ASN'), (121, 'GLN'), (125, 'SER')},\n",
       " 'RC_4_20_nmp1_redesign_70': {(21, 'ASN'), (121, 'GLN'), (125, 'SER')},\n",
       " 'RC_4_20_nmp1_redesign_71': {(20, 'SER'),\n",
       "  (21, 'SER'),\n",
       "  (121, 'GLN'),\n",
       "  (122, 'GLN')},\n",
       " 'RC_4_20_nmp1_redesign_72': {(21, 'GLN'), (125, 'THR'), (160, 'ASN')},\n",
       " 'RC_4_20_nmp1_redesign_73': {(21, 'GLN'), (125, 'SER'), (160, 'ASN')},\n",
       " 'RC_4_20_nmp1_redesign_74': {(21, 'ASN'),\n",
       "  (125, 'SER'),\n",
       "  (152, 'SER'),\n",
       "  (164, 'SER')},\n",
       " 'RC_4_20_nmp1_redesign_75': {(21, 'GLN'), (125, 'THR'), (160, 'ASN')},\n",
       " 'RC_4_20_nmp1_redesign_76': {(21, 'SER'),\n",
       "  (121, 'HIS'),\n",
       "  (125, 'GLN'),\n",
       "  (164, 'SER')},\n",
       " 'RC_4_20_nmp1_redesign_77': {(21, 'GLN'), (125, 'SER'), (160, 'ASN')},\n",
       " 'RC_4_20_nmp1_redesign_78': {(21, 'ASN'), (121, 'SER'), (125, 'SER')},\n",
       " 'RC_4_20_nmp1_redesign_79': {(21, 'ASN'),\n",
       "  (22, 'SER'),\n",
       "  (125, 'THR'),\n",
       "  (144, 'TYR'),\n",
       "  (152, 'THR')}}"
      ]
     },
     "execution_count": 9,
     "metadata": {},
     "output_type": "execute_result"
    }
   ],
   "source": [
    "hbnet_resises"
   ]
  },
  {
   "cell_type": "code",
   "execution_count": 10,
   "metadata": {},
   "outputs": [],
   "source": [
    "#I guess let's try to construct a matrix?"
   ]
  },
  {
   "cell_type": "code",
   "execution_count": 11,
   "metadata": {},
   "outputs": [],
   "source": [
    "\n",
    "def num_shared_resis(net_resis_1,net_resis_2):\n",
    "    #gonna treat SER and THR the exact same for this\n",
    "    #may also collapse GLN and ASN, but let's see\n",
    "    \n",
    "    #cast all THR to SER\n",
    "    net_resis_1 = set([(x[0],x[1].replace('THR','SER')) for x in net_resis_1])\n",
    "    net_resis_2 = set([(x[0],x[1].replace('THR','SER')) for x in net_resis_2])\n",
    "    print(net_resis_1)"
   ]
  },
  {
   "cell_type": "code",
   "execution_count": 12,
   "metadata": {},
   "outputs": [],
   "source": [
    "#give me nets\n",
    "def across_interface(resi_1, resi_2):\n",
    "    chainbreak = 66\n",
    "    return (resi_1 <= chainbreak) ^ (resi_2 <= chainbreak)\n",
    "\n",
    "def pct_shared_interface_bonds(net1,net2):\n",
    "#     print(\"net1\")\n",
    "#     print(net1)\n",
    "#     print(\"net2\")\n",
    "#     print(net2)\n",
    "    \n",
    "    #cast all THR to SER\n",
    "    #we're also sorting the bonds b/c I don't want to depend on donors/acceptors lining up as designed, especially for serines\n",
    "    temp = []\n",
    "    for bond in net1:\n",
    "        donor = list(bond[0])\n",
    "        acceptor = list(bond[1])\n",
    "        \n",
    "        donor[1] = donor[1].replace('THR','SER')\n",
    "        acceptor[1] = acceptor[1].replace('THR','SER')\n",
    "        \n",
    "        bond = tuple(sorted([tuple(donor),tuple(acceptor)]))\n",
    "        temp.append(bond)\n",
    "    net1 = temp\n",
    "    \n",
    "    temp = []\n",
    "    for bond in net2:\n",
    "        donor = list(bond[0])\n",
    "        acceptor = list(bond[1])\n",
    "        \n",
    "        donor[1] = donor[1].replace('THR','SER')\n",
    "        acceptor[1] = acceptor[1].replace('THR','SER')\n",
    "        \n",
    "        bond = tuple(sorted([tuple(donor),tuple(acceptor)]))\n",
    "        temp.append(bond)\n",
    "    net2 = temp\n",
    "    \n",
    "    \n",
    "    \n",
    "    \n",
    "    \n",
    "#     print(\"convert\")\n",
    "#     print(\"net1\")\n",
    "#     print(net1)\n",
    "#     print(\"net2\")\n",
    "#     print(net2)\n",
    "#     print(\"interface_bonds_1\")\n",
    "    interface_bonds_1 = set([(donor,acceptor) for donor,acceptor in net1 if across_interface(donor[0],acceptor[0])])\n",
    "#     print(interface_bonds_1)\n",
    "    num_interface_bonds_1 = len(interface_bonds_1)\n",
    "#     print(num_interface_bonds_1)\n",
    "#     print(\"interface_bonds_2\")\n",
    "    interface_bonds_2 = set([(donor,acceptor) for donor,acceptor in net2 if across_interface(donor[0],acceptor[0])])\n",
    "#     print(interface_bonds_2)\n",
    "    num_interface_bonds_2 = len(interface_bonds_2)\n",
    "#     print(num_interface_bonds_2)\n",
    "    \n",
    "    unique_interface_bonds = interface_bonds_1.union(interface_bonds_2)\n",
    "    shared_interface_bonds = interface_bonds_1.intersection(interface_bonds_2)\n",
    "    \n",
    "    percent_shared = len(shared_interface_bonds) / len(unique_interface_bonds)\n",
    "    return percent_shared"
   ]
  },
  {
   "cell_type": "code",
   "execution_count": 13,
   "metadata": {},
   "outputs": [],
   "source": [
    "#same = all identical interface bonds = 0\n",
    "#different = no identical interface bonds = 1\n",
    "#in between = num identical interface bonds / num unique interface bonds"
   ]
  },
  {
   "cell_type": "code",
   "execution_count": 17,
   "metadata": {},
   "outputs": [
    {
     "data": {
      "text/plain": [
       "1.0"
      ]
     },
     "execution_count": 17,
     "metadata": {},
     "output_type": "execute_result"
    }
   ],
   "source": [
    "net1 = list(nets.values())[1]\n",
    "net2 = list(nets.values())[7]\n",
    "pct_shared_interface_bonds(net1,net2)"
   ]
  },
  {
   "cell_type": "code",
   "execution_count": 18,
   "metadata": {},
   "outputs": [],
   "source": [
    "net_pair_similarity = []\n",
    "\n",
    "\n",
    "net_pair_similarity_matrix = np.zeros([len(nets),len(nets)])\n",
    "names = sorted(list(nets.keys()))\n",
    "\n",
    "for i,k1 in enumerate(names):\n",
    "    for j,k2 in enumerate(names):\n",
    "        net_pair_similarity_matrix[i,j] = pct_shared_interface_bonds(nets[k1],nets[k2])"
   ]
  },
  {
   "cell_type": "code",
   "execution_count": null,
   "metadata": {},
   "outputs": [],
   "source": []
  },
  {
   "cell_type": "code",
   "execution_count": 19,
   "metadata": {},
   "outputs": [
    {
     "data": {
      "text/plain": [
       "array([[1.  , 0.  , 0.  , ..., 0.  , 0.  , 0.  ],\n",
       "       [0.  , 1.  , 0.  , ..., 0.  , 0.  , 0.  ],\n",
       "       [0.  , 0.  , 1.  , ..., 0.  , 0.  , 0.  ],\n",
       "       ...,\n",
       "       [0.  , 0.  , 0.  , ..., 1.  , 0.  , 0.  ],\n",
       "       [0.  , 0.  , 0.  , ..., 0.  , 1.  , 0.25],\n",
       "       [0.  , 0.  , 0.  , ..., 0.  , 0.25, 1.  ]])"
      ]
     },
     "execution_count": 19,
     "metadata": {},
     "output_type": "execute_result"
    }
   ],
   "source": [
    "net_pair_similarity_matrix"
   ]
  },
  {
   "cell_type": "code",
   "execution_count": 25,
   "metadata": {},
   "outputs": [
    {
     "data": {
      "image/png": "[encoded data removed]",
      "text/plain": [
       "<Figure size 432x288 with 2 Axes>"
      ]
     },
     "metadata": {
      "needs_background": "light"
     },
     "output_type": "display_data"
    }
   ],
   "source": [
    "import numpy as np\n",
    "import matplotlib.pyplot as plt\n",
    "\n",
    "plt.imshow(net_pair_similarity_matrix)\n",
    "plt.colorbar()\n",
    "plt.show()"
   ]
  },
  {
   "cell_type": "code",
   "execution_count": 20,
   "metadata": {},
   "outputs": [
    {
     "data": {
      "text/plain": [
       "array([ 0,  1,  2,  3,  1,  4,  4,  1,  4,  4,  5,  4,  6,  2,  7,  8,  1,\n",
       "        4,  4,  4,  4,  4,  9,  4, 10, 11,  1,  4,  4, 12,  4, 13, 14,  4,\n",
       "       15,  4, 16, 17,  4,  4, 18, 19,  4,  4, 20, 21, 13,  4, 16,  4,  4,\n",
       "        4,  4, 22,  1,  4, 11, 23,  4,  4, 12, 24,  4,  2, 25,  4,  4, 26,\n",
       "       12, 12, 27,  4,  4, 15,  4, 28,  4, 20, 29])"
      ]
     },
     "execution_count": 20,
     "metadata": {},
     "output_type": "execute_result"
    }
   ],
   "source": [
    "from sklearn.cluster import DBSCAN\n",
    "clusters = DBSCAN(min_samples=1).fit_predict(net_pair_similarity_matrix)\n",
    "clusters"
   ]
  },
  {
   "cell_type": "code",
   "execution_count": null,
   "metadata": {},
   "outputs": [],
   "source": []
  },
  {
   "cell_type": "code",
   "execution_count": 21,
   "metadata": {},
   "outputs": [
    {
     "data": {
      "text/plain": [
       "79"
      ]
     },
     "execution_count": 21,
     "metadata": {},
     "output_type": "execute_result"
    }
   ],
   "source": [
    "len(clusters)"
   ]
  },
  {
   "cell_type": "code",
   "execution_count": 22,
   "metadata": {},
   "outputs": [],
   "source": [
    "from collections import defaultdict"
   ]
  },
  {
   "cell_type": "code",
   "execution_count": 23,
   "metadata": {},
   "outputs": [
    {
     "name": "stdout",
     "output_type": "stream",
     "text": [
      "RC_4_20_nmp1_redesign_01 0\n",
      "RC_4_20_nmp1_redesign_02 1\n",
      "RC_4_20_nmp1_redesign_03 2\n",
      "RC_4_20_nmp1_redesign_04 3\n",
      "RC_4_20_nmp1_redesign_05 1\n",
      "RC_4_20_nmp1_redesign_06 4\n",
      "RC_4_20_nmp1_redesign_07 4\n",
      "RC_4_20_nmp1_redesign_08 1\n",
      "RC_4_20_nmp1_redesign_09 4\n",
      "RC_4_20_nmp1_redesign_10 4\n",
      "RC_4_20_nmp1_redesign_11 5\n",
      "RC_4_20_nmp1_redesign_12 4\n",
      "RC_4_20_nmp1_redesign_13 6\n",
      "RC_4_20_nmp1_redesign_14 2\n",
      "RC_4_20_nmp1_redesign_15 7\n",
      "RC_4_20_nmp1_redesign_16 8\n",
      "RC_4_20_nmp1_redesign_17 1\n",
      "RC_4_20_nmp1_redesign_18 4\n",
      "RC_4_20_nmp1_redesign_19 4\n",
      "RC_4_20_nmp1_redesign_20 4\n",
      "RC_4_20_nmp1_redesign_21 4\n",
      "RC_4_20_nmp1_redesign_22 4\n",
      "RC_4_20_nmp1_redesign_23 9\n",
      "RC_4_20_nmp1_redesign_24 4\n",
      "RC_4_20_nmp1_redesign_25 10\n",
      "RC_4_20_nmp1_redesign_26 11\n",
      "RC_4_20_nmp1_redesign_27 1\n",
      "RC_4_20_nmp1_redesign_28 4\n",
      "RC_4_20_nmp1_redesign_29 4\n",
      "RC_4_20_nmp1_redesign_30 12\n",
      "RC_4_20_nmp1_redesign_31 4\n",
      "RC_4_20_nmp1_redesign_32 13\n",
      "RC_4_20_nmp1_redesign_33 14\n",
      "RC_4_20_nmp1_redesign_34 4\n",
      "RC_4_20_nmp1_redesign_35 15\n",
      "RC_4_20_nmp1_redesign_36 4\n",
      "RC_4_20_nmp1_redesign_37 16\n",
      "RC_4_20_nmp1_redesign_38 17\n",
      "RC_4_20_nmp1_redesign_39 4\n",
      "RC_4_20_nmp1_redesign_40 4\n",
      "RC_4_20_nmp1_redesign_41 18\n",
      "RC_4_20_nmp1_redesign_42 19\n",
      "RC_4_20_nmp1_redesign_43 4\n",
      "RC_4_20_nmp1_redesign_44 4\n",
      "RC_4_20_nmp1_redesign_45 20\n",
      "RC_4_20_nmp1_redesign_46 21\n",
      "RC_4_20_nmp1_redesign_47 13\n",
      "RC_4_20_nmp1_redesign_48 4\n",
      "RC_4_20_nmp1_redesign_49 16\n",
      "RC_4_20_nmp1_redesign_50 4\n",
      "RC_4_20_nmp1_redesign_51 4\n",
      "RC_4_20_nmp1_redesign_52 4\n",
      "RC_4_20_nmp1_redesign_53 4\n",
      "RC_4_20_nmp1_redesign_54 22\n",
      "RC_4_20_nmp1_redesign_55 1\n",
      "RC_4_20_nmp1_redesign_56 4\n",
      "RC_4_20_nmp1_redesign_57 11\n",
      "RC_4_20_nmp1_redesign_58 23\n",
      "RC_4_20_nmp1_redesign_59 4\n",
      "RC_4_20_nmp1_redesign_60 4\n",
      "RC_4_20_nmp1_redesign_61 12\n",
      "RC_4_20_nmp1_redesign_62 24\n",
      "RC_4_20_nmp1_redesign_63 4\n",
      "RC_4_20_nmp1_redesign_64 2\n",
      "RC_4_20_nmp1_redesign_65 25\n",
      "RC_4_20_nmp1_redesign_66 4\n",
      "RC_4_20_nmp1_redesign_67 4\n",
      "RC_4_20_nmp1_redesign_68 26\n",
      "RC_4_20_nmp1_redesign_69 12\n",
      "RC_4_20_nmp1_redesign_70 12\n",
      "RC_4_20_nmp1_redesign_71 27\n",
      "RC_4_20_nmp1_redesign_72 4\n",
      "RC_4_20_nmp1_redesign_73 4\n",
      "RC_4_20_nmp1_redesign_74 15\n",
      "RC_4_20_nmp1_redesign_75 4\n",
      "RC_4_20_nmp1_redesign_76 28\n",
      "RC_4_20_nmp1_redesign_77 4\n",
      "RC_4_20_nmp1_redesign_78 20\n",
      "RC_4_20_nmp1_redesign_79 29\n"
     ]
    }
   ],
   "source": [
    "#sorting keys into clusters\n",
    "cluster_groups = defaultdict(lambda:[])\n",
    "for cluster_number,name in zip(clusters,names):\n",
    "    print(name, cluster_number)\n",
    "    cluster_groups[cluster_number].append(name)"
   ]
  },
  {
   "cell_type": "code",
   "execution_count": 14,
   "metadata": {},
   "outputs": [
    {
     "data": {
      "text/plain": [
       "1.0"
      ]
     },
     "execution_count": 14,
     "metadata": {},
     "output_type": "execute_result"
    }
   ],
   "source": [
    "pct_shared_interface_bonds(nets['RC_4_20_nmp1_redesign_37'],nets['RC_4_20_nmp1_redesign_49'])"
   ]
  },
  {
   "cell_type": "code",
   "execution_count": 31,
   "metadata": {},
   "outputs": [
    {
     "data": {
      "text/plain": [
       "[((29, 'ARG'), (25, 'SER')),\n",
       " ((25, 'SER'), (148, 'THR')),\n",
       " ((29, 'ARG'), (149, 'GLU'))]"
      ]
     },
     "execution_count": 31,
     "metadata": {},
     "output_type": "execute_result"
    }
   ],
   "source": [
    "nets['RC_4_20_nmp1_redesign_58']"
   ]
  },
  {
   "cell_type": "code",
   "execution_count": 15,
   "metadata": {},
   "outputs": [
    {
     "data": {
      "text/plain": [
       "[((129, 'SER'), (28, 'SER')),\n",
       " ((144, 'HIS'), (28, 'SER')),\n",
       " ((128, 'SER'), (144, 'HIS')),\n",
       " ((130, 'ARG'), (129, 'SER'))]"
      ]
     },
     "execution_count": 15,
     "metadata": {},
     "output_type": "execute_result"
    }
   ],
   "source": [
    "nets['RC_4_20_nmp1_redesign_37']"
   ]
  },
  {
   "cell_type": "code",
   "execution_count": 16,
   "metadata": {},
   "outputs": [
    {
     "data": {
      "text/plain": [
       "[((28, 'SER'), (129, 'SER')),\n",
       " ((144, 'HIS'), (28, 'SER')),\n",
       " ((128, 'SER'), (144, 'HIS'))]"
      ]
     },
     "execution_count": 16,
     "metadata": {},
     "output_type": "execute_result"
    }
   ],
   "source": [
    "nets['RC_4_20_nmp1_redesign_49']"
   ]
  },
  {
   "cell_type": "code",
   "execution_count": null,
   "metadata": {},
   "outputs": [],
   "source": []
  },
  {
   "cell_type": "code",
   "execution_count": null,
   "metadata": {},
   "outputs": [],
   "source": []
  },
  {
   "cell_type": "code",
   "execution_count": 24,
   "metadata": {},
   "outputs": [
    {
     "data": {
      "text/plain": [
       "defaultdict(<function __main__.<lambda>()>,\n",
       "            {0: ['RC_4_20_nmp1_redesign_01'],\n",
       "             1: ['RC_4_20_nmp1_redesign_02',\n",
       "              'RC_4_20_nmp1_redesign_05',\n",
       "              'RC_4_20_nmp1_redesign_08',\n",
       "              'RC_4_20_nmp1_redesign_17',\n",
       "              'RC_4_20_nmp1_redesign_27',\n",
       "              'RC_4_20_nmp1_redesign_55'],\n",
       "             2: ['RC_4_20_nmp1_redesign_03',\n",
       "              'RC_4_20_nmp1_redesign_14',\n",
       "              'RC_4_20_nmp1_redesign_64'],\n",
       "             3: ['RC_4_20_nmp1_redesign_04'],\n",
       "             4: ['RC_4_20_nmp1_redesign_06',\n",
       "              'RC_4_20_nmp1_redesign_07',\n",
       "              'RC_4_20_nmp1_redesign_09',\n",
       "              'RC_4_20_nmp1_redesign_10',\n",
       "              'RC_4_20_nmp1_redesign_12',\n",
       "              'RC_4_20_nmp1_redesign_18',\n",
       "              'RC_4_20_nmp1_redesign_19',\n",
       "              'RC_4_20_nmp1_redesign_20',\n",
       "              'RC_4_20_nmp1_redesign_21',\n",
       "              'RC_4_20_nmp1_redesign_22',\n",
       "              'RC_4_20_nmp1_redesign_24',\n",
       "              'RC_4_20_nmp1_redesign_28',\n",
       "              'RC_4_20_nmp1_redesign_29',\n",
       "              'RC_4_20_nmp1_redesign_31',\n",
       "              'RC_4_20_nmp1_redesign_34',\n",
       "              'RC_4_20_nmp1_redesign_36',\n",
       "              'RC_4_20_nmp1_redesign_39',\n",
       "              'RC_4_20_nmp1_redesign_40',\n",
       "              'RC_4_20_nmp1_redesign_43',\n",
       "              'RC_4_20_nmp1_redesign_44',\n",
       "              'RC_4_20_nmp1_redesign_48',\n",
       "              'RC_4_20_nmp1_redesign_50',\n",
       "              'RC_4_20_nmp1_redesign_51',\n",
       "              'RC_4_20_nmp1_redesign_52',\n",
       "              'RC_4_20_nmp1_redesign_53',\n",
       "              'RC_4_20_nmp1_redesign_56',\n",
       "              'RC_4_20_nmp1_redesign_59',\n",
       "              'RC_4_20_nmp1_redesign_60',\n",
       "              'RC_4_20_nmp1_redesign_63',\n",
       "              'RC_4_20_nmp1_redesign_66',\n",
       "              'RC_4_20_nmp1_redesign_67',\n",
       "              'RC_4_20_nmp1_redesign_72',\n",
       "              'RC_4_20_nmp1_redesign_73',\n",
       "              'RC_4_20_nmp1_redesign_75',\n",
       "              'RC_4_20_nmp1_redesign_77'],\n",
       "             5: ['RC_4_20_nmp1_redesign_11'],\n",
       "             6: ['RC_4_20_nmp1_redesign_13'],\n",
       "             7: ['RC_4_20_nmp1_redesign_15'],\n",
       "             8: ['RC_4_20_nmp1_redesign_16'],\n",
       "             9: ['RC_4_20_nmp1_redesign_23'],\n",
       "             10: ['RC_4_20_nmp1_redesign_25'],\n",
       "             11: ['RC_4_20_nmp1_redesign_26', 'RC_4_20_nmp1_redesign_57'],\n",
       "             12: ['RC_4_20_nmp1_redesign_30',\n",
       "              'RC_4_20_nmp1_redesign_61',\n",
       "              'RC_4_20_nmp1_redesign_69',\n",
       "              'RC_4_20_nmp1_redesign_70'],\n",
       "             13: ['RC_4_20_nmp1_redesign_32', 'RC_4_20_nmp1_redesign_47'],\n",
       "             14: ['RC_4_20_nmp1_redesign_33'],\n",
       "             15: ['RC_4_20_nmp1_redesign_35', 'RC_4_20_nmp1_redesign_74'],\n",
       "             16: ['RC_4_20_nmp1_redesign_37', 'RC_4_20_nmp1_redesign_49'],\n",
       "             17: ['RC_4_20_nmp1_redesign_38'],\n",
       "             18: ['RC_4_20_nmp1_redesign_41'],\n",
       "             19: ['RC_4_20_nmp1_redesign_42'],\n",
       "             20: ['RC_4_20_nmp1_redesign_45', 'RC_4_20_nmp1_redesign_78'],\n",
       "             21: ['RC_4_20_nmp1_redesign_46'],\n",
       "             22: ['RC_4_20_nmp1_redesign_54'],\n",
       "             23: ['RC_4_20_nmp1_redesign_58'],\n",
       "             24: ['RC_4_20_nmp1_redesign_62'],\n",
       "             25: ['RC_4_20_nmp1_redesign_65'],\n",
       "             26: ['RC_4_20_nmp1_redesign_68'],\n",
       "             27: ['RC_4_20_nmp1_redesign_71'],\n",
       "             28: ['RC_4_20_nmp1_redesign_76'],\n",
       "             29: ['RC_4_20_nmp1_redesign_79']})"
      ]
     },
     "execution_count": 24,
     "metadata": {},
     "output_type": "execute_result"
    }
   ],
   "source": [
    "cluster_groups"
   ]
  },
  {
   "cell_type": "code",
   "execution_count": 30,
   "metadata": {},
   "outputs": [
    {
     "name": "stdout",
     "output_type": "stream",
     "text": [
      "['RC_4_20_nmp1_redesign_01', 'RC_4_20_nmp1_redesign_04', 'RC_4_20_nmp1_redesign_11', 'RC_4_20_nmp1_redesign_13', 'RC_4_20_nmp1_redesign_15', 'RC_4_20_nmp1_redesign_16', 'RC_4_20_nmp1_redesign_23', 'RC_4_20_nmp1_redesign_25', 'RC_4_20_nmp1_redesign_33', 'RC_4_20_nmp1_redesign_38', 'RC_4_20_nmp1_redesign_41', 'RC_4_20_nmp1_redesign_42', 'RC_4_20_nmp1_redesign_46', 'RC_4_20_nmp1_redesign_54', 'RC_4_20_nmp1_redesign_58', 'RC_4_20_nmp1_redesign_62', 'RC_4_20_nmp1_redesign_65', 'RC_4_20_nmp1_redesign_68', 'RC_4_20_nmp1_redesign_71', 'RC_4_20_nmp1_redesign_76', 'RC_4_20_nmp1_redesign_79', 'RC_4_20_nmp1_redesign_26', 'RC_4_20_nmp1_redesign_57', 'RC_4_20_nmp1_redesign_32', 'RC_4_20_nmp1_redesign_47', 'RC_4_20_nmp1_redesign_35', 'RC_4_20_nmp1_redesign_74', 'RC_4_20_nmp1_redesign_37', 'RC_4_20_nmp1_redesign_49', 'RC_4_20_nmp1_redesign_45', 'RC_4_20_nmp1_redesign_78', 'RC_4_20_nmp1_redesign_03', 'RC_4_20_nmp1_redesign_14', 'RC_4_20_nmp1_redesign_64', 'RC_4_20_nmp1_redesign_30', 'RC_4_20_nmp1_redesign_61', 'RC_4_20_nmp1_redesign_69', 'RC_4_20_nmp1_redesign_70', 'RC_4_20_nmp1_redesign_02', 'RC_4_20_nmp1_redesign_05', 'RC_4_20_nmp1_redesign_08', 'RC_4_20_nmp1_redesign_17', 'RC_4_20_nmp1_redesign_27', 'RC_4_20_nmp1_redesign_55', 'RC_4_20_nmp1_redesign_06', 'RC_4_20_nmp1_redesign_07', 'RC_4_20_nmp1_redesign_09', 'RC_4_20_nmp1_redesign_10', 'RC_4_20_nmp1_redesign_12', 'RC_4_20_nmp1_redesign_18', 'RC_4_20_nmp1_redesign_19', 'RC_4_20_nmp1_redesign_20', 'RC_4_20_nmp1_redesign_21', 'RC_4_20_nmp1_redesign_22', 'RC_4_20_nmp1_redesign_24', 'RC_4_20_nmp1_redesign_28', 'RC_4_20_nmp1_redesign_29', 'RC_4_20_nmp1_redesign_31', 'RC_4_20_nmp1_redesign_34', 'RC_4_20_nmp1_redesign_36', 'RC_4_20_nmp1_redesign_39', 'RC_4_20_nmp1_redesign_40', 'RC_4_20_nmp1_redesign_43', 'RC_4_20_nmp1_redesign_44', 'RC_4_20_nmp1_redesign_48', 'RC_4_20_nmp1_redesign_50', 'RC_4_20_nmp1_redesign_51', 'RC_4_20_nmp1_redesign_52', 'RC_4_20_nmp1_redesign_53', 'RC_4_20_nmp1_redesign_56', 'RC_4_20_nmp1_redesign_59', 'RC_4_20_nmp1_redesign_60', 'RC_4_20_nmp1_redesign_63', 'RC_4_20_nmp1_redesign_66', 'RC_4_20_nmp1_redesign_67', 'RC_4_20_nmp1_redesign_72', 'RC_4_20_nmp1_redesign_73', 'RC_4_20_nmp1_redesign_75', 'RC_4_20_nmp1_redesign_77']\n"
     ]
    },
    {
     "data": {
      "image/png": "[encoded data removed]",
      "text/plain": [
       "<Figure size 432x288 with 2 Axes>"
      ]
     },
     "metadata": {
      "needs_background": "light"
     },
     "output_type": "display_data"
    }
   ],
   "source": [
    "cluster_sorted_names = []\n",
    "for clustered_names in sorted(cluster_groups.values(),key=lambda x: len(x)):\n",
    "    cluster_sorted_names.extend(clustered_names)\n",
    "print(cluster_sorted_names)\n",
    "\n",
    "clustered_net_pair_similarity_matrix = np.zeros([len(nets),len(nets)])\n",
    "\n",
    "for i,k1 in enumerate(cluster_sorted_names):\n",
    "    for j,k2 in enumerate(cluster_sorted_names):\n",
    "        clustered_net_pair_similarity_matrix[i,j] = pct_shared_interface_bonds(nets[k1],nets[k2])\n",
    "\n",
    "        \n",
    "plt.imshow(clustered_net_pair_similarity_matrix)\n",
    "plt.colorbar()\n",
    "plt.show()"
   ]
  },
  {
   "cell_type": "code",
   "execution_count": null,
   "metadata": {},
   "outputs": [],
   "source": [
    "#ok, there's 29 clusters (of designs with identical cross-interface bonds)\n",
    "#This means there's a theoretical maximum of 29 different designs\n",
    "\n",
    "#how does this compare to the full set pre-design?\n",
    "\n",
    "#I'll do that later"
   ]
  },
  {
   "cell_type": "code",
   "execution_count": null,
   "metadata": {},
   "outputs": [],
   "source": []
  }
 ],
 "metadata": {
  "kernelspec": {
   "display_name": "pyro",
   "language": "python",
   "name": "pyro"
  },
  "language_info": {
   "codemirror_mode": {
    "name": "ipython",
    "version": 3
   },
   "file_extension": ".py",
   "mimetype": "text/x-python",
   "name": "python",
   "nbconvert_exporter": "python",
   "pygments_lexer": "ipython3",
   "version": "3.7.3"
  }
 },
 "nbformat": 4,
 "nbformat_minor": 4
}
