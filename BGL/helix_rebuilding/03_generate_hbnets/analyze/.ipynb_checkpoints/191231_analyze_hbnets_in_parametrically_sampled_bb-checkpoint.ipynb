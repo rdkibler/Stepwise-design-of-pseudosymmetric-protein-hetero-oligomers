{
 "cells": [
  {
   "cell_type": "code",
   "execution_count": 79,
   "metadata": {},
   "outputs": [],
   "source": [
    "import glob\n",
    "import re\n",
    "from matplotlib import pyplot as plt\n",
    "import tqdm\n",
    "import numpy as np"
   ]
  },
  {
   "cell_type": "code",
   "execution_count": 122,
   "metadata": {},
   "outputs": [],
   "source": [
    "pdbs = glob.glob(\"../output/*/*/*.pdb\")"
   ]
  },
  {
   "cell_type": "code",
   "execution_count": 123,
   "metadata": {},
   "outputs": [
    {
     "data": {
      "text/plain": [
       "111057"
      ]
     },
     "execution_count": 123,
     "metadata": {},
     "output_type": "execute_result"
    }
   ],
   "source": [
    "len(pdbs)"
   ]
  },
  {
   "cell_type": "code",
   "execution_count": 99,
   "metadata": {},
   "outputs": [],
   "source": [
    "class network_container:\n",
    "    def __init__(self, path):\n",
    "        self.path = path\n",
    "        self.networks = []\n",
    "    def add(self, line):\n",
    "        net_name,net,size,score,num_hbonds,capacity,num_unsat_Hpol,interf_hbs,helices_contacted = line.split()\n",
    "        self.networks.append((net,float(score),float(capacity),int(interf_hbs)))\n",
    "    def scores(self):\n",
    "        return [net[1] for net in self.networks]\n",
    "    def num_networks(self):\n",
    "        return len(self.networks)\n",
    "    "
   ]
  },
  {
   "cell_type": "code",
   "execution_count": 144,
   "metadata": {},
   "outputs": [
    {
     "name": "stderr",
     "output_type": "stream",
     "text": [
      "/home/rdkibler/.conda/envs/pyro/lib/python3.7/site-packages/ipykernel_launcher.py:2: TqdmDeprecationWarning: This function will be removed in tqdm==5.0.0\n",
      "Please use `tqdm.notebook.tqdm` instead of `tqdm.tqdm_notebook`\n",
      "  \n"
     ]
    },
    {
     "data": {
      "application/vnd.jupyter.widget-view+json": {
       "model_id": "8bb37950924c4f5ab1cb7e87f64f1267",
       "version_major": 2,
       "version_minor": 0
      },
      "text/plain": [
       "HBox(children=(FloatProgress(value=0.0, max=10000.0), HTML(value='')))"
      ]
     },
     "metadata": {},
     "output_type": "display_data"
    },
    {
     "name": "stdout",
     "output_type": "stream",
     "text": [
      "\n"
     ]
    }
   ],
   "source": [
    "all_pdb_networks = []\n",
    "for pdb in tqdm.tqdm_notebook(pdbs[:10000]):\n",
    "    with open(pdb,'r') as p:\n",
    "        nc = network_container(pdb)\n",
    "        for line in p:\n",
    "            if line[:9] == \"#network_\":\n",
    "                nc.add(line)\n",
    "                \n",
    "        all_pdb_networks.append(nc)"
   ]
  },
  {
   "cell_type": "code",
   "execution_count": 145,
   "metadata": {},
   "outputs": [],
   "source": [
    "def plot_scores(all_pdb_networks, bins=400):\n",
    "    scores = [y for x in all_pdb_networks for y in x.scores()]\n",
    "    fig = plt.figure()\n",
    "    ax = fig.add_subplot()\n",
    "\n",
    "    hist = ax.hist(scores,bins=np.linspace(min(scores),max(scores),bins))\n",
    "\n",
    "    ax.set_yscale('log')\n",
    "\n",
    "    plt.show()"
   ]
  },
  {
   "cell_type": "code",
   "execution_count": 155,
   "metadata": {},
   "outputs": [],
   "source": [
    "def plot_score_vs_connectivity(all_pdb_networks):\n",
    "    scores = [y for x in all_pdb_networks for y in x.scores()]\n",
    "    connectivity = [y[2] for x in all_pdb_networks for y in x.networks]\n",
    "    fig = plt.figure()\n",
    "    ax = fig.add_subplot()\n",
    "\n",
    "    _ = ax.scatter(x=scores,y=connectivity)\n",
    "\n",
    "\n",
    "    plt.show()"
   ]
  },
  {
   "cell_type": "code",
   "execution_count": null,
   "metadata": {},
   "outputs": [],
   "source": []
  },
  {
   "cell_type": "code",
   "execution_count": 146,
   "metadata": {},
   "outputs": [
    {
     "data": {
      "image/png": "[encoded data removed]",
      "text/plain": [
       "<Figure size 432x288 with 1 Axes>"
      ]
     },
     "metadata": {
      "needs_background": "light"
     },
     "output_type": "display_data"
    }
   ],
   "source": [
    "plot_scores(all_pdb_networks,bins=500)"
   ]
  },
  {
   "cell_type": "code",
   "execution_count": 147,
   "metadata": {},
   "outputs": [],
   "source": [
    "single_network_pdbs = [x for x in all_pdb_networks if x.num_networks() == 1]\n",
    "double_network_pdbs = [x for x in all_pdb_networks if x.num_networks() == 2]\n",
    "triple_network_pdbs = [x for x in all_pdb_networks if x.num_networks() == 3]"
   ]
  },
  {
   "cell_type": "code",
   "execution_count": 148,
   "metadata": {},
   "outputs": [
    {
     "name": "stdout",
     "output_type": "stream",
     "text": [
      "6582\n",
      "3015\n",
      "403\n"
     ]
    }
   ],
   "source": [
    "print(len(single_network_pdbs))\n",
    "print(len(double_network_pdbs))\n",
    "print(len(triple_network_pdbs))"
   ]
  },
  {
   "cell_type": "code",
   "execution_count": 149,
   "metadata": {},
   "outputs": [
    {
     "data": {
      "text/plain": [
       "10000"
      ]
     },
     "execution_count": 149,
     "metadata": {},
     "output_type": "execute_result"
    }
   ],
   "source": [
    "len(all_pdb_networks)"
   ]
  },
  {
   "cell_type": "code",
   "execution_count": 150,
   "metadata": {},
   "outputs": [
    {
     "data": {
      "image/png": "[encoded data removed]",
      "text/plain": [
       "<Figure size 432x288 with 1 Axes>"
      ]
     },
     "metadata": {
      "needs_background": "light"
     },
     "output_type": "display_data"
    }
   ],
   "source": [
    "plot_scores(single_network_pdbs,bins=500)"
   ]
  },
  {
   "cell_type": "code",
   "execution_count": 151,
   "metadata": {},
   "outputs": [
    {
     "data": {
      "image/png": "[encoded data removed]",
      "text/plain": [
       "<Figure size 432x288 with 1 Axes>"
      ]
     },
     "metadata": {
      "needs_background": "light"
     },
     "output_type": "display_data"
    }
   ],
   "source": [
    "plot_scores(double_network_pdbs,bins=100)"
   ]
  },
  {
   "cell_type": "code",
   "execution_count": 152,
   "metadata": {},
   "outputs": [
    {
     "data": {
      "image/png": "[encoded data removed]",
      "text/plain": [
       "<Figure size 432x288 with 1 Axes>"
      ]
     },
     "metadata": {
      "needs_background": "light"
     },
     "output_type": "display_data"
    }
   ],
   "source": [
    "plot_scores(triple_network_pdbs, bins=50)"
   ]
  },
  {
   "cell_type": "code",
   "execution_count": 156,
   "metadata": {},
   "outputs": [
    {
     "data": {
      "image/png": "[encoded data removed]",
      "text/plain": [
       "<Figure size 432x288 with 1 Axes>"
      ]
     },
     "metadata": {
      "needs_background": "light"
     },
     "output_type": "display_data"
    }
   ],
   "source": [
    "plot_score_vs_connectivity(all_pdb_networks)"
   ]
  },
  {
   "cell_type": "code",
   "execution_count": 161,
   "metadata": {},
   "outputs": [
    {
     "name": "stdout",
     "output_type": "stream",
     "text": [
      "20.091969999999996\n",
      "20.00673\n",
      "19.36018\n",
      "19.30891\n",
      "18.80441\n",
      "17.9908\n",
      "17.90734\n",
      "17.887140000000002\n",
      "17.49578\n",
      "17.29248\n",
      "17.22933\n",
      "17.141689999999997\n",
      "17.13102\n",
      "17.06978\n",
      "16.94193\n",
      "16.77179\n",
      "16.75554\n",
      "16.240109999999998\n",
      "16.21466\n",
      "15.65762\n",
      "15.65479\n",
      "15.40789\n",
      "14.86502\n",
      "14.812840000000001\n",
      "14.40423\n",
      "13.81438\n",
      "13.73614\n",
      "13.5451\n",
      "13.50602\n",
      "13.477979999999999\n",
      "13.46754\n",
      "13.45196\n",
      "13.346456\n",
      "13.265516\n",
      "13.23002\n",
      "13.20503\n",
      "12.752659999999999\n",
      "12.52487\n",
      "12.4985\n",
      "12.48981\n",
      "12.48606\n",
      "12.46519\n",
      "12.39206\n",
      "12.32606\n",
      "12.21524\n",
      "12.203740000000002\n",
      "12.192229999999999\n",
      "12.04719\n",
      "12.0358\n",
      "12.01043\n",
      "11.93658\n",
      "11.893116\n",
      "11.87963\n",
      "11.86113\n",
      "11.687289999999999\n",
      "11.66316\n",
      "11.6608\n",
      "11.633841\n",
      "11.56384\n",
      "11.4487\n",
      "11.446370000000002\n",
      "11.43801\n",
      "11.17524\n",
      "11.13211\n",
      "11.1019\n",
      "10.977870000000001\n",
      "10.97062\n",
      "10.9572\n",
      "10.95328\n",
      "10.816301000000001\n",
      "10.752120000000001\n",
      "10.73513\n",
      "10.685439999999998\n",
      "10.68403\n",
      "10.62787\n",
      "10.58212\n",
      "10.541553\n",
      "10.519649999999999\n",
      "10.51753\n",
      "10.50831\n",
      "10.45184\n",
      "10.42193\n",
      "10.409401\n",
      "10.401510000000002\n",
      "10.394881\n",
      "10.35754\n",
      "10.346979999999999\n",
      "10.29056\n",
      "10.15326\n",
      "10.150220000000001\n",
      "9.94393\n",
      "9.92741\n",
      "9.92081\n",
      "9.88205\n",
      "9.8209\n",
      "9.696159999999999\n",
      "9.6187\n",
      "9.60315\n",
      "9.5745\n",
      "9.53165\n",
      "9.50858\n",
      "9.418800000000001\n",
      "9.37205\n",
      "9.29267\n",
      "9.289241\n",
      "9.248909999999999\n",
      "9.19277\n",
      "9.16489\n",
      "9.13428\n",
      "9.12279\n",
      "9.071259999999999\n",
      "9.05501\n",
      "9.03059\n",
      "8.997539999999999\n",
      "8.99035\n",
      "8.975850000000001\n",
      "8.9642\n",
      "8.960939999999999\n",
      "8.94365\n",
      "8.939630000000001\n",
      "8.91803\n",
      "8.9169\n",
      "8.90175\n",
      "8.7828\n",
      "8.68252\n",
      "8.65536\n",
      "8.64229\n",
      "8.61036\n",
      "8.60341\n",
      "8.59338\n",
      "8.54119\n",
      "8.52496\n",
      "8.51806\n",
      "8.499199999999998\n",
      "8.497679999999999\n",
      "8.43422\n",
      "8.39418\n",
      "8.380279999999999\n",
      "8.35126\n",
      "8.31077\n",
      "8.27147\n",
      "8.25141\n",
      "8.25054\n",
      "8.18411\n",
      "8.093630000000001\n",
      "8.09112\n",
      "8.08295\n",
      "8.07342\n",
      "8.05708\n",
      "8.04828\n",
      "8.03103\n",
      "8.02958\n",
      "7.986829999999999\n",
      "7.9864\n",
      "7.96886\n",
      "7.92851\n",
      "7.92206\n",
      "7.91308\n",
      "7.89279\n",
      "7.8477500000000004\n",
      "7.829420000000001\n",
      "7.817119999999999\n",
      "7.775040000000001\n",
      "7.69421\n",
      "7.6714\n",
      "7.644775\n",
      "7.63311\n",
      "7.6322399999999995\n",
      "7.60307\n",
      "7.507620000000001\n",
      "7.50619\n",
      "7.49558\n",
      "7.4907900000000005\n",
      "7.48271\n",
      "7.4807999999999995\n",
      "7.4777000000000005\n",
      "7.475732000000001\n",
      "7.46879\n",
      "7.4627799999999995\n",
      "7.4428980000000005\n",
      "7.42393\n",
      "7.41624\n",
      "7.40877\n",
      "7.40365\n",
      "7.39588\n",
      "7.39581\n",
      "7.334608000000001\n",
      "7.32039\n",
      "7.3003599999999995\n",
      "7.29712\n",
      "7.291589999999999\n",
      "7.2895199999999996\n",
      "7.250748\n",
      "7.2328600000000005\n",
      "7.23175\n",
      "7.18918\n",
      "7.17188\n",
      "7.1671700000000005\n",
      "7.1631599999999995\n",
      "7.15818\n",
      "7.15792\n",
      "7.122920000000001\n",
      "7.12143\n",
      "7.120400000000001\n",
      "7.11505\n",
      "7.1122499999999995\n",
      "7.109047\n",
      "7.07597\n",
      "7.059458000000001\n",
      "7.0461\n",
      "7.041729999999999\n",
      "6.99096\n",
      "6.97518\n",
      "6.96518\n",
      "6.94683\n",
      "6.94458\n",
      "6.93061\n",
      "6.89181\n",
      "6.885719999999999\n",
      "6.88297\n",
      "6.877190000000001\n",
      "6.8740499999999995\n",
      "6.852130000000001\n",
      "6.82025\n",
      "6.81337\n",
      "6.807360000000001\n",
      "6.80109\n",
      "6.79912\n",
      "6.7964\n",
      "6.784140000000001\n",
      "6.783619999999999\n",
      "6.76835\n",
      "6.75091\n",
      "6.745233\n",
      "6.72338\n",
      "6.68552\n",
      "6.676699999999999\n",
      "6.67613\n",
      "6.6732499999999995\n",
      "6.67\n",
      "6.66095\n",
      "6.640750000000001\n",
      "6.59992\n",
      "6.57078\n",
      "6.56326\n",
      "6.55551\n",
      "6.552479999999999\n",
      "6.52848\n",
      "6.51347\n",
      "6.51221\n",
      "6.44673\n",
      "6.445259999999999\n",
      "6.44239\n",
      "6.4300999999999995\n",
      "6.42786\n",
      "6.4200800000000005\n",
      "6.4122\n",
      "6.33783\n",
      "6.32059\n",
      "6.30727\n",
      "6.2923\n",
      "6.2445699999999995\n",
      "6.1686499999999995\n",
      "6.162356\n",
      "6.126103\n",
      "6.113429999999999\n",
      "6.09738\n",
      "6.09326\n",
      "6.086320000000001\n",
      "6.08168\n",
      "6.06332\n",
      "6.019987\n",
      "5.99671\n",
      "5.991059999999999\n",
      "5.9896899999999995\n",
      "5.985626\n",
      "5.9824\n",
      "5.977046\n",
      "5.90632\n",
      "5.890029999999999\n",
      "5.88122\n",
      "5.87315\n",
      "5.86373\n",
      "5.85871\n",
      "5.825137\n",
      "5.804768\n",
      "5.797680000000001\n",
      "5.73762\n",
      "5.677080999999999\n",
      "5.65751\n",
      "5.643217\n",
      "5.6216216\n",
      "5.567305\n",
      "5.5336\n",
      "5.528292\n",
      "5.527965\n",
      "5.525593\n",
      "5.52053\n",
      "5.469182\n",
      "5.454574\n",
      "5.449972\n",
      "5.447138\n",
      "5.44329\n",
      "5.419840000000001\n",
      "5.406790000000001\n",
      "5.38225\n",
      "5.36874\n",
      "5.351850000000001\n",
      "5.344105\n",
      "5.32465\n",
      "5.312991\n",
      "5.312329999999999\n",
      "5.309177\n",
      "5.30897\n",
      "5.29649\n",
      "5.292199\n",
      "5.246026\n",
      "5.24149\n",
      "5.23832\n",
      "5.213769\n",
      "5.1793059999999995\n",
      "5.173891\n",
      "5.16206\n",
      "5.1066\n",
      "5.09728\n",
      "5.076376\n",
      "5.060239\n",
      "5.0314689999999995\n",
      "5.017249\n",
      "4.96389\n",
      "4.955839\n",
      "4.946489\n",
      "4.944152\n",
      "4.9345099999999995\n",
      "4.867173\n",
      "4.824839000000001\n",
      "4.813309\n",
      "4.79754\n",
      "4.7933\n",
      "4.78116\n",
      "4.776968\n",
      "4.741676\n",
      "4.67137\n",
      "4.615025999999999\n",
      "4.611579\n",
      "4.601985\n",
      "4.585636\n",
      "4.58184\n",
      "4.58066\n",
      "4.56902\n",
      "4.5568670000000004\n",
      "4.555312\n",
      "4.546508\n",
      "4.533823\n",
      "4.513716\n",
      "4.4926\n",
      "4.4709319999999995\n",
      "4.465338\n",
      "4.418298\n",
      "4.34705\n",
      "4.333989\n",
      "4.319313\n",
      "4.262827\n",
      "4.261839999999999\n",
      "4.2574541\n",
      "4.254822\n",
      "4.202073\n",
      "4.185333\n",
      "4.1790780000000005\n",
      "4.16794\n",
      "4.139064100000001\n",
      "4.13499\n",
      "4.122893\n",
      "4.019243\n",
      "3.9662800000000002\n",
      "3.914497\n",
      "3.760323\n",
      "3.7538129999999996\n",
      "3.6814270000000002\n",
      "3.6808929999999997\n",
      "3.6464241\n",
      "3.641\n",
      "3.6289100000000003\n",
      "3.590327\n",
      "3.585194\n",
      "3.5201541\n",
      "3.383053\n",
      "3.3554009999999996\n",
      "3.328243\n",
      "3.1744799999999995\n",
      "2.99743\n",
      "2.734488\n",
      "2.566554\n",
      "2.3772706\n",
      "2.2324689999999996\n",
      "2.2101966\n",
      "1.9995200000000002\n",
      "1.9499870000000001\n",
      "1.9082260000000002\n",
      "1.814395\n",
      "1.7388856000000001\n",
      "1.5987897000000002\n",
      "1.356804\n"
     ]
    }
   ],
   "source": [
    "for pdb in sorted(triple_network_pdbs, reverse=True, key=lambda x: sum([y[1] for y in x.networks])):\n",
    "    print(sum([y[1] for y in pdb.networks]))"
   ]
  },
  {
   "cell_type": "code",
   "execution_count": 163,
   "metadata": {},
   "outputs": [],
   "source": [
    "with open(\"triple_network_pdbs\", 'w') as f:\n",
    "    for pdb in sorted(triple_network_pdbs, reverse=True, key=lambda x: sum([y[1] for y in x.networks])):\n",
    "        f.write(pdb.path + \" \")\n",
    "        for net in pdb.networks:\n",
    "            f.write(str(net[1]) + \" \" + str(net[2]) + \" \")\n",
    "        f.write(\"\\n\")\n",
    "\n",
    "with open(\"double_network_pdbs\", 'w') as f:\n",
    "    for pdb in sorted(double_network_pdbs, reverse=True, key=lambda x: sum([y[1] for y in x.networks])):\n",
    "        f.write(pdb.path + \" \")\n",
    "        for net in pdb.networks:\n",
    "            f.write(str(net[1]) + \" \" + str(net[2]) + \" \")\n",
    "        f.write(\"\\n\")\n",
    "        \n",
    "with open(\"single_network_pdbs\", 'w') as f:\n",
    "    for pdb in sorted(single_network_pdbs, reverse=True, key=lambda x: sum([y[1] for y in x.networks])):\n",
    "        f.write(pdb.path + \" \")\n",
    "        for net in pdb.networks:\n",
    "            f.write(str(net[1]) + \" \" + str(net[2]) + \" \")\n",
    "        f.write(\"\\n\")"
   ]
  },
  {
   "cell_type": "code",
   "execution_count": null,
   "metadata": {},
   "outputs": [],
   "source": []
  }
 ],
 "metadata": {
  "kernelspec": {
   "display_name": "Python [conda env:pyro]",
   "language": "python",
   "name": "conda-env-pyro-py"
  },
  "language_info": {
   "codemirror_mode": {
    "name": "ipython",
    "version": 3
   },
   "file_extension": ".py",
   "mimetype": "text/x-python",
   "name": "python",
   "nbconvert_exporter": "python",
   "pygments_lexer": "ipython3",
   "version": "3.7.3"
  }
 },
 "nbformat": 4,
 "nbformat_minor": 2
}
